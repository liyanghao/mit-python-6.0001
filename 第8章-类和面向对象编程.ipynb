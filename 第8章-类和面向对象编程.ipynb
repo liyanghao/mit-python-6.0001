{
 "cells": [
  {
   "cell_type": "markdown",
   "id": "4000db1e",
   "metadata": {},
   "source": [
    "现在我们将注意力转向最后一个与Python编程相关的主题：围绕模块和数据抽象，使用类来组织程序。\n",
    "\n",
    "有许多不同的方式来使用类。在本书中，我们强调的是在**面向对象编程**的环境中使用它们。面向对象编程的关键是**把对象看作是既有数据又有数据操作方法的集合。\n",
    "\n",
    "面向对象编程的基本思想已经有40多年的历史了，并且在过去的25年左右被广泛接受和实践。在20世纪70年代中期，人们开始撰写文章，解释这种编程方法的好处。大约在同一时间，编程语言`SmallTalk`(施乐PARC)和`CLU`(麻省理工学院)为这些想法提供了语言支持。但是，直到`c++`和`Java`的出现，它才真正在实践中起飞。\n",
    "\n",
    "在本书的大部分内容中，我们一直隐含地依赖于面向对象编程。回到2.1.1节，我们说过“**对象是Python程序操作的核心。每个对象都有一个定义程序可以用该对象做的事情的类型**。”从第2章开始，我们就一直依赖于`list`和`dict`等内置类型以及跟这些类型相关的方法。但是，正如编程语言的设计者只能构建一小部分有用的函数一样，他们也只能构建一小部分有用的类型。我们已经研究了一种允许程序员定义新函数的机制。现在我们来看一种允许程序员定义新类型的机制。\n",
    "\n",
    "## 8.1 抽象数据类型和类\n",
    "抽象数据类型的概念非常简单。抽象数据类型是一组对象和这些对象上的操作。它们被绑定在一起，这样就可以将对象从程序的一个部分传递到另一个部分，这样做不仅提供了对对象数据属性的访问，还提供了对操作的访问，从而使操作数据变得更容易。\n",
    "\n",
    "这些操作的规范定义了抽象数据类型和程序其余部分之间的接口。接口定义了操作的行为，即它们做什么，而不是如何做。因此，该接口提供了一个抽象屏障，将程序的其余部分与提供对类型抽象的实现所涉及的数据结构、算法和代码隔离开来。\n",
    "\n",
    "**编程是以一种方便修改的方式管理复杂性**。有两种强大的机制可以实现这一点：**分解**和**抽象**。分解是在程序中创建结构，抽象是抑制细节。关键是要隐藏适当的细节。这就是**数据抽象**的切入点。可以创建提供方便抽象的特定领域类型。理想情况下，这些类型可以捕获跟程序的生命周期相关的概念。如果一个人通过设计几个月甚至几十年后的相关类型来开始编程，那么他在维护软件方面就有很大的优势。\n",
    "\n",
    "在本书中，我们一直在使用抽象数据类型。我们编写了使用整数、列表、浮点数、字符串和字典的程序，而没有考虑这些类型可能如何实现。\n",
    "\n",
    "在Python中，使用类实现数据抽象。图8.1包含一个类定义，它提供了一个名为`IntSet`的整数集抽象的简单实现。"
   ]
  },
  {
   "cell_type": "code",
   "execution_count": 1,
   "id": "0405db36",
   "metadata": {},
   "outputs": [],
   "source": [
    "class IntSet(object):\n",
    "    \"\"\"An intSet is a set of integers\"\"\"\n",
    "    #Information about the implementation (not the abstraction)\n",
    "    #Value of the set is represented by a list of ints, self.vals.\n",
    "    #Each int in the set occurs in self.vals exactly once.\n",
    "    def __init__(self):\n",
    "        \"\"\"Create an empty set of integers\"\"\"\n",
    "        self.vals = []\n",
    "    def insert(self, e):\n",
    "        \"\"\"Assumes e is an integer and inserts e into self\"\"\"\n",
    "        if e not in self.vals:\n",
    "            self.vals.append(e)\n",
    "    def member(self, e):\n",
    "        \"\"\"Assumes e is an integer\n",
    "        Returns True if e is in self, and False otherwise\"\"\"\n",
    "        return e in self.vals\n",
    "    def remove(self, e):\n",
    "        \"\"\"Assumes e is an integer and removes e from self\n",
    "        Raises ValueError if e is not in self\"\"\"\n",
    "        try:\n",
    "            self.vals.remove(e)\n",
    "        except:\n",
    "            raise ValueError(str(e) + ' not found')\n",
    "    def getMembers(self):\n",
    "        \"\"\"Returns a list containing the elements of self.\n",
    "        Nothing can be assumed about the order of the elements\"\"\"\n",
    "        return self.vals[:]\n",
    "    def __str__(self):\n",
    "        \"\"\"Returns a string representation of self\"\"\"\n",
    "        self.vals.sort()\n",
    "        result = ''\n",
    "        for e in self.vals:\n",
    "            result = result + str(e) + ','\n",
    "        return '{' + result[:-1] + '}' #-1 omits trailing comma"
   ]
  },
  {
   "cell_type": "markdown",
   "id": "3900e23e",
   "metadata": {},
   "source": [
    "类定义创建一个类型为`type`的对象，并将一组类型为`instancemethod`的对象与该类对象关联起来。例如，表达式`IntSet.insert`是指在类`IntSet`的定义中定义的方法`insert`。代码："
   ]
  },
  {
   "cell_type": "code",
   "execution_count": 4,
   "id": "e91ec7c7",
   "metadata": {},
   "outputs": [
    {
     "name": "stdout",
     "output_type": "stream",
     "text": [
      "<class 'type'> <class 'function'>\n"
     ]
    }
   ],
   "source": [
    "print(type(IntSet), type(IntSet.insert))"
   ]
  },
  {
   "cell_type": "markdown",
   "id": "dd81ba1c",
   "metadata": {},
   "source": [
    "请注意：类定义顶部的文档字符串(\"\"\"括起来的注释)描述的是类提供的抽象，而不是关于类如何实现的信息。相反，文档字符串下面的注释包含关于实现的信息。该信息针对的是那些可能想要修改类的实现或构建子类的程序员，而不是那些可能想要使用抽象的程序员。\n",
    "\n",
    "当函数定义在类定义中出现时，定义的函数被称为**方法**并关联到该类。这些方法有时被称为**类的方法属性**。如果现在这看起来让人困惑，不要担心。在本章的后面，我们将对这个话题有更多的讨论。\n",
    "\n",
    "类支持两种操作:\n",
    "- 实例化用于创建类的实例。\n",
    "\n",
    "  例如，语句`s = IntSet()`创建了一个类型为`IntSet`的新对象。这个对象被称为`IntSet`的一个实例。\n",
    "\n",
    "- 属性引用使用点符号来访问与类相关的属性。\n",
    "\n",
    "  例如，`s.member`引用与类型为`IntSet`的实例`s`相关联的方法`member`。\n",
    "  \n",
    "每个类定义都以保留字`class`开头，后跟类的名称以及它与其他类之间的关系的一些信息。在本例中，第一行表示`IntSet`是`object`的子类。现在，忽略子类的含义。我们很快就会讲到。\n",
    "\n",
    "正如我们将看到的，Python有许多**特殊的方法名**，它们以两个下划线开始和结束。\n",
    "\n",
    "我们首先要看的是`__init__`。每当一个类被实例化时，都会调用该类中定义的`__init__方法`。当执行如下代码时："
   ]
  },
  {
   "cell_type": "code",
   "execution_count": 5,
   "id": "61c6caae",
   "metadata": {},
   "outputs": [],
   "source": [
    "s = IntSet()"
   ]
  },
  {
   "cell_type": "markdown",
   "id": "afbea8d8",
   "metadata": {},
   "source": [
    "解释器将创建一个类型为IntSet的新实例，然后调用`IntSet.__init__`，将新创建的对象作为绑定到形式形参`self`的实际形参。当调用`IntSet.__init__`创建`vals`：一个`list`类型的对象，它成为新创建的IntSet类型实例的一部分。(列表是使用现在大家熟悉的符号[]创建的，它只是list()的缩写。)这个列表称为IntSet实例的数据属性。请注意，每个IntSet类型的对象都有一个不同的val列表。"
   ]
  }
 ],
 "metadata": {
  "kernelspec": {
   "display_name": "Python 3 (ipykernel)",
   "language": "python",
   "name": "python3"
  },
  "language_info": {
   "codemirror_mode": {
    "name": "ipython",
    "version": 3
   },
   "file_extension": ".py",
   "mimetype": "text/x-python",
   "name": "python",
   "nbconvert_exporter": "python",
   "pygments_lexer": "ipython3",
   "version": "3.9.6"
  }
 },
 "nbformat": 4,
 "nbformat_minor": 5
}
