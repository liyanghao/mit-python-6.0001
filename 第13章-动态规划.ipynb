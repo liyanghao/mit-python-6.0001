{
 "cells": [
  {
   "cell_type": "markdown",
   "id": "38937939",
   "metadata": {},
   "source": [
    "## 13.2 动态规划求解0/1背包问题\n",
    "`0/1`背包问题是我们在第12章里介绍过的优化问题之一。回顾一下，我们介绍了一个复杂度为`O(nlog n)`的贪心算法，但不保证能找到一个最优解。我们还介绍了一个能保证找到最优解的暴力算法，但复杂度为指数级。最后，我们讨论了“**该问题本质上是关于输入大小为指数级的**”这一事实。最坏情形下，一个人不查看所有可能的答案是不可能找出最优解的。\n",
    "\n",
    "幸运的是，情形并没有那么糟。动态规划提供了一种在合理时间内解决大部分0/1背包问题的实践解。作为推导这样一个解的第一步，我们从基于穷尽枚举法的一个指数级的解开始。关键思想是：**通过构建一个可枚举所有满足重量约束的有根的二叉树来探索可能的解空间**。"
   ]
  },
  {
   "cell_type": "code",
   "execution_count": null,
   "id": "ad5e643a",
   "metadata": {},
   "outputs": [],
   "source": []
  }
 ],
 "metadata": {
  "kernelspec": {
   "display_name": "Python 3 (ipykernel)",
   "language": "python",
   "name": "python3"
  },
  "language_info": {
   "codemirror_mode": {
    "name": "ipython",
    "version": 3
   },
   "file_extension": ".py",
   "mimetype": "text/x-python",
   "name": "python",
   "nbconvert_exporter": "python",
   "pygments_lexer": "ipython3",
   "version": "3.9.6"
  }
 },
 "nbformat": 4,
 "nbformat_minor": 5
}
