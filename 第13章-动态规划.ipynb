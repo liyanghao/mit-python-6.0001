{
 "cells": [
  {
   "cell_type": "markdown",
   "id": "e6ed860b",
   "metadata": {},
   "source": [
    "## 13.2 动态规划求解0/1背包问题\n",
    "`0/1`背包问题是我们在第12章里介绍过的优化问题之一。回顾一下，我们介绍了一个复杂度为`O(nlog n)`的贪心算法，但不保证能找到一个最优解。我们还介绍了一个能保证找到最优解的暴力算法，但复杂度为指数级。最后，我们讨论了“**该问题本质上是关于输入大小为指数级的**”这一事实。最坏情形下，一个人不查看所有可能的答案是不可能找出最优解的。\n",
    "\n",
    "幸运的是，情形并没有那么糟。动态规划提供了一种在合理时间内解决大部分0/1背包问题的实践解。作为推导这样一个解的第一步，我们从基于穷尽枚举法的一个指数级的解开始。关键思想是：**通过构建一个可枚举所有满足重量约束的有根的二叉树来探索可能的解空间**。"
   ]
  },
  {
   "cell_type": "markdown",
   "id": "959f40d9",
   "metadata": {},
   "source": [
    "定义 有根的二叉树\n",
    "\n",
    "一个有根的二叉树一个无环的有向图，它满足：\n",
    "- 仅存在一个无父节点的节点，即根节点；\n",
    "- 每个非根节点仅有2个子节点；\n",
    "- 每个节点最多有两个子节点，没有子节点的节点称为叶子节点。"
   ]
  },
  {
   "cell_type": "markdown",
   "id": "e5a30e67",
   "metadata": {},
   "source": [
    "0/1背包问题的搜索树中的每个节点可用一个四元组来表示，它表示背包问题的一个局部解：\n",
    "- 一个由已拾取物品组成的集合；\n",
    "- 一个还没有做过判断的物品列表；\n",
    "- 已拾取的物品集的总价值；\n",
    "- 背包的剩余空间；\n",
    "\n",
    "这个树是从根开始从上往下开始构建的。每次从待考虑的物品中选择一个。如果背包中还留有该物品的空间，则构建一个反映选择拾取该物品的节点。根据约定，我们将该节点作为左子节点。右子节点反映没拾取该物品。然后持续应用这个过程直到背包满了，或者物品考虑完了。因为每条边反映一个决定，因此这样的树也称为**决策树**。\n",
    "\n",
    "图13.4是一棵决定拾取哪些物品的决策树，假设背包的最大重量为5。树根(节点0)的标签为`({},[a,b,c,d],0,5)`，表示没有拾取物品、剩余待考虑的物品列表、已拾取的物品总价值为0、背包剩余空间为5。节点1的标签为`({a},[b,c,d],6,2)`，表明已拾取1个物品、剩余待考虑的物品列表为`[b,c,d]`、已拾取物品的总价值为6、背包剩余空间为2。注意：节点1没有左孩子，因为物品b的重量为3，背包的剩余空间不够放入它。\n",
    "\n",
    "在图13.4中，在每个节点里的冒号前的数字表明节点生成的顺序。这个特殊的顺序叫做左先-深度优先。\n",
    "\n",
    "在每个节点处，我们尝试生成一个左节点。如果这是不可能的，则我们尝试生成一个右节点。如果这也是不可能的，则我们就向上回退一个节点，重复这个过程。直到我们发现已生成根节点的所有后代，过程终止。当节点终止时，已生成了可塞进背包的每个物品组合。任何一个具有最大价值的叶子节点就表示一个最优解。\n",
    "\n",
    "注意：对每个叶子节点，要么第二个元素是空列表，要么第4个元素为0。\n",
    "\n",
    "不幸的是，一个深度优先树的自然实现是递归的。"
   ]
  },
  {
   "cell_type": "code",
   "execution_count": 8,
   "id": "67485740",
   "metadata": {},
   "outputs": [],
   "source": [
    "class Item(object):\n",
    "    def __init__(self, n, v, w):\n",
    "        self.name = n\n",
    "        self.value = v\n",
    "        self.weight = w\n",
    "        \n",
    "    def getName(self):\n",
    "        return self.name\n",
    "    \n",
    "    def getValue(self):\n",
    "        return self.value\n",
    "    \n",
    "    def getWeight(self):\n",
    "        return self.weight\n",
    "    \n",
    "    def __str__(self):\n",
    "        result = '<'+self.name+', '+str(self.value)\\\n",
    "        +', '+str(self.weight)+'>'\n",
    "        \n",
    "        return result"
   ]
  },
  {
   "cell_type": "code",
   "execution_count": 20,
   "id": "9b4f8a7c",
   "metadata": {},
   "outputs": [],
   "source": [
    "def maxVal(toConsider, avail):\n",
    "    \"\"\"\n",
    "    假设toConsider是一个物品列表，avail是一个重量，\n",
    "    返回一个元组，其中第一个元素是0/1背包问题的一个解的总价值，第二个元素是构成解的物品列表\n",
    "    \"\"\"\n",
    "    if toConsider == [] or avail == 0:\n",
    "        result = (0,())\n",
    "    elif toConsider[0].getWeight()>avail:\n",
    "        #只探索右分支\n",
    "        result = maxVal(toConsider[1:], avail)\n",
    "    else:\n",
    "        nextItem = toConsider[0]\n",
    "        #探索左分支\n",
    "        withVal, withToTake = maxVal(toConsider[1:], avail - nextItem.getWeight())\n",
    "        withVal += nextItem.getValue()\n",
    "        #探索右分支\n",
    "        withoutVal, withoutToTake = maxVal(toConsider[1:], avail)\n",
    "        #选择一个更好的分支\n",
    "        if withVal > withoutVal:\n",
    "            result = (withVal, withToTake+(nextItem,))\n",
    "        else:\n",
    "            result = (withoutVal, withoutToTake)\n",
    "            \n",
    "    return result"
   ]
  },
  {
   "cell_type": "code",
   "execution_count": 21,
   "id": "e046219d",
   "metadata": {},
   "outputs": [],
   "source": [
    "def smallTest():\n",
    "    names = ['a','b','c','d']\n",
    "    vals = [6,7,8,9]\n",
    "    weights = [3,3,2,5]\n",
    "    Items = []\n",
    "    for i in range(len(vals)):\n",
    "        Items.append(Item(names[i], vals[i], weights[i]))\n",
    "    \n",
    "    val, taken = maxVal(Items, 5)\n",
    "    for item in taken:\n",
    "        print(item)\n",
    "    print('Total value of items taken =', val)"
   ]
  },
  {
   "cell_type": "code",
   "execution_count": 22,
   "id": "fd55c3eb",
   "metadata": {},
   "outputs": [
    {
     "name": "stdout",
     "output_type": "stream",
     "text": [
      "<c, 8, 2>\n",
      "<b, 7, 3>\n",
      "Total value of items taken = 15\n"
     ]
    }
   ],
   "source": [
    "smallTest()"
   ]
  },
  {
   "cell_type": "markdown",
   "id": "5f14ddc8",
   "metadata": {},
   "source": [
    "分析：\n",
    "\n",
    "- 这个实现使用了来自图12.2中的类`Item`。\n",
    "\n",
    "- 函数`maxVal`返回了两个值：已拾取的物品集合，以及那些物品的总价值。\n",
    "\n",
    "  用两个参数调用`maxVal`函数，对应的是树中节点标签的第2个元素和第4个元素：\n",
    "  - toConsider：树中靠上的还未考虑的节点中对应的物品；\n",
    "  - avail：还可用的空间大小；\n",
    "\n",
    "\n",
    "注意：`maxVal`不是先构建决策树，后找最优节点。而是使用局部变量`result`来记录截止目前找到的最好的解。"
   ]
  }
 ],
 "metadata": {
  "kernelspec": {
   "display_name": "Python 3 (ipykernel)",
   "language": "python",
   "name": "python3"
  },
  "language_info": {
   "codemirror_mode": {
    "name": "ipython",
    "version": 3
   },
   "file_extension": ".py",
   "mimetype": "text/x-python",
   "name": "python",
   "nbconvert_exporter": "python",
   "pygments_lexer": "ipython3",
   "version": "3.9.0"
  }
 },
 "nbformat": 4,
 "nbformat_minor": 5
}
