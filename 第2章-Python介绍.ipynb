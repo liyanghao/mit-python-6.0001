{
 "cells": [
  {
   "cell_type": "markdown",
   "id": "bd0907bd",
   "metadata": {},
   "source": [
    "虽然每门编程语言都是不同的，但是它们可通过一些维度发生关联：\n",
    "- 低级vs高级\n",
    "\n",
    "  低级指的是我们使用在机器级别上的指令和数据对象来编程，比如移动64位的数据从这个位置到那个位置等；\n",
    "  \n",
    "  高级指的是我们使用由语言设计者提供的更抽象的操作来编程，比如在屏幕上弹出一个菜单等；\n",
    "  \n",
    "- 通用vs专门针对某个应用领域\n",
    "\n",
    "  通用指的是编程语言的原始操作是应用广泛的；\n",
    "  \n",
    "  专门针对某个应用领域指的是编程语言的原语是针对某个领域优化过的，比如SQL被设计来为从关系数据库中提取信息，但是你不想使用它来构建操作系统。\n",
    "  \n",
    "- 解释型vs编译型\n",
    "\n",
    "  解释型指的是源代码直接被执行(解释器)；\n",
    "  \n",
    "  编译型指的是源代码要先被(编译器)转换成机器级别的原始操作；\n",
    "  \n",
    "  两种方法都有优势。用解释型语言编写的程序更容易调试，因为解释器可以输出很容易跟源代码相关的错误信息。用编译型语言产生的程序通常运行的更快，使用更少的空间。"
   ]
  },
  {
   "cell_type": "markdown",
   "id": "c69af029",
   "metadata": {},
   "source": [
    "在本书中，我们使用Python。但是，这本书不是关于Python的。它必定帮助读者学习Python，这是一件很好的事。但是更重要的是：细心的读者将会学习一些关于如何编写程序来解决问题的内容。这种技能可迁移到任何一种编程语言。"
   ]
  },
  {
   "cell_type": "markdown",
   "id": "1cc06dd0",
   "metadata": {},
   "source": [
    "Python是一门通用目的编程语言，可用来有效地构建任何一类不需要直接访问硬件的程序。对于那些有高可靠性约束或者由许多人构建和wei"
   ]
  }
 ],
 "metadata": {
  "kernelspec": {
   "display_name": "Python 3 (ipykernel)",
   "language": "python",
   "name": "python3"
  },
  "language_info": {
   "codemirror_mode": {
    "name": "ipython",
    "version": 3
   },
   "file_extension": ".py",
   "mimetype": "text/x-python",
   "name": "python",
   "nbconvert_exporter": "python",
   "pygments_lexer": "ipython3",
   "version": "3.9.0"
  }
 },
 "nbformat": 4,
 "nbformat_minor": 5
}
