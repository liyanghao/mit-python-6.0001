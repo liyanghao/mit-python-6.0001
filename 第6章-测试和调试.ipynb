{
 "cells": [
  {
   "cell_type": "markdown",
   "id": "518c67b0",
   "metadata": {},
   "source": [
    "我们不想提这个，但潘格罗斯医生错了。我们并不是生活在最好的世界里。有些地方雨水太少，有些地方雨水太多。有些地方太冷，有些地方太热，有些地方夏天太热，冬天太冷。有时候股票市场会跌很多。而且，令人烦恼的是，我们的程序在第一次运行时并不总是能正常运行。"
   ]
  }
 ],
 "metadata": {
  "kernelspec": {
   "display_name": "Python 3 (ipykernel)",
   "language": "python",
   "name": "python3"
  },
  "language_info": {
   "codemirror_mode": {
    "name": "ipython",
    "version": 3
   },
   "file_extension": ".py",
   "mimetype": "text/x-python",
   "name": "python",
   "nbconvert_exporter": "python",
   "pygments_lexer": "ipython3",
   "version": "3.9.0"
  }
 },
 "nbformat": 4,
 "nbformat_minor": 5
}
