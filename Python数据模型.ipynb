{
 "cells": [
  {
   "cell_type": "markdown",
   "id": "0e89cb1e",
   "metadata": {},
   "source": [
    "翻译自：https://stanfordpython.com/#/page/handout/data-model#objects-have-value-type-and-identity\n",
    "\n",
    "\n",
    "- 一切都是对象\n",
    "- 对象有值、类型、标识\n",
    "    - 值\n",
    "    - 类型\n",
    "    - 标识\n",
    "- 对象和可改变性\n",
    "    - 从函数里修改一个对象\n",
    "    - 我们最喜欢的对象的可修改性\n",
    "- 对象嵌套和拷贝"
   ]
  },
  {
   "cell_type": "markdown",
   "id": "8257e792",
   "metadata": {},
   "source": [
    "## 一切都是对象\n",
    "在python中，我们知道如何使用`type`函数查看一个对象的类型。比如："
   ]
  },
  {
   "cell_type": "code",
   "execution_count": 1,
   "id": "1eccddd6",
   "metadata": {},
   "outputs": [
    {
     "name": "stdout",
     "output_type": "stream",
     "text": [
      "<class 'int'>\n"
     ]
    }
   ],
   "source": [
    "print(type(3))"
   ]
  },
  {
   "cell_type": "markdown",
   "id": "610ed402",
   "metadata": {},
   "source": [
    "`isInstance`函数是类似的。它有两个形参(第一个参数是我们要测试的对象，第二个参数是一个类型)；如果第一个参数是第二个参数的一个实例，则返回`True`，否则返回`False`。所以，上面的代码告诉我们：`3`是一个整数，且确实："
   ]
  },
  {
   "cell_type": "code",
   "execution_count": 2,
   "id": "3c32d4e4",
   "metadata": {},
   "outputs": [
    {
     "name": "stdout",
     "output_type": "stream",
     "text": [
      "True\n"
     ]
    }
   ],
   "source": [
    "print(isinstance(3, int))"
   ]
  },
  {
   "cell_type": "markdown",
   "id": "d90898d1",
   "metadata": {},
   "source": [
    "截止目前，我们已讨论了如下类型：`int`、`float`、`str`、`list`。\n",
    "\n",
    "现在让我们介绍另一个类型：`object`。截止目前我们看到的大部分对象就是`object`类型的实例。"
   ]
  },
  {
   "cell_type": "code",
   "execution_count": 3,
   "id": "67b34866",
   "metadata": {},
   "outputs": [
    {
     "name": "stdout",
     "output_type": "stream",
     "text": [
      "True\n",
      "True\n",
      "True\n",
      "True\n",
      "True\n"
     ]
    }
   ],
   "source": [
    "print(isinstance(3, object))\n",
    "print(isinstance(2.1, object))\n",
    "print(isinstance(\"unicorn\", object))\n",
    "print(isinstance(['a', 3], object))\n",
    "print(isinstance(None, object))"
   ]
  },
  {
   "cell_type": "markdown",
   "id": "7d426305",
   "metadata": {},
   "source": [
    "注意：**一个对象可以是多个类型的实例**。\n",
    "\n",
    "等一下，我们不是`3`是一个`int`实例吗？它怎么也是一个`object`？\n",
    "\n",
    "我们在课堂上将更多地讨论这一点，但是一个对象可以是多个类型的实例。这叫做**继承**。它是一种可将一个类型的性质应用到其他类型的方式。\n",
    "\n",
    "比如，在Python中，布尔类型实际上是整数的子类。在内部，`True`是`1`，`False`是`0`。这意味着：我们可对布尔类型做类似整数的操作："
   ]
  },
  {
   "cell_type": "code",
   "execution_count": 4,
   "id": "6127c7d5",
   "metadata": {},
   "outputs": [
    {
     "name": "stdout",
     "output_type": "stream",
     "text": [
      "25\n"
     ]
    },
    {
     "data": {
      "text/plain": [
       "True"
      ]
     },
     "execution_count": 4,
     "metadata": {},
     "output_type": "execute_result"
    }
   ],
   "source": [
    "print((True+1)*10+5)\n",
    "print(isinstance(False,int))"
   ]
  },
  {
   "cell_type": "markdown",
   "id": "84614740",
   "metadata": {},
   "source": [
    "虽然我们已看了更多的对象，但是**函数也是对象**。"
   ]
  },
  {
   "cell_type": "code",
   "execution_count": 5,
   "id": "7423c319",
   "metadata": {},
   "outputs": [
    {
     "data": {
      "text/plain": [
       "True"
      ]
     },
     "execution_count": 5,
     "metadata": {},
     "output_type": "execute_result"
    }
   ],
   "source": [
    "def greet(name):\n",
    "    print(f\"Hi, {name}!\")\n",
    "    \n",
    "print(isinstance(greet, object))"
   ]
  },
  {
   "cell_type": "markdown",
   "id": "af656337",
   "metadata": {},
   "source": [
    "**模块也是对象**，比如："
   ]
  },
  {
   "cell_type": "code",
   "execution_count": 6,
   "id": "221e2273",
   "metadata": {},
   "outputs": [
    {
     "data": {
      "text/plain": [
       "True"
      ]
     },
     "execution_count": 6,
     "metadata": {},
     "output_type": "execute_result"
    }
   ],
   "source": [
    "import math\n",
    "\n",
    "print(isinstance(math, object))"
   ]
  },
  {
   "cell_type": "markdown",
   "id": "ce8bb42a",
   "metadata": {},
   "source": [
    "**每种类型它们自己也是对象**，比如："
   ]
  },
  {
   "cell_type": "code",
   "execution_count": 8,
   "id": "2682ec84",
   "metadata": {},
   "outputs": [
    {
     "name": "stdout",
     "output_type": "stream",
     "text": [
      "True\n",
      "True\n",
      "True\n",
      "True\n"
     ]
    }
   ],
   "source": [
    "print(isinstance(int, object))\n",
    "print(isinstance(float, object))\n",
    "print(isinstance(str, object))\n",
    "print(isinstance(list, object))"
   ]
  },
  {
   "cell_type": "markdown",
   "id": "56157b6e",
   "metadata": {},
   "source": [
    "这一点，你可能没有印象。我已经告诉你：在Python中，许多我们喜欢的事情都是object类型的实例。但是这意味着什么？对象有哪些性质？"
   ]
  },
  {
   "cell_type": "markdown",
   "id": "1e56e0c2",
   "metadata": {},
   "source": [
    "## 对象有值、类型、标识\n",
    "\n",
    "### 值\n",
    "所有的对象标识某个在计算机上占据空间的值。可通过使用`sys.sizeof`方法来看一个对象的大小。比如："
   ]
  },
  {
   "cell_type": "code",
   "execution_count": 12,
   "id": "9c5e3ab3",
   "metadata": {},
   "outputs": [
    {
     "name": "stdout",
     "output_type": "stream",
     "text": [
      "28\n",
      "120\n"
     ]
    }
   ],
   "source": [
    "import sys\n",
    "\n",
    "print(sys.getsizeof(41))\n",
    "print(sys.getsizeof([1,2,3]))"
   ]
  },
  {
   "cell_type": "markdown",
   "id": "3ba084ca",
   "metadata": {},
   "source": [
    "### 类型\n",
    "所有对象都有类型，可以使用`type`函数来查看，比如："
   ]
  },
  {
   "cell_type": "code",
   "execution_count": 13,
   "id": "023686c1",
   "metadata": {},
   "outputs": [
    {
     "data": {
      "text/plain": [
       "bool"
      ]
     },
     "execution_count": 13,
     "metadata": {},
     "output_type": "execute_result"
    }
   ],
   "source": [
    "type(True)"
   ]
  },
  {
   "cell_type": "markdown",
   "id": "a1f8e52b",
   "metadata": {},
   "source": [
    "对象可以是多个类型的实例。为了看到一个对象所属的所有类型，可以使用类型的`__mro__`属性。比如："
   ]
  },
  {
   "cell_type": "code",
   "execution_count": 14,
   "id": "66597041",
   "metadata": {},
   "outputs": [
    {
     "data": {
      "text/plain": [
       "(bool, int, object)"
      ]
     },
     "execution_count": 14,
     "metadata": {},
     "output_type": "execute_result"
    }
   ],
   "source": [
    "bool.__mro__"
   ]
  },
  {
   "cell_type": "markdown",
   "id": "aaf96013",
   "metadata": {},
   "source": [
    "不管一个对象的原始类型是什么，`__mro__`元组都会包含`object`，因为在Python中一切都是对象。"
   ]
  },
  {
   "cell_type": "markdown",
   "id": "3913ede3",
   "metadata": {},
   "source": [
    "### 标识\n",
    "\n",
    "标识可能是3个属性中理解起来最有技巧性的一个。\n",
    "\n",
    "**一个对象的标识是一个标识它的唯一的数**。\n",
    "\n",
    "**大多数情况下，这个唯一的数是对象在计算机中的内存地址**，所以我们将在讨论中交替使用标识和内存地址。\n",
    "\n",
    "当Python创建一个对象时，它被存在内存中的某个位置，可以使用`id`函数来访问它。"
   ]
  },
  {
   "cell_type": "code",
   "execution_count": 15,
   "id": "dc223646",
   "metadata": {},
   "outputs": [
    {
     "name": "stdout",
     "output_type": "stream",
     "text": [
      "140558120695104\n",
      "0x7fd63cdab540\n"
     ]
    }
   ],
   "source": [
    "x = [1,2,3]\n",
    "\n",
    "print(id(x))\n",
    "print(hex(id(x)))"
   ]
  },
  {
   "cell_type": "markdown",
   "id": "4181b83a",
   "metadata": {},
   "source": [
    "`is`关键字允许你比较两个对象的标识。比如："
   ]
  },
  {
   "cell_type": "code",
   "execution_count": 16,
   "id": "1d257072",
   "metadata": {},
   "outputs": [
    {
     "name": "stdout",
     "output_type": "stream",
     "text": [
      "140558122236608\n",
      "140558122680192\n",
      "True\n",
      "False\n"
     ]
    }
   ],
   "source": [
    "x = [1,2,3]\n",
    "y = [1,2,3]\n",
    "\n",
    "print(id(x))\n",
    "print(id(y))\n",
    "\n",
    "print(x==y)\n",
    "print(x is y)"
   ]
  },
  {
   "cell_type": "markdown",
   "id": "c7f6ac0f",
   "metadata": {},
   "source": [
    "所以，即使两个list是一样的，但是它们没被存储在相同的内存地址。这可能不重要。但是如果我们稍微修改一下上面的代码，我们就会得到不同的结果。"
   ]
  },
  {
   "cell_type": "code",
   "execution_count": 17,
   "id": "220654f5",
   "metadata": {},
   "outputs": [
    {
     "name": "stdout",
     "output_type": "stream",
     "text": [
      "True\n",
      "True\n"
     ]
    }
   ],
   "source": [
    "x = [1,2,3]\n",
    "y = x\n",
    "\n",
    "print(x==y)\n",
    "print(x is y)"
   ]
  },
  {
   "cell_type": "markdown",
   "id": "4af215af",
   "metadata": {},
   "source": [
    "这意味着什么？如果x和y有相同的标识，那么我们应该关心什么？\n",
    "\n",
    "当x和y有相同的标识时，它们指向的是相同的对象，所以修改那个对象的值将会反映在两个变量中。"
   ]
  },
  {
   "cell_type": "code",
   "execution_count": 18,
   "id": "ac821c05",
   "metadata": {},
   "outputs": [
    {
     "name": "stdout",
     "output_type": "stream",
     "text": [
      "[1, 2, 3, 4]\n",
      "[1, 2, 3, 4]\n"
     ]
    }
   ],
   "source": [
    "x = [1,2,3]\n",
    "y = x\n",
    "\n",
    "x.append(4)\n",
    "\n",
    "print(x)\n",
    "print(y)"
   ]
  },
  {
   "cell_type": "markdown",
   "id": "ec0fe3c3",
   "metadata": {},
   "source": [
    "但是，在第一个示例中，上述行为就不会发生。"
   ]
  },
  {
   "cell_type": "code",
   "execution_count": 19,
   "id": "5773b340",
   "metadata": {},
   "outputs": [
    {
     "name": "stdout",
     "output_type": "stream",
     "text": [
      "[1, 2, 3, 4]\n",
      "[1, 2, 3]\n"
     ]
    }
   ],
   "source": [
    "x = [1,2,3]\n",
    "y = [1,2,3]\n",
    "\n",
    "x.append(4)\n",
    "\n",
    "print(x)\n",
    "print(y)"
   ]
  },
  {
   "cell_type": "markdown",
   "id": "c8f3bcfa",
   "metadata": {},
   "source": [
    "### 常见的误解\n",
    "发生在python中的一类常见的错误来自于关于标识的误解。比如，现在有一个列表lst。你想做一份对lst的独立的拷贝。如果你创建了一个新的变量`copy = lst`，则你实际上并没有拷贝lst。正如我们的示例展示的那样，`copy`将跟`lst`指向相同的内存地址。\n",
    "\n",
    "根据你想做什么，有两种方式来正确地做一份独立于原列表的拷贝。你可以创建一个浅拷贝，也可以创建一个深拷贝。请看这个文件最后一节的描述和比较。"
   ]
  },
  {
   "cell_type": "markdown",
   "id": "7065c486",
   "metadata": {},
   "source": [
    "## 对象和可变性\n",
    "对于列表的标识，我们已经构建了一些古怪。下面把它应用到整数上。"
   ]
  },
  {
   "cell_type": "code",
   "execution_count": 20,
   "id": "2a287ab1",
   "metadata": {},
   "outputs": [
    {
     "name": "stdout",
     "output_type": "stream",
     "text": [
      "74\n",
      "41\n"
     ]
    }
   ],
   "source": [
    "x = 41\n",
    "y = x\n",
    "\n",
    "x += 33\n",
    "\n",
    "print(x)\n",
    "print(y)"
   ]
  },
  {
   "cell_type": "markdown",
   "id": "110d163a",
   "metadata": {},
   "source": [
    "但是类似的代码应用到列表，程序的行为就很不同。"
   ]
  },
  {
   "cell_type": "code",
   "execution_count": 21,
   "id": "12fe128b",
   "metadata": {},
   "outputs": [
    {
     "name": "stdout",
     "output_type": "stream",
     "text": [
      "[1, 2, 3, 4]\n",
      "[1, 2, 3, 4]\n"
     ]
    }
   ],
   "source": [
    "x = [1,2,3]\n",
    "y = x\n",
    "\n",
    "x += [4]\n",
    "\n",
    "print(x)\n",
    "print(y)"
   ]
  },
  {
   "cell_type": "markdown",
   "id": "b563030f",
   "metadata": {},
   "source": [
    "这种不同的行为会发生，因为整数是不可变的，列表是可变的。\n",
    "\n",
    "所有的对象要么是可变的，要么是不可变的。回想一下我们是如何讲述对象有值、类型、标识的，**可改变**表示一个对象的值在声明后可以改变，**不可改变**表示一个对象的值在声明以后是固定的。\n",
    "\n",
    "继续看示例："
   ]
  },
  {
   "cell_type": "code",
   "execution_count": 23,
   "id": "5e4e1b9f",
   "metadata": {},
   "outputs": [
    {
     "name": "stdout",
     "output_type": "stream",
     "text": [
      "140558019468848\n",
      "140558019468848\n",
      "140558019658384\n",
      "140558019468848\n",
      "74\n",
      "41\n"
     ]
    }
   ],
   "source": [
    "x = 41\n",
    "y = x\n",
    "\n",
    "print(id(x))\n",
    "print(id(y))\n",
    "\n",
    "x += 33\n",
    "\n",
    "print(id(x))\n",
    "print(id(y))\n",
    "\n",
    "print(x)\n",
    "print(y)"
   ]
  },
  {
   "cell_type": "markdown",
   "id": "75ce4dbe",
   "metadata": {},
   "source": [
    "即使x和y在开始指向的是相同的对象。当我们加33时，一个新的对象会被创建，x被重新赋值并指向这个新的对象。y继续指向旧的对象。\n",
    "\n",
    "作为比较："
   ]
  },
  {
   "cell_type": "code",
   "execution_count": 24,
   "id": "824574c4",
   "metadata": {},
   "outputs": [
    {
     "name": "stdout",
     "output_type": "stream",
     "text": [
      "140558120704768\n",
      "140558120704768\n",
      "140558120704768\n",
      "140558120704768\n",
      "[1, 2, 3, 4]\n",
      "[1, 2, 3, 4]\n"
     ]
    }
   ],
   "source": [
    "x = [1,2,3]\n",
    "y = x\n",
    "\n",
    "print(id(x))\n",
    "print(id(y))\n",
    "\n",
    "x += [4]\n",
    "\n",
    "print(id(x))\n",
    "print(id(y))\n",
    "\n",
    "print(x)\n",
    "print(y)"
   ]
  },
  {
   "cell_type": "markdown",
   "id": "6c5e56cc",
   "metadata": {},
   "source": [
    "当x和y是列表时，将4追加到列表的末端并不会创建一个新的对象。\n",
    "\n",
    "要说明一个重要的点：\n",
    "- **对不可改变对象的每个操作都会创建一个新的对象**；\n",
    "- **对可改变对象的一些操作会创建新的对象，另一些则不会**；\n",
    "\n",
    "   “任何一个对可改变对象的操作都会创建一个新的对象”不是真的。\n"
   ]
  },
  {
   "cell_type": "code",
   "execution_count": 25,
   "id": "3df5b6db",
   "metadata": {},
   "outputs": [
    {
     "name": "stdout",
     "output_type": "stream",
     "text": [
      "140558120702400\n",
      "140558120671808\n",
      "[1, 2, 3, 4]\n"
     ]
    }
   ],
   "source": [
    "x = [1,2,3]\n",
    "print(id(x))\n",
    "\n",
    "x = x+[4]\n",
    "print(id(x))\n",
    "\n",
    "print(x)"
   ]
  },
  {
   "cell_type": "markdown",
   "id": "4f3aae38",
   "metadata": {},
   "source": [
    "这表明：`lst+=[4]`的行为跟`lst=lst+[4]`不一样。前者不会创建一个新的对象，后者则会。"
   ]
  },
  {
   "cell_type": "markdown",
   "id": "70cb9059",
   "metadata": {},
   "source": [
    "### 在函数中修改一个对象\n",
    "当你把一个对象传递给一个函数时，这样的行为经常会出现。不是“按拷贝传递”或者“按引用传递”，Python是按照对象引用传递所有的参数的。它给函数一个对对象的引用，只要它是可修改的，那么函数就能修改原对象。\n",
    "\n",
    "所以，函数不能修改调用者的整数变量。"
   ]
  },
  {
   "cell_type": "code",
   "execution_count": 28,
   "id": "c53df909",
   "metadata": {},
   "outputs": [
    {
     "name": "stdout",
     "output_type": "stream",
     "text": [
      "140558019468848\n",
      "140558019468848\n",
      "140558019658384\n",
      "140558019468848\n",
      "41\n"
     ]
    }
   ],
   "source": [
    "def modify(num):\n",
    "    print(id(num))\n",
    "    num+=33\n",
    "    print(id(num))\n",
    "    \n",
    "x = 41\n",
    "print(id(x))\n",
    "modify(x)\n",
    "print(id(x))\n",
    "print(x)"
   ]
  },
  {
   "cell_type": "markdown",
   "id": "82979250",
   "metadata": {},
   "source": [
    "但是函数能修改列表，比如："
   ]
  },
  {
   "cell_type": "code",
   "execution_count": 27,
   "id": "6cf7ffe4",
   "metadata": {},
   "outputs": [
    {
     "name": "stdout",
     "output_type": "stream",
     "text": [
      "[1, 2, 3, 4]\n"
     ]
    }
   ],
   "source": [
    "def modify(lst):\n",
    "    lst += [4]\n",
    "    \n",
    "x = [1,2,3]\n",
    "modify(x)\n",
    "print(x)"
   ]
  },
  {
   "attachments": {
    "%E6%88%AA%E5%B1%8F2021-09-17%2007.49.35.png": {
     "image/png": "[encoded data removed]"
    }
   },
   "cell_type": "markdown",
   "id": "93015e5f",
   "metadata": {},
   "source": [
    "这有点困惑。如果你对机制不感兴趣的话，那么你可以记住：可改变对象是按照引用传递，不可改变对象是按照值传递。\n",
    "\n",
    "这意味着：在你的程序里，如果你有一个列表，你将它在函数之间传递，它们可被增加或者移除数据，但是对于数字，你做不到这一点。\n",
    "\n",
    "![%E6%88%AA%E5%B1%8F2021-09-17%2007.49.35.png](attachment:%E6%88%AA%E5%B1%8F2021-09-17%2007.49.35.png)"
   ]
  },
  {
   "cell_type": "markdown",
   "id": "cad90e7e",
   "metadata": {},
   "source": [
    "## 嵌套对象和拷贝\n",
    "元组是可改变的，列表是不可改变的。所以，当你在一个元组中放入一个列表时，会发生什么？\n",
    "\n",
    "行为可能有点奇怪，因为元组存储的是包含在其中的对象的引用，那些引用不能改变。但是对象可以改变。\n",
    "\n",
    "看如下示例："
   ]
  },
  {
   "cell_type": "code",
   "execution_count": 29,
   "id": "a0eceeff",
   "metadata": {},
   "outputs": [
    {
     "ename": "TypeError",
     "evalue": "'tuple' object does not support item assignment",
     "output_type": "error",
     "traceback": [
      "\u001b[0;31m---------------------------------------------------------------------------\u001b[0m",
      "\u001b[0;31mTypeError\u001b[0m                                 Traceback (most recent call last)",
      "\u001b[0;32m/var/folders/ys/_mwzpxjn5mnbrrw71f2phd5h0000gn/T/ipykernel_899/147023912.py\u001b[0m in \u001b[0;36m<module>\u001b[0;34m\u001b[0m\n\u001b[1;32m      1\u001b[0m \u001b[0mt\u001b[0m \u001b[0;34m=\u001b[0m \u001b[0;34m(\u001b[0m\u001b[0;36m1\u001b[0m\u001b[0;34m,\u001b[0m\u001b[0;34m[\u001b[0m\u001b[0;36m2\u001b[0m\u001b[0;34m,\u001b[0m\u001b[0;36m3\u001b[0m\u001b[0;34m]\u001b[0m\u001b[0;34m,\u001b[0m\u001b[0;34m[\u001b[0m\u001b[0;36m5\u001b[0m\u001b[0;34m,\u001b[0m\u001b[0;36m6\u001b[0m\u001b[0;34m,\u001b[0m\u001b[0;36m7\u001b[0m\u001b[0;34m]\u001b[0m\u001b[0;34m)\u001b[0m\u001b[0;34m\u001b[0m\u001b[0;34m\u001b[0m\u001b[0m\n\u001b[1;32m      2\u001b[0m \u001b[0;34m\u001b[0m\u001b[0m\n\u001b[0;32m----> 3\u001b[0;31m \u001b[0mt\u001b[0m\u001b[0;34m[\u001b[0m\u001b[0;36m1\u001b[0m\u001b[0;34m]\u001b[0m \u001b[0;34m=\u001b[0m \u001b[0;34m[\u001b[0m\u001b[0;36m2\u001b[0m\u001b[0;34m,\u001b[0m\u001b[0;36m3\u001b[0m\u001b[0;34m,\u001b[0m\u001b[0;36m4\u001b[0m\u001b[0;34m]\u001b[0m\u001b[0;34m\u001b[0m\u001b[0;34m\u001b[0m\u001b[0m\n\u001b[0m",
      "\u001b[0;31mTypeError\u001b[0m: 'tuple' object does not support item assignment"
     ]
    }
   ],
   "source": [
    "t = (1,[2,3],[5,6,7])\n",
    "\n",
    "t[1] = [2,3,4]"
   ]
  },
  {
   "cell_type": "markdown",
   "id": "fbbb8f11",
   "metadata": {},
   "source": [
    "因为`[2,3,4]`是一个新的对象，我们想用它来替换旧的对象。\n",
    "\n",
    "另一方面，如果我们是修改列表，而不是替换列表，则一切都很好。比如："
   ]
  },
  {
   "cell_type": "code",
   "execution_count": 30,
   "id": "ca59b282",
   "metadata": {},
   "outputs": [
    {
     "name": "stdout",
     "output_type": "stream",
     "text": [
      "(1, [2, 3, 4], [5, 6, 7])\n"
     ]
    }
   ],
   "source": [
    "t = (1,[2,3],[5,6,7])\n",
    "\n",
    "t[1].append(4)\n",
    "\n",
    "print(t)"
   ]
  },
  {
   "cell_type": "markdown",
   "id": "345f5369",
   "metadata": {},
   "source": [
    "这就给我们带来两种不同的拷贝对象的方式。我们前面描述的代码不是真的做了拷贝："
   ]
  },
  {
   "cell_type": "code",
   "execution_count": 31,
   "id": "63c11298",
   "metadata": {},
   "outputs": [
    {
     "name": "stdout",
     "output_type": "stream",
     "text": [
      "[1, [2, 3], 5, 6]\n",
      "[1, [2, 3], 5, 6]\n"
     ]
    }
   ],
   "source": [
    "lst = [1,[2,3],5]\n",
    "clone = lst\n",
    "\n",
    "lst.append(6)\n",
    "\n",
    "print(lst)\n",
    "print(clone)"
   ]
  },
  {
   "cell_type": "markdown",
   "id": "19ef5ea1",
   "metadata": {},
   "source": [
    "为了正确地拷贝对象，你可以做浅拷贝，也可以做深拷贝。用文档的话来总结："
   ]
  },
  {
   "cell_type": "markdown",
   "id": "4c810f9d",
   "metadata": {},
   "source": [
    "- 一份浅拷贝构建了一个新的对象，然后将在原对象里发现的对对象的引用插入新对象。\n",
    "- 一份深拷贝构建了一个新的对象，然后递归式地将在原对象里发现的对象做一份拷贝插入新对象。\n",
    "\n",
    "从本质上说，**一份深拷贝做了内部对象的拷贝，但浅拷贝没有**。\n",
    "\n",
    "所以，如果我们做了一份`lst`的浅拷贝，两个列表是独立的，除了`lst[1]`："
   ]
  },
  {
   "cell_type": "code",
   "execution_count": 33,
   "id": "f9ace4fa",
   "metadata": {},
   "outputs": [
    {
     "name": "stdout",
     "output_type": "stream",
     "text": [
      "140558123457216\n",
      "140558123501056\n",
      "[1, [2, 3], 5, 6]\n",
      "[1, [2, 3], 5]\n",
      "[1, [2, 3, 4], 5, 6]\n",
      "[1, [2, 3, 4], 5]\n"
     ]
    }
   ],
   "source": [
    "import copy\n",
    "\n",
    "lst = [1, [2, 3], 5]\n",
    "print(id(lst))\n",
    "# print(id(lst[0]),id(lst[1]))\n",
    "\n",
    "\n",
    "clone = copy.copy(lst) # makes a shallow copy\n",
    "print(id(clone))\n",
    "\n",
    "# print(id(clone[0]),id(clone[1]))\n",
    "\n",
    "lst.append(6)\n",
    "\n",
    "print(lst)   # => [1, [2, 3], 5, 6]\n",
    "print(clone) # => [1, [2, 3], 5]        (unchanged)\n",
    "\n",
    "lst[1].append(4)\n",
    "\n",
    "print(lst)   # => [1, [2, 3, 4], 5, 6]\n",
    "print(clone) # => [1, [2, 3, 4], 5]     (changed)"
   ]
  },
  {
   "cell_type": "markdown",
   "id": "4015ca66",
   "metadata": {},
   "source": [
    "另一方面，如果我们做了一份深拷贝，"
   ]
  }
 ],
 "metadata": {
  "kernelspec": {
   "display_name": "Python 3 (ipykernel)",
   "language": "python",
   "name": "python3"
  },
  "language_info": {
   "codemirror_mode": {
    "name": "ipython",
    "version": 3
   },
   "file_extension": ".py",
   "mimetype": "text/x-python",
   "name": "python",
   "nbconvert_exporter": "python",
   "pygments_lexer": "ipython3",
   "version": "3.9.0"
  }
 },
 "nbformat": 4,
 "nbformat_minor": 5
}
