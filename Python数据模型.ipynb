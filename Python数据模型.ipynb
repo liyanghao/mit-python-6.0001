{
 "cells": [
  {
   "cell_type": "markdown",
   "id": "aed390cd",
   "metadata": {},
   "source": [
    "翻译自：https://stanfordpython.com/#/page/handout/data-model#objects-have-value-type-and-identity\n",
    "\n",
    "\n",
    "- 一切都是对象\n",
    "- 对象有值、类型、标识\n",
    "    - 值\n",
    "    - 类型\n",
    "    - 标识\n",
    "- 对象和可改变性\n",
    "    - 从函数里修改一个对象\n",
    "    - 我们最喜欢的对象的可修改性\n",
    "- 对象嵌套和拷贝"
   ]
  },
  {
   "cell_type": "markdown",
   "id": "156f2ce9",
   "metadata": {},
   "source": [
    "## 一切都是对象\n",
    "在python中，我们知道如何使用`type`函数查看一个对象的类型。比如："
   ]
  },
  {
   "cell_type": "code",
   "execution_count": 1,
   "id": "271f4401",
   "metadata": {},
   "outputs": [
    {
     "name": "stdout",
     "output_type": "stream",
     "text": [
      "<class 'int'>\n"
     ]
    }
   ],
   "source": [
    "print(type(3))"
   ]
  },
  {
   "cell_type": "markdown",
   "id": "963c93b9",
   "metadata": {},
   "source": [
    "`isInstance`函数是类似的。它有两个形参(第一个参数是我们要测试的对象，第二个参数是一个类型)；如果第一个参数是第二个参数的一个实例，则返回`True`，否则返回`False`。所以，上面的代码告诉我们：`3`是一个整数，且确实："
   ]
  },
  {
   "cell_type": "code",
   "execution_count": 2,
   "id": "3436e7fd",
   "metadata": {},
   "outputs": [
    {
     "name": "stdout",
     "output_type": "stream",
     "text": [
      "True\n"
     ]
    }
   ],
   "source": [
    "print(isinstance(3, int))"
   ]
  },
  {
   "cell_type": "markdown",
   "id": "f18fce20",
   "metadata": {},
   "source": [
    "截止目前，我们已讨论了如下类型：`int`、`float`、`str`、`list`。\n",
    "\n",
    "现在让我们介绍另一个类型：`object`。截止目前我们看到的大部分对象就是`object`类型的实例。"
   ]
  },
  {
   "cell_type": "code",
   "execution_count": 3,
   "id": "90ace5a6",
   "metadata": {},
   "outputs": [
    {
     "name": "stdout",
     "output_type": "stream",
     "text": [
      "True\n",
      "True\n",
      "True\n",
      "True\n",
      "True\n"
     ]
    }
   ],
   "source": [
    "print(isinstance(3, object))\n",
    "print(isinstance(2.1, object))\n",
    "print(isinstance(\"unicorn\", object))\n",
    "print(isinstance(['a', 3], object))\n",
    "print(isinstance(None, object))"
   ]
  },
  {
   "cell_type": "markdown",
   "id": "66a7d32e",
   "metadata": {},
   "source": [
    "注意：**一个对象可以是多个类型的实例**。\n",
    "\n",
    "等一下，我们不是`3`是一个`int`实例吗？它怎么也是一个`object`？\n",
    "\n",
    "我们在课堂上将更多地讨论这一点，但是一个对象可以是多个类型的实例。这叫做**继承**。它是一种可将一个类型的性质应用到其他类型的方式。\n",
    "\n",
    "比如，在Python中，布尔类型实际上是整数的子类。在内部，`True`是`1`，`False`是`0`。这意味着：我们可对布尔类型做类似整数的操作："
   ]
  },
  {
   "cell_type": "code",
   "execution_count": 4,
   "id": "e2e39685",
   "metadata": {},
   "outputs": [
    {
     "name": "stdout",
     "output_type": "stream",
     "text": [
      "25\n"
     ]
    },
    {
     "data": {
      "text/plain": [
       "True"
      ]
     },
     "execution_count": 4,
     "metadata": {},
     "output_type": "execute_result"
    }
   ],
   "source": [
    "print((True+1)*10+5)\n",
    "print(isinstance(False,int))"
   ]
  },
  {
   "cell_type": "markdown",
   "id": "6cd35b19",
   "metadata": {},
   "source": [
    "虽然我们已看了更多的对象，但是**函数也是对象**。"
   ]
  },
  {
   "cell_type": "code",
   "execution_count": 5,
   "id": "8890ddaa",
   "metadata": {},
   "outputs": [
    {
     "data": {
      "text/plain": [
       "True"
      ]
     },
     "execution_count": 5,
     "metadata": {},
     "output_type": "execute_result"
    }
   ],
   "source": [
    "def greet(name):\n",
    "    print(f\"Hi, {name}!\")\n",
    "    \n",
    "print(isinstance(greet, object))"
   ]
  },
  {
   "cell_type": "markdown",
   "id": "abe61b39",
   "metadata": {},
   "source": [
    "**模块也是对象**，比如："
   ]
  },
  {
   "cell_type": "code",
   "execution_count": 6,
   "id": "cd5d42e8",
   "metadata": {},
   "outputs": [
    {
     "data": {
      "text/plain": [
       "True"
      ]
     },
     "execution_count": 6,
     "metadata": {},
     "output_type": "execute_result"
    }
   ],
   "source": [
    "import math\n",
    "\n",
    "print(isinstance(math, object))"
   ]
  },
  {
   "cell_type": "markdown",
   "id": "1c504ada",
   "metadata": {},
   "source": [
    "**每种类型它们自己也是对象**，比如："
   ]
  },
  {
   "cell_type": "code",
   "execution_count": 8,
   "id": "c6ac1de6",
   "metadata": {},
   "outputs": [
    {
     "name": "stdout",
     "output_type": "stream",
     "text": [
      "True\n",
      "True\n",
      "True\n",
      "True\n"
     ]
    }
   ],
   "source": [
    "print(isinstance(int, object))\n",
    "print(isinstance(float, object))\n",
    "print(isinstance(str, object))\n",
    "print(isinstance(list, object))"
   ]
  },
  {
   "cell_type": "markdown",
   "id": "765508a3",
   "metadata": {},
   "source": [
    "这一点，你可能没有印象。我已经告诉你：在Python中，许多我们喜欢的事情都是object类型的实例。但是这意味着什么？对象有哪些性质？"
   ]
  }
 ],
 "metadata": {
  "kernelspec": {
   "display_name": "Python 3 (ipykernel)",
   "language": "python",
   "name": "python3"
  },
  "language_info": {
   "codemirror_mode": {
    "name": "ipython",
    "version": 3
   },
   "file_extension": ".py",
   "mimetype": "text/x-python",
   "name": "python",
   "nbconvert_exporter": "python",
   "pygments_lexer": "ipython3",
   "version": "3.9.0"
  }
 },
 "nbformat": 4,
 "nbformat_minor": 5
}
