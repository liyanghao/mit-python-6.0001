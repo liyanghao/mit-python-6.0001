{
 "cells": [
  {
   "cell_type": "markdown",
   "id": "70a07200",
   "metadata": {},
   "source": [
    "截止目前，我们看到的程序处理过3种类型的对象：`int`、`float`、`str`。\n",
    "数值类型`int`和`float`都是标量类型，即标量类型的对象没有可以访问的内部结构。\n",
    "作为比较，`str`被认为是一种有结构的非标量类型。你可以使用索引来从一个字符串中提取单个字符，使用分片来提取子字符串。\n",
    "\n",
    "这一章，我们介绍额外的结构化的类型。一个是元组tuple，是对`str`相对简单的推广。另外3个是`list`、`range`、`dict`，它们更有趣些。我们也会重新提到函数这一主题，并用一些示例说明用相同的方式来处理函数和其他类型的对象的方便之处。\n",
    "\n",
    "## 5.1 元组tuple\n",
    "\n",
    "跟字符串一样，元组是不可变的有序元素序列。区别是元组中的元素不一定是字符。单个元素可以是任意类型，但彼此之间不一定是相同的类型。\n",
    "\n",
    "元组类型的字面量可写成一个在括号内以逗号分割的元素列表。比如："
   ]
  },
  {
   "cell_type": "code",
   "execution_count": 4,
   "id": "5df398c5",
   "metadata": {},
   "outputs": [
    {
     "name": "stdout",
     "output_type": "stream",
     "text": [
      "()\n",
      "(1, 'two', 3)\n",
      "1\n",
      "(1,)\n"
     ]
    }
   ],
   "source": [
    "#创建一个空元组\n",
    "t1 = ()\n",
    "t2 = (1, 'two', 3)\n",
    "t3 = (1)\n",
    "#创建一个包含一个元素的元组\n",
    "t4 = (1,)\n",
    "print(t1)\n",
    "print(t2)\n",
    "print(t3)\n",
    "print(t4)"
   ]
  },
  {
   "cell_type": "markdown",
   "id": "f14f2bdb",
   "metadata": {},
   "source": [
    "看下这个示例，你可能自然地相信：包含有单个值1的元组被写为`(1)`。但是，因为括号用来分组表达式，所以为了表示包含这个值的单个元组，我们要写成`(1,)`。几乎每个使用Python的人都曾经不小心地省略了那个烦人的逗号。\n",
    "\n",
    "可对元组使用重复。比如，"
   ]
  },
  {
   "cell_type": "code",
   "execution_count": 5,
   "id": "68ee046a",
   "metadata": {},
   "outputs": [
    {
     "name": "stdout",
     "output_type": "stream",
     "text": [
      "('a', 2, 'a', 2, 'a', 2)\n"
     ]
    }
   ],
   "source": [
    "print(3*('a',2))"
   ]
  },
  {
   "cell_type": "markdown",
   "id": "16fb0c1a",
   "metadata": {},
   "source": [
    "跟字符串一样，元组可被拼接，索引，分片。比如："
   ]
  },
  {
   "cell_type": "code",
   "execution_count": 9,
   "id": "4594d29e",
   "metadata": {},
   "outputs": [
    {
     "name": "stdout",
     "output_type": "stream",
     "text": [
      "((1, 'two', 3), 3.25)\n",
      "(1, 'two', 3, (1, 'two', 3), 3.25)\n",
      "(1, 'two', 3)\n",
      "(3, (1, 'two', 3), 3.25)\n"
     ]
    }
   ],
   "source": [
    "t1 = (1,'two',3)\n",
    "t2 = (t1,3.25)\n",
    "print(t2)\n",
    "#拼接\n",
    "print(t1+t2)\n",
    "#索引\n",
    "print((t1+t2)[3])\n",
    "#分片\n",
    "print((t1+t2)[2:5])"
   ]
  },
  {
   "cell_type": "markdown",
   "id": "cd9bf335",
   "metadata": {},
   "source": [
    "第2条赋值语句将名字t2绑定到一个包含指向t1被绑定的元组和浮点数3.25的元组。这是可以的，因为跟Python中的其他事情一样，一个元组就是一个对象，所以元组可以包含元组。因此，第一条print语句输出：\n",
    "```\n",
    "((1, 'two', 3), 3.25)\n",
    "```\n",
    "\n",
    "第二条print语句输出通过拼接t1和t2被绑定的值生成的值，它是一个有5个元素的元组。它的输出为：\n",
    "```\n",
    "(1, 'two', 3, (1, 'two', 3), 3.25)\n",
    "```\n",
    "下一条语句选择和输出被拼接元组的第4个元素，紧接着的语句创建并输出那个元组的一个分片，输出为：\n",
    "```\n",
    "(1, 'two', 3)\n",
    "(3, (1, 'two', 3), 3.25)\n",
    "```\n",
    "\n",
    "可使用for语句来遍历一个元组的元素，比如："
   ]
  },
  {
   "cell_type": "code",
   "execution_count": 12,
   "id": "f7461dca",
   "metadata": {},
   "outputs": [
    {
     "data": {
      "text/plain": [
       "(2,)"
      ]
     },
     "execution_count": 12,
     "metadata": {},
     "output_type": "execute_result"
    }
   ],
   "source": [
    "def intersect(t1, t2):\n",
    "    '''\n",
    "    假设t1和t2是元组，返回一个元组包含了既在t1又在t2中的元素。\n",
    "    '''\n",
    "    result = ()\n",
    "    \n",
    "    for e in t1:\n",
    "        if e in t2:\n",
    "            result += (e,)\n",
    "    \n",
    "    return result\n",
    "\n",
    "t1 = (1,2,3)\n",
    "t2 = (4,2,5)\n",
    "intersect(t1, t2)"
   ]
  },
  {
   "cell_type": "markdown",
   "id": "5531e9b4",
   "metadata": {},
   "source": [
    "### 5.1.1 序列和多重赋值\n",
    "如果你知道一个序列的长度，那么使用Python的多重赋值语句来抽取单个元素是非常方便的。比如，"
   ]
  },
  {
   "cell_type": "code",
   "execution_count": 14,
   "id": "eb2c8df6",
   "metadata": {},
   "outputs": [
    {
     "name": "stdout",
     "output_type": "stream",
     "text": [
      "3\n",
      "4\n",
      "x\n",
      "y\n",
      "z\n"
     ]
    }
   ],
   "source": [
    "x, y = (3,4)\n",
    "print(x)\n",
    "print(y)\n",
    "\n",
    "a, b, c = 'xyz'\n",
    "print(a)\n",
    "print(b)\n",
    "print(c)"
   ]
  },
  {
   "cell_type": "markdown",
   "id": "dbd8e37d",
   "metadata": {},
   "source": [
    "当与返回固定大小序列的函数一起使用时，这种机制特别方便。比如，考虑如下函数定义："
   ]
  },
  {
   "cell_type": "code",
   "execution_count": 1,
   "id": "75a1eb6d",
   "metadata": {},
   "outputs": [
    {
     "name": "stdout",
     "output_type": "stream",
     "text": [
      "2\n",
      "100\n"
     ]
    }
   ],
   "source": [
    "def findExtremeDivisors(n1, n2):\n",
    "    '''\n",
    "    假设n1和n2是正整数，那么返回一个元组包含n1和n2的最小公因数(大于1)和最大公因数。如果不存在公因数，则返回(None,None)。\n",
    "    '''\n",
    "    minVal, maxVal = (None, None)\n",
    "    \n",
    "    for i in range(2, min(n1, n2)+1):\n",
    "        if n1 % i == 0 and n2 % i == 0:\n",
    "            if minVal == None:\n",
    "                minVal = i\n",
    "            maxVal = i\n",
    "            \n",
    "    return (minVal, maxVal)\n",
    "\n",
    "minDivisor, maxDivisor = findExtremeDivisors(100, 200)\n",
    "print(minDivisor)\n",
    "print(maxDivisor)"
   ]
  },
  {
   "cell_type": "markdown",
   "id": "e57842c6",
   "metadata": {},
   "source": [
    "## 5.2 范围ranges\n",
    "跟字符串、元组一样，范围`ranges`是不可变的。`range`函数返回一个`range`类型的对象。如第3.2节里描述的一样，`range`函数取3个整数参数：`start`，`stop`，`step`，返回连续的整数`start`、`start+step`、`start+2*step`等。如果`step`为正，则最后一个元素是小于`stop`的最大的`start+i*step`。如果`step`为负数，则最后一个元素是大于`start`的最小的`start+i*step`。如果仅提供两个参数，则`step`默认为1。如果只有一个参数，则那个参数就是`stop`，`start`默认从0开始，`step`默认是1。\n",
    "\n",
    "元组的所有操作也对范围range可用，除了拼接和重复。比如，`range(10)[2:6][2]`的值是4。\n",
    "\n",
    "当对`range`类型对象使用判等运算符`==`时，如果两个范围`range`表示的是相同的整数序列，那么就返回`True`。比如，`range(0,7,2)==range(0,8,2)`的值为True。但是`range(0,7,2)==range(6,-1,2)`的值为False，因为尽管这两个range里包含相同的整数，但是它们发生的顺序不一样。\n",
    "\n",
    "跟元组类型的对象不一样，一个`range`类型对象占据的空间大小跟长度不成比例。因为一个range完全由start、stop、step确定，所以它可用相对小型的空间来存储。\n",
    "\n",
    "对range最常用的情形就是for循环，但是range类型的对象可用在任何一个需要整数序列的地方。"
   ]
  },
  {
   "cell_type": "code",
   "execution_count": 10,
   "id": "29fc1b37",
   "metadata": {},
   "outputs": [
    {
     "name": "stdout",
     "output_type": "stream",
     "text": [
      "<class 'range'>\n",
      "4\n",
      "True\n",
      "False\n"
     ]
    }
   ],
   "source": [
    "print(type(range(10)))\n",
    "\n",
    "print(range(10)[2:6][2])\n",
    "\n",
    "print(range(0,7,2)==range(0,8,2))\n",
    "\n",
    "print(range(0,7,2)==range(6,-1,2))"
   ]
  },
  {
   "cell_type": "markdown",
   "id": "9f9218b4",
   "metadata": {},
   "source": [
    "## 5.3 列表和可变性\n",
    "\n",
    "跟元组一样，一个list是一个有序的值序列，其中每个值可用一个索引来确定。\n",
    "\n",
    "list字面量的表示语法跟元组类似；不同的是我们使用方括号`[]`来表示列表，使用括号`()`表示元组。\n",
    "\n",
    "空列表表示为`[]`。单个值的列表表示为`[1]`，在结束括号前不用使用逗号。\n",
    "\n",
    "比如："
   ]
  },
  {
   "cell_type": "code",
   "execution_count": 12,
   "id": "fc8771f8",
   "metadata": {},
   "outputs": [
    {
     "name": "stdout",
     "output_type": "stream",
     "text": [
      "I did it all\n",
      "4\n",
      "love\n"
     ]
    }
   ],
   "source": [
    "L = ['I did it all', 4, 'love']\n",
    "\n",
    "for i in range(len(L)):\n",
    "    print(L[i])"
   ]
  },
  {
   "cell_type": "markdown",
   "id": "78049d36",
   "metadata": {},
   "source": [
    "偶尔，由于“方括号用于表示list类型的字面量”这个事实，所以索引列表、对列表分片等可导致一些可见的混淆。比如，表达式`[1,2,3,4][1:3][1]`的值是3，有3种方式来使用方括号。在实践中极少发生这样的情况，因为大部分时候列表是增加式构建的，而不是写成字面量来构建。\n",
    "\n",
    "列表lists跟元组tuple在一个方面有很大的不同：lists是可变的，tuple是不可变的。\n",
    "\n",
    "有很多操作符可被用来创建这种不可变类型的对象，变量可被绑定到这些不可变类型的对象。但是不可变类型的对象不能被修改。作为对比，list类型的对象在创建以后可被修改。\n",
    "\n",
    "乍一看，改变一个对象和将一个对象赋给一个变量之间的区别可能看起来很微妙。但是，只要记住：**在Python中，变量仅仅是一个名称，也就是一个附加到对象上的标签**就好了。"
   ]
  },
  {
   "cell_type": "code",
   "execution_count": 2,
   "id": "a5f9799a",
   "metadata": {},
   "outputs": [],
   "source": [
    "Techs = ['MIT','CalTech']\n",
    "Ivys = ['Havard', 'Yale', 'Brown']"
   ]
  },
  {
   "cell_type": "markdown",
   "id": "ad0ec050",
   "metadata": {},
   "source": [
    "执行上面的语句后，解释器创建了两个列表，给它们俩绑定了合适的变量名。\n",
    "\n",
    "下面的赋值语句："
   ]
  },
  {
   "cell_type": "code",
   "execution_count": 3,
   "id": "5b2e56fc",
   "metadata": {},
   "outputs": [],
   "source": [
    "Univs = [Techs, Ivys]\n",
    "Univs1 = [['MIT','CalTech'],['Havard', 'Yale', 'Brown']]"
   ]
  },
  {
   "cell_type": "markdown",
   "id": "4effce1c",
   "metadata": {},
   "source": [
    "也创建了新的列表，给它们俩绑定了名字。这些列表的元素是自身也是列表。下面的3条print语句"
   ]
  },
  {
   "cell_type": "code",
   "execution_count": 4,
   "id": "dc6ce5db",
   "metadata": {},
   "outputs": [
    {
     "name": "stdout",
     "output_type": "stream",
     "text": [
      "Univs = [['MIT', 'CalTech'], ['Havard', 'Yale', 'Brown']]\n",
      "Univs1 = [['MIT', 'CalTech'], ['Havard', 'Yale', 'Brown']]\n",
      "True\n"
     ]
    }
   ],
   "source": [
    "print('Univs =', Univs)\n",
    "print('Univs1 =', Univs1)\n",
    "print(Univs == Univs1)"
   ]
  },
  {
   "cell_type": "markdown",
   "id": "ac456ca5",
   "metadata": {},
   "source": [
    "Univs和Univs1被绑定到不同的对象这一点可使用Python内置的函数id来验证，id函数返回关于一个对象的唯一标识符。这个函数允许我们测试对象的相等性。比如："
   ]
  },
  {
   "cell_type": "code",
   "execution_count": 5,
   "id": "352712b3",
   "metadata": {},
   "outputs": [
    {
     "name": "stdout",
     "output_type": "stream",
     "text": [
      "True\n",
      "False\n",
      "Id of Univs = 140334171039808\n",
      "Id of Univs1 = 140334171040192\n"
     ]
    }
   ],
   "source": [
    "print(Univs == Univs1)\n",
    "print(id(Univs)==id(Univs1))\n",
    "print('Id of Univs =', id(Univs))\n",
    "print('Id of Univs1 =', id(Univs1))"
   ]
  },
  {
   "cell_type": "markdown",
   "id": "17c5bfee",
   "metadata": {},
   "source": [
    "注意：Univs的元素不是Techs和Ivys被绑定的列表的拷贝，而就是它们自己。Univs1的元素包含的元素跟Univs相同，但是它们是不同的列表。可通过运行如下代码来验证："
   ]
  },
  {
   "cell_type": "code",
   "execution_count": 6,
   "id": "423afa41",
   "metadata": {},
   "outputs": [
    {
     "name": "stdout",
     "output_type": "stream",
     "text": [
      "Id of Univs[0] and Univs[1] 140334173242624 140334171143616\n",
      "Id of Univs1[0] and Univs1[1] 140334171152192 140334172802816\n"
     ]
    }
   ],
   "source": [
    "print('Id of Univs[0] and Univs[1]', id(Univs[0]), id(Univs[1]))\n",
    "print('Id of Univs1[0] and Univs1[1]', id(Univs1[0]), id(Univs1[1]))"
   ]
  },
  {
   "cell_type": "markdown",
   "id": "5c46bc47",
   "metadata": {},
   "source": [
    "为什么会这样？\n",
    "答：因为列表是可变的。\n",
    "\n",
    "考虑如下代码："
   ]
  },
  {
   "cell_type": "code",
   "execution_count": 7,
   "id": "4f82c9c4",
   "metadata": {},
   "outputs": [],
   "source": [
    "Techs.append('RPI')"
   ]
  },
  {
   "cell_type": "markdown",
   "id": "fba40edb",
   "metadata": {},
   "source": [
    "append方法有一个副作用。不是创建一个新的列表，而是它通过添加一个新的元素'RPI'来改变了现有的列表。\n",
    "\n",
    "Univs被绑定的对象依然包含两个相同的列表，但是那些列表的之一的内容已被修改了。因此，如下的print语句会输出："
   ]
  },
  {
   "cell_type": "code",
   "execution_count": 8,
   "id": "4ed06ce0",
   "metadata": {},
   "outputs": [
    {
     "name": "stdout",
     "output_type": "stream",
     "text": [
      "Univs = [['MIT', 'CalTech', 'RPI'], ['Havard', 'Yale', 'Brown']]\n",
      "Univs1 = [['MIT', 'CalTech'], ['Havard', 'Yale', 'Brown']]\n"
     ]
    }
   ],
   "source": [
    "print('Univs =',Univs)\n",
    "print('Univs1 =',Univs1)"
   ]
  },
  {
   "cell_type": "markdown",
   "id": "9b723230",
   "metadata": {},
   "source": [
    "这里发生的事情叫**别名**。有两条不同的路径到达相同的列表对象。一条路径是通过变量`Techs`，另一条路径是通过`Univs`被绑定的list对象的第一个元素。你可以通过任何一条路径来改变这个对象，改变的效果对两条路径都是可见的。虽然这很方便，但有时很危险。无意的别名会导致很难去追踪的编程错误。\n",
    "\n",
    "跟元组一样，可使用for语句来遍历列表的元素。比如："
   ]
  },
  {
   "cell_type": "code",
   "execution_count": 9,
   "id": "0efd804a",
   "metadata": {},
   "outputs": [
    {
     "name": "stdout",
     "output_type": "stream",
     "text": [
      "Univs contains ['MIT', 'CalTech', 'RPI']\n",
      " which contains\n",
      "     MIT\n",
      "     CalTech\n",
      "     RPI\n",
      "Univs contains ['Havard', 'Yale', 'Brown']\n",
      " which contains\n",
      "     Havard\n",
      "     Yale\n",
      "     Brown\n"
     ]
    }
   ],
   "source": [
    "for e in Univs:\n",
    "    print('Univs contains', e)\n",
    "    print(' which contains')\n",
    "    for u in e:\n",
    "        print('    ', u)"
   ]
  },
  {
   "cell_type": "markdown",
   "id": "ad8f1ffb",
   "metadata": {},
   "source": [
    "当我们将一个列表添加到另一个列表里时，原来列表的结构还被保留着，结果是一个包含一个列表的列表。"
   ]
  },
  {
   "cell_type": "code",
   "execution_count": 10,
   "id": "1ef92857",
   "metadata": {},
   "outputs": [
    {
     "name": "stdout",
     "output_type": "stream",
     "text": [
      "['MIT', 'CalTech', 'RPI', ['Havard', 'Yale', 'Brown']]\n"
     ]
    }
   ],
   "source": [
    "Techs.append(Ivys)\n",
    "print(Techs)"
   ]
  },
  {
   "cell_type": "markdown",
   "id": "d92c6da8",
   "metadata": {},
   "source": [
    "假设我们不想维护这种结构，而是想将一个列表的元素加入到另一个列表中。我们可使用列表拼接或者extend方法，比如："
   ]
  },
  {
   "cell_type": "code",
   "execution_count": 14,
   "id": "bc104bc0",
   "metadata": {},
   "outputs": [
    {
     "name": "stdout",
     "output_type": "stream",
     "text": [
      "L3 = [1, 2, 3, 4, 5, 6]\n",
      "L1 = [1, 2, 3, 4, 5, 6]\n",
      "L1 = [1, 2, 3, 4, 5, 6, [4, 5, 6]]\n"
     ]
    }
   ],
   "source": [
    "L1 = [1,2,3]\n",
    "L2 = [4,5,6]\n",
    "L3 = L1 + L2\n",
    "\n",
    "print('L3 =', L3)\n",
    "\n",
    "L1.extend(L2)\n",
    "print('L1 =', L1)\n",
    "\n",
    "L1.append(L2)\n",
    "print('L1 =', L1)"
   ]
  },
  {
   "cell_type": "markdown",
   "id": "387fa033",
   "metadata": {},
   "source": [
    "注意：加号运算符没有副作用，它创建一个新的列表，并返回。作为对比，extend和append方法都是对L1做了修改。\n",
    "\n",
    "图5.4里包含了一些关于lists的方法的简短描述。"
   ]
  },
  {
   "cell_type": "markdown",
   "id": "26885edc",
   "metadata": {},
   "source": [
    "### 5.3.1 拷贝cloning\n",
    "通常要谨慎避免在遍历一个列表时对其进行修改。比如："
   ]
  },
  {
   "cell_type": "code",
   "execution_count": 18,
   "id": "5cc9f172",
   "metadata": {},
   "outputs": [
    {
     "name": "stdout",
     "output_type": "stream",
     "text": [
      "L1 = [2, 3, 4]\n",
      "L1 = [3, 4]\n"
     ]
    }
   ],
   "source": [
    "def removeDups(L1, L2):\n",
    "    '''\n",
    "    假设L1和L2是列表。\n",
    "    \n",
    "    从L1中移除在L2中出现的元素。\n",
    "    '''\n",
    "    for e1 in L1:\n",
    "        if e1 in L2:\n",
    "            L1.remove(e1)\n",
    "            \n",
    "def removeDups2(L1, L2):\n",
    "    '''\n",
    "    假设L1和L2是列表。\n",
    "    \n",
    "    从L1中移除在L2中出现的元素。\n",
    "    '''\n",
    "#     for e1 in L1[:]:\n",
    "    for e1 in list(L1):\n",
    "        if e1 in L2:\n",
    "            L1.remove(e1)\n",
    "            \n",
    "L1 = [1,2,3,4]\n",
    "L2 = [1,2,5,6]\n",
    "removeDups(L1,L2)\n",
    "print('L1 =', L1)\n",
    "L1 = [1,2,3,4]\n",
    "L2 = [1,2,5,6]\n",
    "removeDups2(L1,L2)\n",
    "print('L1 =', L1)"
   ]
  },
  {
   "cell_type": "markdown",
   "id": "35c17dba",
   "metadata": {},
   "source": [
    "在for循环里，Python的实现通过使用一个在每次迭代结束时自增的内部计数器来记录当前在列表中的位置。当计数器的值达到当前列表的长度时，循环就停止了。如果一个列表是不给改变的，则这会如期正常工作。但是当列表被改变了，这就会有令人吃惊的结果。在这个示例中，隐含的计数器从0开始，发现`L1[0]`在L2中，就将`L1[0]`从L1中移除，将L1的长度减小到3。然后计数器自增1，代码继续检查`L1[1]`的值是否在L2中。注意：`L1[1]`的值已经不是原来的2了，而是3。如你所看到的，当在循环内修改列表时，是有可能搞清楚发生了什么的。但是，这并不容易。而且，如这个例子所示，发生的事情是不复合预期的。\n",
    "\n",
    "一种避免这样的方式是使用分片来clone，并写`for e1 in L1[:]`。注意，这样写\n",
    "```\n",
    "newL1 = L1\n",
    "for e1 in newL1:\n",
    "```\n",
    "是不解决问题的，因为它不会创建一个L1的拷贝，只是对现有列表引入了一个新名字而已。\n",
    "\n",
    "分片不是Python中唯一的拷贝列表的方式。表达式`list(L)`返回对列表L的一个拷贝。如果待拷贝的列表里包含了你想修改的可改变对象，则需要导入标准库`copy`，使用`copy.deepcopy`函数。"
   ]
  },
  {
   "cell_type": "markdown",
   "id": "fcbab4df",
   "metadata": {},
   "source": [
    "### 5.3.2 "
   ]
  }
 ],
 "metadata": {
  "kernelspec": {
   "display_name": "Python 3 (ipykernel)",
   "language": "python",
   "name": "python3"
  },
  "language_info": {
   "codemirror_mode": {
    "name": "ipython",
    "version": 3
   },
   "file_extension": ".py",
   "mimetype": "text/x-python",
   "name": "python",
   "nbconvert_exporter": "python",
   "pygments_lexer": "ipython3",
   "version": "3.9.0"
  }
 },
 "nbformat": 4,
 "nbformat_minor": 5
}
