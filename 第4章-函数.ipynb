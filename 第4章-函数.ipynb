{
 "cells": [
  {
   "cell_type": "markdown",
   "id": "97d65c8c",
   "metadata": {},
   "source": [
    "截止目前，我们已介绍了数字、赋值语句、输入/输出语句、比较操作、循环结构。Python的这个子集的功能有多强大？\n",
    "\n",
    "答：从理论上讲，**它是图灵完备的**。这意味着如果一个问题是可以通过计算求解的，那么它就能使用你已经看到的那些语句来求解。\n",
    "\n",
    "并不是说你应该只使用这些语句。此时，我们已介绍了许多语言机制，但是代码一直是单个指令序列，所有合并在一起。比如，在上一章里看到的代码，"
   ]
  },
  {
   "cell_type": "code",
   "execution_count": 1,
   "id": "364d87b8",
   "metadata": {},
   "outputs": [
    {
     "name": "stdout",
     "output_type": "stream",
     "text": [
      "numGuesses = 13\n",
      "5.00030517578125 is close to square root of 25\n"
     ]
    }
   ],
   "source": [
    "x = 25\n",
    "epsilon = 0.01\n",
    "numGuesses = 0\n",
    "low = 0.0\n",
    "high = max(1.0, x)\n",
    "ans = (low + high)/2.0\n",
    "\n",
    "while abs(ans**2 -x)>= epsilon:\n",
    "    numGuesses += 1\n",
    "    if ans**2 < x:\n",
    "        low = ans\n",
    "    else:\n",
    "        high = ans\n",
    "    ans = (low + high)/2.0\n",
    "    \n",
    "print('numGuesses =', numGuesses)\n",
    "print(ans,'is close to square root of', x)"
   ]
  },
  {
   "cell_type": "markdown",
   "id": "3b70ad66",
   "metadata": {},
   "source": [
    "虽然这是一个可读性强的代码，但是它缺少通用性。它仅对变量x和epsilon代表的值生效。这意味着如果我们想重新使用它，我们需要拷贝代码，可能要编辑变量名，把它粘贴到我们想使用它的地方。由于这个原因，我们不能轻易地在其他更复杂的计算中使用这个计算。\n",
    "\n",
    "而且，如果想计算立方根，而不是平方根，我们不得不重新编辑代码。如果我们想要一个既计算平方根，又计算立方根的程序，该程序包含了大段的几乎一模一样的代码，更容易出错，且更难维护代码。\n",
    "\n",
    "想象一下，比如在原来的平方根代码里有错误，当测试时发现了。很容易出现：在一个地方修正了，但其他也需要修正的相似代码处忘记修正了。\n",
    "\n",
    "Python提供了若干个使推广和重用代码变得相对容易的语言特征。函数是其中最重要的。"
   ]
  },
  {
   "cell_type": "markdown",
   "id": "2185bb03",
   "metadata": {},
   "source": [
    "## 4.1 函数和作用域\n",
    "\n",
    "我们已经使用了一些内置函数，比如`max`和`abs`。对程序员来说，可以定义并使用自己的函数，就像它们是内置的一样，是朝方便性迈出的一个质的飞跃。\n",
    "\n",
    "### 4.1.1 函数定义\n",
    "\n",
    "在Python中，每个函数定义都有如下形式：\n",
    "```\n",
    "def name of function (list of formal parameters):\n",
    "    body of function\n",
    "```\n",
    "\n",
    "比如，定义函数`maxVal`为："
   ]
  },
  {
   "cell_type": "code",
   "execution_count": 5,
   "id": "55c18f0a",
   "metadata": {},
   "outputs": [],
   "source": [
    "def maxVal(x, y):\n",
    "    if x > y:\n",
    "        return x\n",
    "    else:\n",
    "        return y"
   ]
  },
  {
   "cell_type": "markdown",
   "id": "42ad2b0f",
   "metadata": {},
   "source": [
    "其中，\n",
    "- `def`是一个保留字，告诉Python这是一个函数定义。\n",
    "- 函数名只是一个用来引用函数的名字而已。\n",
    "- 跟在函数名之后的括号内的名字序列是函数的**形式参数**。\n",
    "\n",
    "  当使用函数时，形式参数被绑定为**函数调用**中的**实际参数**(跟赋值语句一样)。比如，`maxVal(3,4)`将x绑定到3，将y绑定到4。\n",
    "- 函数体可以是任意的Python代码。注意，return语句只能在函数体中使用。"
   ]
  },
  {
   "cell_type": "markdown",
   "id": "1658dcde",
   "metadata": {},
   "source": [
    "一个函数调用就是一个表达式。跟所有表达式一样，函数调用有一个值。那个值是由被调用函数返回的值。比如，表达式`maxVal(3,4)*maxVal(3,2)`的值是12，因为第一个函数调用返回`int 4`，第二个函数调用返回`int 3`。注意，`return`语句的执行结束了该函数的调用。"
   ]
  },
  {
   "cell_type": "markdown",
   "id": "e15ae9bf",
   "metadata": {},
   "source": [
    "总结一下，当一个函数被调用时：\n",
    "1. 对组成实际参数的表达式求值，将函数的形式参数绑定到这些结果值上。\n",
    "   \n",
    "   比如，当对调用求值式，调用`maxVal(3+4,z)`将形式参数绑定到7，形式参数y绑定到变量z表示的任何值。\n",
    "2. 执行点从当前调用点移动到函数体的第一条语句。\n",
    "\n",
    "3. 执行函数体中的代码直到碰到一条`return`语句(这种情况下，跟在`return`后的表达式的值就是函数调用的值)或者再也没有语句要执行了(这种情况下，函数返回`None`)。\n",
    "\n",
    "   如果`return`后没有表达式，那么调用的值就是`None`。\n",
    "4. 调用的值就是返回的值。\n",
    "5. 执行点切回到跟在调用后的代码处。"
   ]
  },
  {
   "cell_type": "markdown",
   "id": "4bb16b75",
   "metadata": {},
   "source": [
    "参数提供了lamda抽象，允许程序员编写操作没有具体对象的代码，但是函数调用者选择的任何对象都被用作实际参数。"
   ]
  },
  {
   "cell_type": "markdown",
   "id": "f706ede0",
   "metadata": {},
   "source": [
    "随堂联系：编写一个函数`isIn`，它的形式参数为两个字符串，如果任意一个字符串包含另一个，就返回true，其余情形都是false。"
   ]
  },
  {
   "cell_type": "code",
   "execution_count": 8,
   "id": "356ee8fd",
   "metadata": {},
   "outputs": [
    {
     "name": "stdout",
     "output_type": "stream",
     "text": [
      "True\n",
      "True\n",
      "False\n"
     ]
    }
   ],
   "source": [
    "def isIn(a, b):\n",
    "    if a in b or b in a:\n",
    "        return True\n",
    "    else:\n",
    "        return False\n",
    "\n",
    "print(isIn('ab', 'dabcd'))\n",
    "\n",
    "print(isIn('dabcd', 'bc'))\n",
    "\n",
    "print(isIn('ab', 'bc'))"
   ]
  },
  {
   "cell_type": "markdown",
   "id": "292c036a",
   "metadata": {},
   "source": [
    "### 4.1.2 关键字参数和默认值"
   ]
  },
  {
   "cell_type": "markdown",
   "id": "1237cf76",
   "metadata": {},
   "source": [
    "在Python中，形式参数绑定到实际参数有两种方式：\n",
    "\n",
    "- 按位置绑定\n",
    "\n",
    "  第一个形式参数绑定到第一个实际参数，第二个形式参数绑定到第二个实际参数，以此类推。\n",
    "- 根据关键词参数绑定\n",
    "\n",
    "  使用形式参数名将形式参数绑定到实际参数。\n",
    "\n",
    "考虑如下函数定义："
   ]
  },
  {
   "cell_type": "code",
   "execution_count": 1,
   "id": "22c6fb69",
   "metadata": {},
   "outputs": [],
   "source": [
    "def printName(firstName, lastName, reverse):\n",
    "    if reverse:\n",
    "        print(lastName+','+firstName)\n",
    "    else:\n",
    "        print(firstName+','+lastName)"
   ]
  },
  {
   "cell_type": "markdown",
   "id": "8f6a800f",
   "metadata": {},
   "source": [
    "解释：函数名`printName`假设`firstName`和`lastName`是字符串，`reverse`是布尔型。如果`reverse==True`，那么它输出`lastName, firstName`，否则它输出`firstName, lastName`。\n",
    "\n",
    "如下每个调用都是等价的："
   ]
  },
  {
   "cell_type": "code",
   "execution_count": 3,
   "id": "6e7ad306",
   "metadata": {},
   "outputs": [
    {
     "name": "stdout",
     "output_type": "stream",
     "text": [
      "Olga,Puchmajerova\n",
      "Olga,Puchmajerova\n",
      "Olga,Puchmajerova\n",
      "Olga,Puchmajerova\n"
     ]
    }
   ],
   "source": [
    "printName('Olga','Puchmajerova',False)\n",
    "printName('Olga','Puchmajerova',reverse=False)\n",
    "printName('Olga', lastName = 'Puchmajerova', reverse=False)\n",
    "printName(lastName = 'Puchmajerova', firstName = 'Olga', reverse=False)"
   ]
  },
  {
   "cell_type": "markdown",
   "id": "0a5387e6",
   "metadata": {},
   "source": [
    "注意：虽然关键词参数出现在实际参数列表中的顺序是任意的，但是**在关键词参数后跟一个非关键词参数是非法的**。因此，下面的语句会输出一条错误消息："
   ]
  },
  {
   "cell_type": "code",
   "execution_count": 4,
   "id": "a13ee3d7",
   "metadata": {},
   "outputs": [
    {
     "ename": "SyntaxError",
     "evalue": "positional argument follows keyword argument (3590324403.py, line 1)",
     "output_type": "error",
     "traceback": [
      "\u001b[0;36m  File \u001b[0;32m\"/var/folders/ys/_mwzpxjn5mnbrrw71f2phd5h0000gn/T/ipykernel_774/3590324403.py\"\u001b[0;36m, line \u001b[0;32m1\u001b[0m\n\u001b[0;31m    printName('Olga', lastName = 'Puchmajerova', False)\u001b[0m\n\u001b[0m                                                      ^\u001b[0m\n\u001b[0;31mSyntaxError\u001b[0m\u001b[0;31m:\u001b[0m positional argument follows keyword argument\n"
     ]
    }
   ],
   "source": [
    "printName('Olga', lastName = 'Puchmajerova', False)"
   ]
  },
  {
   "cell_type": "markdown",
   "id": "0529280f",
   "metadata": {},
   "source": [
    "关键词参数通常跟默认参数值一起使用。比如，如下代码："
   ]
  },
  {
   "cell_type": "code",
   "execution_count": 5,
   "id": "ae7d0ca5",
   "metadata": {},
   "outputs": [],
   "source": [
    "def printName(firstName, lastName, reverse = False):\n",
    "    if reverse:\n",
    "        print(lastName+','+firstName)\n",
    "    else:\n",
    "        print(firstName+','+lastName)"
   ]
  },
  {
   "cell_type": "markdown",
   "id": "8ff48381",
   "metadata": {},
   "source": [
    "默认值允许程序员使用比指定参数少的参数来调用一个函数。比如："
   ]
  },
  {
   "cell_type": "code",
   "execution_count": 6,
   "id": "f2bc658d",
   "metadata": {},
   "outputs": [
    {
     "name": "stdout",
     "output_type": "stream",
     "text": [
      "Olga,Puchmajerova\n",
      "Puchmajerova,Olga\n",
      "Puchmajerova,Olga\n"
     ]
    }
   ],
   "source": [
    "printName('Olga','Puchmajerova')\n",
    "printName('Olga','Puchmajerova',True)\n",
    "printName('Olga', 'Puchmajerova', reverse=True)"
   ]
  },
  {
   "cell_type": "markdown",
   "id": "63cd63d5",
   "metadata": {},
   "source": [
    "`printName`的后两次调用从语法上是等价的。"
   ]
  },
  {
   "cell_type": "markdown",
   "id": "07ce8eb9",
   "metadata": {},
   "source": [
    "### 4.1.3 作用域\n",
    "\n",
    "让我们看一个小例子："
   ]
  },
  {
   "cell_type": "code",
   "execution_count": 7,
   "id": "8b0ecad4",
   "metadata": {},
   "outputs": [
    {
     "name": "stdout",
     "output_type": "stream",
     "text": [
      "x = 4\n",
      "z = 4\n",
      "x = 3\n",
      "y = 2\n"
     ]
    }
   ],
   "source": [
    "def f(x):\n",
    "    y = 1\n",
    "    x = x + y\n",
    "    print('x =', x)\n",
    "    return x\n",
    "\n",
    "x = 3\n",
    "y = 2\n",
    "z = f(x)\n",
    "\n",
    "print('z =', z)\n",
    "print('x =', x)\n",
    "print('y =', y)"
   ]
  },
  {
   "cell_type": "markdown",
   "id": "222ccd5b",
   "metadata": {},
   "source": [
    "这里发生了什么？\n",
    "- 在调用函数f时，形式参数x被局部绑定到实际参数x的值。注意：虽然实际参数和形式参数有相同的名字，但是它们是不是相同的变量。每个函数定义了一个新的名字空间，也叫作用域。形式参数x和局部变量y只存在于f定义的作用域内。在函数体内的赋值语句将局部名字x绑定到对象4。在f内的赋值对在函数f作用域外部存在名字x和y的绑定没有影响。\n",
    "\n",
    "可以这么来理解：\n",
    "- 在最高层，即shell层，有一个符号表记录了在这一层定义的所有名字，及其当前的绑定。\n",
    "- 当一个函数被调用时，一个新的叫栈帧的符号表被创建了。这张表记录了在函数内的所有名字(包括了形式参数)，及其当前的绑定。如果在一个函数体内调用了一个函数，则会创建一个新的栈帧。\n",
    "- 当函数调用完成，它的栈帧就销毁了。\n",
    "\n",
    "在Python中，可通过看程序文本来确定一个名字的作用域，即静态作用域。\n",
    "\n",
    "图4.2里展示了一个说明Python作用域规则的示例。"
   ]
  },
  {
   "cell_type": "code",
   "execution_count": 8,
   "id": "73126aa5",
   "metadata": {
    "slideshow": {
     "slide_type": "-"
    }
   },
   "outputs": [
    {
     "name": "stdout",
     "output_type": "stream",
     "text": [
      "x = 4\n",
      "z = 4\n",
      "x = abc\n",
      "x = 4\n",
      "x = 3\n",
      "z = <function f.<locals>.g at 0x7ff3c3e745e0>\n",
      "x = abc\n"
     ]
    }
   ],
   "source": [
    "def f(x):\n",
    "    def g():\n",
    "        x = 'abc'\n",
    "        print('x =', x)\n",
    "    def h():\n",
    "        z = x\n",
    "        print('z =', z)\n",
    "    \n",
    "    x = x + 1\n",
    "    print('x =', x)\n",
    "    h()\n",
    "    g()\n",
    "    print('x =', x)\n",
    "    return g\n",
    "\n",
    "x = 3\n",
    "z = f(x)\n",
    "\n",
    "print('x =', x)\n",
    "print('z =', z)\n",
    "\n",
    "z()   "
   ]
  },
  {
   "cell_type": "markdown",
   "id": "b639887e",
   "metadata": {
    "slideshow": {
     "slide_type": "-"
    }
   },
   "source": [
    "图4.3里描述了跟代码关联的栈帧历史。\n",
    "\n",
    "- 第一列包含了在函数体外的名字的集合，即变量x、z和函数名f。第一条赋值语句将x绑定到对象3。\n",
    "- 赋值语句z=f(x)先通过带着x被绑定的值调用函数f来对表达式f(x)求值。当进入f时，创建了一个栈帧，请看第2列。在栈帧里的变量是x(是形式参数，不是调用的参数)、g、h。变量g和h被绑定到函数类型的对象。这些函数的性质由在f内的定义给出。\n",
    "- 当在f内调用h时，又创建了一个栈帧，看第3列。这个栈帧里只包含了局部变量z。为什么它不包含变量x？只有当一个名字是一个形式参数或者一个绑定到函数体内部的一个对象时，这个名字才被加入到跟该函数相关的作用域里。在h的函数体里，x之出现在一条赋值语句的右边。在h函数体里的没有绑定给一个对象的变量x的出现会引起解释器去搜索该函数被定义的作用域关联关联的栈帧，即f的作用域关联的栈帧。如果发现了，就使用它被绑定的值。如果没发现，则输出错误消息。\n",
    "- 当h返回时，跟h关联的栈帧就消失了，看第四列。注意，我们永远不会从栈的中间移除帧，只移除最近被添加的帧。正是由于它具有后进先出的性质，我们才引用它为栈。\n",
    "- 接下来，调用g，包含g的局部变量x的栈帧就被创建了。当g返回了，那个帧就被弹出了，看第六列。当f返回了，包含跟f关联的名字的栈帧被弹出了，使我们回到最初的栈帧，看第7列。\n",
    "- 注意，当f返回了，即使变量g不存在了，那个名字曾经绑定的函数类型的对象还存在。这是因为函数是对象，可像其他类型的对象一样被返回。所以z可被绑定到由f返回的值，函数调用z()可被用来调用在f内部的名字g曾经被绑定的函数，即使名字g在f的作用域外是未知的。\n",
    "\n",
    "对名字引用的出现顺序是无关紧要的。如果一个对象被绑定给在函数体内任意位置的名字，则它被看做是那个函数的局部名。比如："
   ]
  },
  {
   "cell_type": "code",
   "execution_count": 9,
   "id": "b3fa5124",
   "metadata": {},
   "outputs": [
    {
     "name": "stdout",
     "output_type": "stream",
     "text": [
      "3\n"
     ]
    },
    {
     "ename": "UnboundLocalError",
     "evalue": "local variable 'x' referenced before assignment",
     "output_type": "error",
     "traceback": [
      "\u001b[0;31m---------------------------------------------------------------------------\u001b[0m",
      "\u001b[0;31mUnboundLocalError\u001b[0m                         Traceback (most recent call last)",
      "\u001b[0;32m/var/folders/ys/_mwzpxjn5mnbrrw71f2phd5h0000gn/T/ipykernel_774/2553130233.py\u001b[0m in \u001b[0;36m<module>\u001b[0;34m\u001b[0m\n\u001b[1;32m      9\u001b[0m \u001b[0mf\u001b[0m\u001b[0;34m(\u001b[0m\u001b[0;34m)\u001b[0m\u001b[0;34m\u001b[0m\u001b[0;34m\u001b[0m\u001b[0m\n\u001b[1;32m     10\u001b[0m \u001b[0mx\u001b[0m \u001b[0;34m=\u001b[0m \u001b[0;36m3\u001b[0m\u001b[0;34m\u001b[0m\u001b[0;34m\u001b[0m\u001b[0m\n\u001b[0;32m---> 11\u001b[0;31m \u001b[0mg\u001b[0m\u001b[0;34m(\u001b[0m\u001b[0;34m)\u001b[0m\u001b[0;34m\u001b[0m\u001b[0;34m\u001b[0m\u001b[0m\n\u001b[0m",
      "\u001b[0;32m/var/folders/ys/_mwzpxjn5mnbrrw71f2phd5h0000gn/T/ipykernel_774/2553130233.py\u001b[0m in \u001b[0;36mg\u001b[0;34m()\u001b[0m\n\u001b[1;32m      3\u001b[0m \u001b[0;34m\u001b[0m\u001b[0m\n\u001b[1;32m      4\u001b[0m \u001b[0;32mdef\u001b[0m \u001b[0mg\u001b[0m\u001b[0;34m(\u001b[0m\u001b[0;34m)\u001b[0m\u001b[0;34m:\u001b[0m\u001b[0;34m\u001b[0m\u001b[0;34m\u001b[0m\u001b[0m\n\u001b[0;32m----> 5\u001b[0;31m     \u001b[0mprint\u001b[0m\u001b[0;34m(\u001b[0m\u001b[0mx\u001b[0m\u001b[0;34m)\u001b[0m\u001b[0;34m\u001b[0m\u001b[0;34m\u001b[0m\u001b[0m\n\u001b[0m\u001b[1;32m      6\u001b[0m     \u001b[0mx\u001b[0m \u001b[0;34m=\u001b[0m \u001b[0;36m1\u001b[0m\u001b[0;34m\u001b[0m\u001b[0;34m\u001b[0m\u001b[0m\n\u001b[1;32m      7\u001b[0m \u001b[0;34m\u001b[0m\u001b[0m\n",
      "\u001b[0;31mUnboundLocalError\u001b[0m: local variable 'x' referenced before assignment"
     ]
    }
   ],
   "source": [
    "def f():\n",
    "    print(x)\n",
    "    \n",
    "def g():\n",
    "    print(x)\n",
    "    x = 1\n",
    "    \n",
    "x = 3\n",
    "f()\n",
    "x = 3\n",
    "g()"
   ]
  },
  {
   "cell_type": "markdown",
   "id": "7fa253f7",
   "metadata": {},
   "source": [
    "这是因为跟在`print`语句后的赋值语句导致`x`成为`g`的局部变量。因为`x`是`g`的局部变量，所以当`print`语句被执行时，它没有值。\n",
    "\n",
    "还迷惑吗？大部分人都要花费一点时间来理解作用域规则。别让它困扰你。现在，开始使用函数。大部分时候，你会发现，你只想使用函数的局部变量，作用域规则的微妙细节将是不相关的。"
   ]
  },
  {
   "cell_type": "markdown",
   "id": "69e8faee",
   "metadata": {},
   "source": [
    "## 4.2 规范\n",
    "\n",
    "图4.4定义了`findRoot`函数，它推广了用来寻找平方根的二分搜索法。它还包含了一个`testFindRoot`方法，可用来测试`findRoot`是否像预期那样工作。"
   ]
  },
  {
   "cell_type": "code",
   "execution_count": 13,
   "id": "9eb4a0bc",
   "metadata": {},
   "outputs": [
    {
     "name": "stdout",
     "output_type": "stream",
     "text": [
      "Testing x = 0.25 and power = 1\n",
      "   0.25 ~= 0.25\n",
      "Testing x = 0.25 and power = 2\n",
      "   0.25 ~= 0.25\n",
      "Testing x = 0.25 and power = 3\n",
      "   0.24990749079734087 ~= 0.25\n",
      "Testing x = -0.25 and power = 1\n",
      "   -0.25 ~= -0.25\n",
      "Testing x = -0.25 and power = 2\n",
      "  No root\n",
      "Testing x = -0.25 and power = 3\n",
      "   -0.24990749079734087 ~= -0.25\n",
      "Testing x = 2 and power = 1\n",
      "   1.999908447265625 ~= 2\n",
      "Testing x = 2 and power = 2\n",
      "   2.0000906325876713 ~= 2\n",
      "Testing x = 2 and power = 3\n",
      "   2.000059155646067 ~= 2\n",
      "Testing x = -2 and power = 1\n",
      "   -1.999908447265625 ~= -2\n",
      "Testing x = -2 and power = 2\n",
      "  No root\n",
      "Testing x = -2 and power = 3\n",
      "   -2.000059155646067 ~= -2\n",
      "Testing x = 8 and power = 1\n",
      "   7.999931335449219 ~= 8\n",
      "Testing x = 8 and power = 2\n",
      "   7.99999568007479 ~= 8\n",
      "Testing x = 8 and power = 3\n",
      "   8.000068664747232 ~= 8\n",
      "Testing x = -8 and power = 1\n",
      "   -7.999931335449219 ~= -8\n",
      "Testing x = -8 and power = 2\n",
      "  No root\n",
      "Testing x = -8 and power = 3\n",
      "   -8.000068664747232 ~= -8\n"
     ]
    }
   ],
   "source": [
    "def findRoot(x, power, epsilon):\n",
    "    \"\"\"\n",
    "    假设x和epsilon为int或者float，power是int，epsilon>0，且power>=1\n",
    "    \n",
    "    返回float型y满足y**power在x的epsilon范围内。如果这样的float不存在，返回None\n",
    "    \"\"\"\n",
    "    if x <= 0 and power%2 == 0:\n",
    "        return None\n",
    "    \n",
    "    low = min(-1.0,x)\n",
    "    high = max(1.0, x)\n",
    "    ans = (high+low)/2\n",
    "    \n",
    "    while abs(ans**power-x)>=epsilon:\n",
    "        if ans**power < x:\n",
    "            low = ans\n",
    "        else:\n",
    "            high = ans\n",
    "        \n",
    "        ans = (high+low)/2\n",
    "    \n",
    "    return ans\n",
    "\n",
    "def testFindRoot():\n",
    "    epsilon = 0.0001\n",
    "    \n",
    "    for x in [0.25, -0.25, 2, -2, 8 , -8]:\n",
    "        for power in range(1,4):\n",
    "            print('Testing x =', str(x), 'and power =', power)\n",
    "            result = findRoot(x, power, epsilon)\n",
    "            if result == None:\n",
    "                print('  No root')\n",
    "            else:\n",
    "                print('  ', result**power, '~=', x)\n",
    "                \n",
    "testFindRoot()"
   ]
  },
  {
   "cell_type": "markdown",
   "id": "a1e4dd9f",
   "metadata": {},
   "source": [
    "`testFindRoot`函数几乎跟`findRoot`一样长。对于没经验的程序员来说，编写诸如这样的测试函数似乎是浪费时间。但是，有经验的程序员知道：在编写测试代码方面的投资经常会得到巨大的回报。在调试过程中，它肯定比在shell中反复键入测试用例要好。它也强迫我们思考哪些测试可能最有启发性。\n",
    "\n",
    "在三重引号标志间的文本叫做Python中的**文档字符串**。根据约定，Python程序员使用文档字符串来提供对函数的说明。这些文档字符串可通过使用内置函数help来访问。比如，如果我们在shell中键入`help(abs)`，则系统将展示："
   ]
  },
  {
   "cell_type": "code",
   "execution_count": 14,
   "id": "8352b416",
   "metadata": {},
   "outputs": [
    {
     "name": "stdout",
     "output_type": "stream",
     "text": [
      "Help on built-in function abs in module builtins:\n",
      "\n",
      "abs(x, /)\n",
      "    Return the absolute value of the argument.\n",
      "\n"
     ]
    }
   ],
   "source": [
    "help(abs)"
   ]
  },
  {
   "cell_type": "markdown",
   "id": "4b78c990",
   "metadata": {},
   "source": [
    "如果图4.4的代码被加载进一个IDE，则`help(findRoot)`会展示："
   ]
  },
  {
   "cell_type": "code",
   "execution_count": 15,
   "id": "a98d01c4",
   "metadata": {},
   "outputs": [
    {
     "name": "stdout",
     "output_type": "stream",
     "text": [
      "Help on function findRoot in module __main__:\n",
      "\n",
      "findRoot(x, power, epsilon)\n",
      "    假设x和epsilon为int或者float，power是int，epsilon>0，且power>=1\n",
      "    \n",
      "    返回float型y满足y**power在x的epsilon范围内。如果这样的float不存在，返回None\n",
      "\n"
     ]
    }
   ],
   "source": [
    "help(findRoot)"
   ]
  },
  {
   "cell_type": "markdown",
   "id": "6c3406bf",
   "metadata": {},
   "source": [
    "一个函数的规范定义了函数的实现者跟使用者之间的约定。通常认为这类约定包含两个部分：\n",
    "- 假设\n",
    "\n",
    "  假设描述了函数的使用者必须要满足的条件。通常，它们描述关于实际参数的约束。常见的是指定每个参数可接受的类型的取值范围。比如，`findRoot`文档字符串的前两行描述了其使用者必须要满足的假设。\n",
    "  \n",
    "- 保证\n",
    "\n",
    "  保证描述了函数必须要满足的条件，基于它按照满足假设的方式来调用。比如，`findRoot`文档字符串的后两行描述了函数的实现必须要满足的保证。"
   ]
  },
  {
   "cell_type": "markdown",
   "id": "146200ca",
   "metadata": {},
   "source": [
    "函数是一种创建计算元素的方式，我们可将其视为原语。正如我们有内置的函数`max`和`abs`一样，我们希望有等价的可以寻找平方根以及其他复杂操作的内置函数。函数通过提供分解和抽象等来促进这一点。\n",
    "\n",
    "- 分解就是创建结构。它允许我们将一个程序分解成合理的、自我包含的部分，且这些部分可以在不同的背景下被重复使用。\n",
    "\n",
    "- 抽象就是隐藏细节。它允许我们使用一块代码就像它是一个黑匣子一样。抽象的本质是保留跟某个上下文相关的信息，忘记那些不相关的信息。在编程中有效抽象的关键就是找个一个既符合抽象构建者又符合抽象使用者的相关性的概念。这才是编程的艺术。\n",
    "\n",
    "抽象就是忘记。\n",
    "\n",
    "假设你被要求制作一门包含25节课的计算机科学入门课程。一种方法是招募25位教授，让他们每人准备一小时自己喜欢的话题的讲座。虽然你可能会得到25个精彩的小时，但整件事很可能感觉像是皮兰德罗的《寻找作者的六个角色》的戏剧化。如果每位教授都是单独工作，他们就不知道如何将自己课上的材料与其他课上涉及的材料联系起来。\n",
    "\n",
    "无论如何，你需要让每个人都知道其他人在做什么，而不是产生太多没人愿意参与的工作。这就是**抽象**的由来。你可以写25个说明，每个说明学生在每节课应该学习什么材料，但不给出任何关于这些材料应该如何教授的细节。你得到的东西可能在教学上不是很好，但至少是有意义的。\n",
    "\n",
    "这是组织使用程序员团队来完成工作的方式。给定一个模块的规范，程序员可以致力于实现该模块，而不必过分担心团队中的其他程序员正在做什么。此外，其他程序员可以使用该规范开始编写使用该模块的代码，而不必过分担心该模块将如何实现。\n",
    "\n",
    "`findRoot`的规范是对满足规范的所有可能实现的一种抽象。`findRoot`的客户端可以假设该实现满足规范，但是他们不应该做更多的假设。例如，客户端可以假设调用`findRoot(4.0, 2,0.01)`返回一些平方在3.99和4.01之间的值。返回的值可以是正的或负的，即使4.0是一个完全平方，返回的值也可能不是2.0或-2.0。"
   ]
  }
 ],
 "metadata": {
  "celltoolbar": "原始单元格格式",
  "kernelspec": {
   "display_name": "Python 3 (ipykernel)",
   "language": "python",
   "name": "python3"
  },
  "language_info": {
   "codemirror_mode": {
    "name": "ipython",
    "version": 3
   },
   "file_extension": ".py",
   "mimetype": "text/x-python",
   "name": "python",
   "nbconvert_exporter": "python",
   "pygments_lexer": "ipython3",
   "version": "3.9.0"
  }
 },
 "nbformat": 4,
 "nbformat_minor": 5
}
