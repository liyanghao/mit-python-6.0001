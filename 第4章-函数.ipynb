{
 "cells": [
  {
   "cell_type": "markdown",
   "id": "6d4ffa4c",
   "metadata": {},
   "source": [
    "截止目前，我们已介绍了数字、赋值语句、输入/输出语句、比较操作、循环结构。Python的这个子集的功能有多强大？\n",
    "\n",
    "答：从理论上讲，**它是图灵完备的**。这意味着如果一个问题是可以通过计算求解的，那么它就能使用你已经看到的那些语句来求解。\n",
    "\n",
    "并不是说你应该只使用这些语句。此时，我们已介绍了许多语言机制，但是代码一直是单个指令序列，所有合并在一起。比如，在上一章里看到的代码，"
   ]
  },
  {
   "cell_type": "code",
   "execution_count": 1,
   "id": "7643cdbb",
   "metadata": {},
   "outputs": [
    {
     "name": "stdout",
     "output_type": "stream",
     "text": [
      "numGuesses = 13\n",
      "5.00030517578125 is close to square root of 25\n"
     ]
    }
   ],
   "source": [
    "x = 25\n",
    "epsilon = 0.01\n",
    "numGuesses = 0\n",
    "low = 0.0\n",
    "high = max(1.0, x)\n",
    "ans = (low + high)/2.0\n",
    "\n",
    "while abs(ans**2 -x)>= epsilon:\n",
    "    numGuesses += 1\n",
    "    if ans**2 < x:\n",
    "        low = ans\n",
    "    else:\n",
    "        high = ans\n",
    "    ans = (low + high)/2.0\n",
    "    \n",
    "print('numGuesses =', numGuesses)\n",
    "print(ans,'is close to square root of', x)"
   ]
  },
  {
   "cell_type": "markdown",
   "id": "7061737d",
   "metadata": {},
   "source": [
    "虽然这是一个可读性强的代码，但是它缺少通用性。它仅对变量x和epsilon代表的值生效。这意味着如果我们想重新使用它，我们需要拷贝代码，可能要编辑变量名，把它粘贴到我们想使用它的地方。由于这个原因，我们不能轻易地在其他更复杂的计算中使用这个计算。\n",
    "\n",
    "而且，如果想计算立方根，而不是平方根，我们不得不重新编辑代码。如果我们想要一个既计算平方根，又计算立方根的程序，该程序包含了大段的几乎一模一样的代码，更容易出错，且更难维护代码。\n",
    "\n",
    "想象一下，比如在原来的平方根代码里有错误，当测试时发现了。很容易出现：在一个地方修正了，但其他也需要修正的相似代码处忘记修正了。\n",
    "\n",
    "Python提供了若干个使推广和重用代码变得相对容易的语言特征。函数是其中最重要的。"
   ]
  },
  {
   "cell_type": "markdown",
   "id": "322781d3",
   "metadata": {},
   "source": [
    "## 4.1 函数和作用域\n",
    "\n",
    "我们已经使用了一些内置函数，比如`max`和`abs`。对程序员来说，可以定义并使用自己的函数，就像它们是内置的一样，是朝方便性迈出的一个质的飞跃。\n",
    "\n",
    "### 4.1.1 函数定义\n",
    "\n",
    "在Python中，每个函数定义都有如下形式：\n",
    "```\n",
    "def name of function (list of formal parameters):\n",
    "    body of function\n",
    "```\n",
    "\n",
    "比如，定义函数`maxVal`为："
   ]
  },
  {
   "cell_type": "code",
   "execution_count": 5,
   "id": "b4f35779",
   "metadata": {},
   "outputs": [],
   "source": [
    "def maxVal(x, y):\n",
    "    if x > y:\n",
    "        return x\n",
    "    else:\n",
    "        return y"
   ]
  },
  {
   "cell_type": "markdown",
   "id": "9afcbf7a",
   "metadata": {},
   "source": [
    "其中，\n",
    "- `def`是一个保留字，告诉Python这是一个函数定义。\n",
    "- 函数名只是一个用来引用函数的名字而已。\n",
    "- 跟在函数名之后的括号内的名字序列是函数的**形式参数**。\n",
    "\n",
    "  当使用函数时，形式参数被绑定为**函数调用**中的**实际参数**(跟赋值语句一样)。比如，`maxVal(3,4)`将x绑定到3，将y绑定到4。\n",
    "- 函数体可以是任意的Python代码。注意，return语句只能在函数体中使用。"
   ]
  },
  {
   "cell_type": "markdown",
   "id": "c5140c73",
   "metadata": {},
   "source": [
    "一个函数调用就是一个表达式。跟所有表达式一样，函数调用有一个值。那个值是由被调用函数返回的值。比如，表达式`maxVal(3,4)*maxVal(3,2)`的值是12，因为第一个函数调用返回`int 4`，第二个函数调用返回`int 3`。注意，`return`语句的执行结束了该函数的调用。"
   ]
  },
  {
   "cell_type": "markdown",
   "id": "7b4b6d61",
   "metadata": {},
   "source": [
    "总结一下，当一个函数被调用时：\n",
    "1. 对组成实际参数的表达式求值，将函数的形式参数绑定到这些结果值上。\n",
    "   \n",
    "   比如，当对调用求值式，调用`maxVal(3+4,z)`将形式参数绑定到7，形式参数y绑定到变量z表示的任何值。\n",
    "2. 执行点从当前调用点移动到函数体的第一条语句。\n",
    "\n",
    "3. 执行函数体中的代码直到碰到一条`return`语句(这种情况下，跟在`return`后的表达式的值就是函数调用的值)或者再也没有语句要执行了(这种情况下，函数返回`None`)。\n",
    "\n",
    "   如果`return`后没有表达式，那么调用的值就是`None`。\n",
    "4. 调用的值就是返回的值。\n",
    "5. 执行点切回到跟在调用后的代码处。"
   ]
  },
  {
   "cell_type": "markdown",
   "id": "09c2618a",
   "metadata": {},
   "source": [
    "参数提供了lamda抽象，允许程序员编写操作没有具体对象的代码，但是函数调用者选择的任何对象都被用作实际参数。"
   ]
  },
  {
   "cell_type": "markdown",
   "id": "da78751c",
   "metadata": {},
   "source": [
    "随堂联系：编写一个函数`isIn`，它的形式参数为两个字符串，如果任意一个字符串包含另一个，就返回true，其余情形都是false。"
   ]
  },
  {
   "cell_type": "code",
   "execution_count": 8,
   "id": "70803b54",
   "metadata": {},
   "outputs": [
    {
     "name": "stdout",
     "output_type": "stream",
     "text": [
      "True\n",
      "True\n",
      "False\n"
     ]
    }
   ],
   "source": [
    "def isIn(a, b):\n",
    "    if a in b or b in a:\n",
    "        return True\n",
    "    else:\n",
    "        return False\n",
    "\n",
    "print(isIn('ab', 'dabcd'))\n",
    "\n",
    "print(isIn('dabcd', 'bc'))\n",
    "\n",
    "print(isIn('ab', 'bc'))"
   ]
  },
  {
   "cell_type": "code",
   "execution_count": null,
   "id": "79c7cc83",
   "metadata": {},
   "outputs": [],
   "source": []
  }
 ],
 "metadata": {
  "kernelspec": {
   "display_name": "Python 3 (ipykernel)",
   "language": "python",
   "name": "python3"
  },
  "language_info": {
   "codemirror_mode": {
    "name": "ipython",
    "version": 3
   },
   "file_extension": ".py",
   "mimetype": "text/x-python",
   "name": "python",
   "nbconvert_exporter": "python",
   "pygments_lexer": "ipython3",
   "version": "3.9.0"
  }
 },
 "nbformat": 4,
 "nbformat_minor": 5
}
