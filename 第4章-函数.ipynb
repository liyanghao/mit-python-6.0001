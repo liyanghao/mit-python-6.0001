{
 "cells": [
  {
   "cell_type": "markdown",
   "id": "80986a82",
   "metadata": {},
   "source": [
    "截止目前，我们已介绍了数字、赋值语句、输入/输出语句、比较操作、循环结构。Python的这个子集的功能有多强大？\n",
    "\n",
    "答：从理论上讲，**它是图灵完备的**。这意味着如果一个问题是可以通过计算求解的，那么它就能使用你已经看到的那些语句来求解。\n",
    "\n",
    "并不是说你应该只使用这些语句。此时，我们已介绍了许多语言机制，但是代码一直是单个指令序列，所有合并在一起。比如，在上一章里看到的代码，"
   ]
  },
  {
   "cell_type": "code",
   "execution_count": 1,
   "id": "2ca408d9",
   "metadata": {},
   "outputs": [
    {
     "name": "stdout",
     "output_type": "stream",
     "text": [
      "numGuesses = 13\n",
      "5.00030517578125 is close to square root of 25\n"
     ]
    }
   ],
   "source": [
    "x = 25\n",
    "epsilon = 0.01\n",
    "numGuesses = 0\n",
    "low = 0.0\n",
    "high = max(1.0, x)\n",
    "ans = (low + high)/2.0\n",
    "\n",
    "while abs(ans**2 -x)>= epsilon:\n",
    "    numGuesses += 1\n",
    "    if ans**2 < x:\n",
    "        low = ans\n",
    "    else:\n",
    "        high = ans\n",
    "    ans = (low + high)/2.0\n",
    "    \n",
    "print('numGuesses =', numGuesses)\n",
    "print(ans,'is close to square root of', x)"
   ]
  },
  {
   "cell_type": "markdown",
   "id": "c8475b69",
   "metadata": {},
   "source": [
    "虽然这是一个可读性强的代码，但是它缺少通用性。它仅对变量x和epsilon代表的值生效。这意味着如果我们想重新使用它，我们需要拷贝代码，可能要编辑变量名，把它粘贴到我们想使用它的地方。由于这个原因，我们不能轻易地在其他更复杂的计算中使用这个计算。\n",
    "\n",
    "而且，如果想计算立方根，而不是平方根，我们不得不重新编辑代码。如果我们想要一个既计算平方根，又计算立方根的程序，该程序包含了大段的几乎一模一样的代码，更容易出错，且更难维护代码。\n",
    "\n",
    "想象一下，比如在原来的平方根代码里有错误，当测试时发现了。很容易出现：在一个地方修正了，但其他也需要修正的相似代码处忘记修正了。\n",
    "\n",
    "Python提供了若干个语言特征来s"
   ]
  }
 ],
 "metadata": {
  "kernelspec": {
   "display_name": "Python 3 (ipykernel)",
   "language": "python",
   "name": "python3"
  },
  "language_info": {
   "codemirror_mode": {
    "name": "ipython",
    "version": 3
   },
   "file_extension": ".py",
   "mimetype": "text/x-python",
   "name": "python",
   "nbconvert_exporter": "python",
   "pygments_lexer": "ipython3",
   "version": "3.9.0"
  }
 },
 "nbformat": 4,
 "nbformat_minor": 5
}
