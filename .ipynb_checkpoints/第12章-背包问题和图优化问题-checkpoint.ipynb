{
 "cells": [
  {
   "cell_type": "markdown",
   "id": "61c09a71",
   "metadata": {},
   "source": [
    "优化问题的概念为解决许多计算问题提供了一种结构化的方法。当你着手解决一个涉及到寻找最大、最小、最多、最少、最快、最便宜等问题时，你就很有可能将这个问题映射到一个经典的、有已知计算解的优化问题上。\n",
    "\n",
    "一般情况下，优化问题分为两部分:\n",
    "- 一个要最大化或最小化的**目标函数**。例如，波士顿和伊斯坦布尔之间的机票。\n",
    "- 一组必须遵守的**约束**(可能为空)。例如，旅行时间的上限。\n",
    "\n",
    "在本章中，我们介绍了优化问题的概念并给出了一些例子。我们还提供了一些解决它们的简单算法。在第13章中，我们讨论了解决一类重要优化问题的有效方法。\n",
    "本章的主要内容是：\n",
    "- 许多真正重要的问题可以用一种简单的方式来表述，从而自然地得出计算解决方案。\n",
    "- 将看似新的问题简化为众所周知的问题的实例，从而可以使用预先存在的解决方案。\n",
    "- 背包问题和图形问题是一类问题，通常可以将其他问题归结为这些问题。\n",
    "- 穷尽枚举算法提供了一种最佳的、简单的搜索解决方案但通常在计算上难以处理。\n",
    "- 贪心算法通常是一种实用的方法，可以为优化问题找到一个很好但并不总是最佳的解决方案。\n",
    "\n",
    "像往常一样，我们将用一些`Python`和一些编程技巧来补充有关计算思维的材料。"
   ]
  },
  {
   "cell_type": "markdown",
   "id": "88d37b05",
   "metadata": {},
   "source": [
    "## 12.1 背包问题\n"
   ]
  }
 ],
 "metadata": {
  "kernelspec": {
   "display_name": "Python 3 (ipykernel)",
   "language": "python",
   "name": "python3"
  },
  "language_info": {
   "codemirror_mode": {
    "name": "ipython",
    "version": 3
   },
   "file_extension": ".py",
   "mimetype": "text/x-python",
   "name": "python",
   "nbconvert_exporter": "python",
   "pygments_lexer": "ipython3",
   "version": "3.9.6"
  }
 },
 "nbformat": 4,
 "nbformat_minor": 5
}
