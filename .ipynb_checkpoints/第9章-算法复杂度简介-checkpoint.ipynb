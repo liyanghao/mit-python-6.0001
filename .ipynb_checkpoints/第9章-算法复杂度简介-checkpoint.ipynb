{
 "cells": [
  {
   "cell_type": "markdown",
   "id": "99d1384e",
   "metadata": {},
   "source": [
    "设计和实现一个程序要考虑的最重要的事是**程序应该产生可靠的结果**。比如，我们希望我们的银行卡余额被正确地计算。我们希望我们的汽车里的喷油器能喷出合适的燃料。我们既不想飞机坠毁，也不想操作系统崩溃。\n",
    "\n",
    "有时，**性能**是正确性的一个重要方面。\n",
    "\n",
    "对于需要实时运行的程序来说，这是最显然的。一个警告飞机潜在障碍物的程序需要在碰到障碍物之前发出警告。\n",
    "\n",
    "性能也会影响许多非实时应用的效用。当评估数据库的性能时，每分钟完成的事务数是一个重要的度量。用户关心手机上开启一个应用所需的时间。生物学家关心它们的系统发育推断花费的时间。\n",
    "\n",
    "写高效率的程序不容易。最直接的解往往不是最有效的。计算效率高的程序通常会利用微妙的算法，使其很难被理解。为了减小**计算复杂度**，程序员通常会增加**概念复杂度**。为了以合理的方式做到这一点，我们需要理解如何评估一个程序的计算复杂度。这就是本章的主题。"
   ]
  },
  {
   "cell_type": "markdown",
   "id": "c1d10814",
   "metadata": {},
   "source": [
    "## 9.1 思考计算复杂度\n",
    "\n",
    "问题1：下面的程序将花费多长时间来运行？"
   ]
  },
  {
   "cell_type": "code",
   "execution_count": 1,
   "id": "5c4238ce",
   "metadata": {},
   "outputs": [
    {
     "name": "stdout",
     "output_type": "stream",
     "text": [
      "120\n"
     ]
    }
   ],
   "source": [
    "def f(i):\n",
    "    \"\"\"假设i是一个整数，且i>=0\"\"\"\n",
    "    answer = 1\n",
    "    while i >= 1:\n",
    "        answer *= i\n",
    "        i = i - 1\n",
    "    return answer\n",
    "\n",
    "print(f(5))"
   ]
  },
  {
   "cell_type": "markdown",
   "id": "c7d6e20c",
   "metadata": {},
   "source": [
    "我们可以对某些输入运行程序，并计时。但是那并不是特别有用，因为结果取决于以下三个因素：\n",
    "- 运行它的计算机的速度\n",
    "- 在那台机器上的Python实现的效率\n",
    "- 输入值\n",
    "\n",
    "我们使用更抽象的时间测量来解决前两个问题。不用毫秒数来测量时间，我们使用**一个程序执行的基本步骤的数量来衡量时间**。\n",
    "\n",
    "为了简单起见，我们使用**随机访问机器**作为我们的计算模型。\n",
    "- 在一台随机访问机器上，步骤是被顺序执行的，一次执行一个步骤。\n",
    "- 一个步骤就是一个花费固定时间的操作，比如绑定一个变量到一个对象，作比较，执行一个算术操作，访问内存中的一个对象等。\n",
    "\n",
    "既然我们有了更抽象的测量时间的方式，那么我们转到输入值依赖的问题上来。我们处理这个问题从将时间复杂度表示为单个数转移到**建立时间复杂度跟输入大小的关联**上。这就允许我们通过讨论**每个算法随着输入大小增长如何变化**来比较两个算法的效率。\n",
    "\n",
    "当然，一个算法实际运行时间不仅取决于输入的大小，也取决于输入值。比如，\n",
    "\n",
    "问题2：考虑线性搜索算法可被实现为："
   ]
  },
  {
   "cell_type": "code",
   "execution_count": 3,
   "id": "db6d7360",
   "metadata": {},
   "outputs": [],
   "source": [
    "def linearSearch(L,x):\n",
    "    for e in L:\n",
    "        if e == x:\n",
    "            return True\n",
    "    return False"
   ]
  },
  {
   "cell_type": "markdown",
   "id": "64b64628",
   "metadata": {},
   "source": [
    "假设L是一个包含100万个元素的列表，考虑调用`linearSearch(L,3)`。\n",
    "\n",
    "如果L中的第一个元素是3，则`linearSearch`立即返回True。\n",
    "如果3不在L中，则`linearSearch`在返回False前要检测所有100万个元素。\n",
    "\n"
   ]
  }
 ],
 "metadata": {
  "kernelspec": {
   "display_name": "Python 3 (ipykernel)",
   "language": "python",
   "name": "python3"
  },
  "language_info": {
   "codemirror_mode": {
    "name": "ipython",
    "version": 3
   },
   "file_extension": ".py",
   "mimetype": "text/x-python",
   "name": "python",
   "nbconvert_exporter": "python",
   "pygments_lexer": "ipython3",
   "version": "3.9.0"
  }
 },
 "nbformat": 4,
 "nbformat_minor": 5
}
