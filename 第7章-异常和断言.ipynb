{
 "cells": [
  {
   "cell_type": "markdown",
   "id": "c6f36d52",
   "metadata": {},
   "source": [
    "“异常”通常被定义为“不符合规范的东西”，因此它有点罕见。\n",
    "\n",
    "Python中的异常并不罕见。他们到处都有。\n",
    "\n",
    "实际上，标准Python库中的每个模块都使用异常，Python本身也会在许多不同的情况下引发它们。你们已经看过一些了。\n",
    "\n",
    "打开一个Python shell，输入代码："
   ]
  },
  {
   "cell_type": "code",
   "execution_count": 1,
   "id": "84c95f95",
   "metadata": {},
   "outputs": [
    {
     "ename": "IndexError",
     "evalue": "list index out of range",
     "output_type": "error",
     "traceback": [
      "\u001b[0;31m---------------------------------------------------------------------------\u001b[0m",
      "\u001b[0;31mIndexError\u001b[0m                                Traceback (most recent call last)",
      "\u001b[0;32m/var/folders/ys/_mwzpxjn5mnbrrw71f2phd5h0000gn/T/ipykernel_4531/2967424531.py\u001b[0m in \u001b[0;36m<module>\u001b[0;34m\u001b[0m\n\u001b[1;32m      1\u001b[0m \u001b[0mtest\u001b[0m \u001b[0;34m=\u001b[0m \u001b[0;34m[\u001b[0m\u001b[0;36m1\u001b[0m\u001b[0;34m,\u001b[0m\u001b[0;36m2\u001b[0m\u001b[0;34m,\u001b[0m\u001b[0;36m3\u001b[0m\u001b[0;34m]\u001b[0m\u001b[0;34m\u001b[0m\u001b[0;34m\u001b[0m\u001b[0m\n\u001b[0;32m----> 2\u001b[0;31m \u001b[0mtest\u001b[0m\u001b[0;34m[\u001b[0m\u001b[0;36m3\u001b[0m\u001b[0;34m]\u001b[0m\u001b[0;34m\u001b[0m\u001b[0;34m\u001b[0m\u001b[0m\n\u001b[0m",
      "\u001b[0;31mIndexError\u001b[0m: list index out of range"
     ]
    }
   ],
   "source": [
    "test = [1,2,3]\n",
    "test[3]"
   ]
  },
  {
   "cell_type": "markdown",
   "id": "c1d7c9b2",
   "metadata": {},
   "source": [
    "`IndexError`是一类“当程序试着去访问在索引类型边界之外的元素时”Python抛出的异常。`IndexError`后面跟的字符串提供了关于是什么导致异常发生的额外信息。\n",
    "\n",
    "Python的大部分内置异常处理的是这样的情形，即程序试着去执行一条没有合适语义的语句。(我们将在本章稍后处理异常的异常，即那些不能处理错误的异常。) 那些编写和运行过Python程序的读者已遇到大部分这类异常。常见的这类异常有：`TypeError`、`IndexError`、`NameError`、`ValueError`等。"
   ]
  },
  {
   "cell_type": "markdown",
   "id": "2c835fcf",
   "metadata": {},
   "source": [
    "## 7.1 异常处理\n",
    "到目前为止，我们将异常视为致命事件。当一个异常被引发时，程序终止(在这种情况下，崩溃可能是一个更合适的词)，然后我们返回到代码中，试图找出出错的地方。当引发一个导致程序终止的异常时，我们说**引发了一个未处理的异常**。\n",
    "\n",
    "异常不需要导致程序终止。当被引发时，异常可以且应当由程序来处理。有时，一个异常被引发是因为程序中存在错误(比如访问不存在的变量)，但很多时候，一个异常是程序员可以也应该预料到的。比如，程序可能试图打开不存在的文件。如果交互程序要求用户输入，用户可能会输入一些不合适的内容。\n",
    "\n",
    "如果你知道当一行代码执行时可能会引发一个异常时，你应该处理这个异常。在一个写的好的代码里，未被处理的异常应该是这类异常。\n",
    "\n",
    "考虑如下代码：\n",
    "```\n",
    "successFailureRatio = numSuccesses/numFailures\n",
    "print('The success/failure ratio is', successFailureRatio)\n",
    "print('Now here')\n",
    "```\n",
    "大多数情况下，这段代码都能正常工作，但是如果`numFailures`碰巧为零，它就会失败。尝试除以`0`将导致Python运行时系统引发一个`ZeroDivisionError`异常，并且永远不会到达`print`语句。\n"
   ]
  },
  {
   "cell_type": "code",
   "execution_count": 2,
   "id": "d0b1a218",
   "metadata": {},
   "outputs": [
    {
     "ename": "ZeroDivisionError",
     "evalue": "division by zero",
     "output_type": "error",
     "traceback": [
      "\u001b[0;31m---------------------------------------------------------------------------\u001b[0m",
      "\u001b[0;31mZeroDivisionError\u001b[0m                         Traceback (most recent call last)",
      "\u001b[0;32m/var/folders/ys/_mwzpxjn5mnbrrw71f2phd5h0000gn/T/ipykernel_4531/885592297.py\u001b[0m in \u001b[0;36m<module>\u001b[0;34m\u001b[0m\n\u001b[1;32m      2\u001b[0m \u001b[0mnumFailures\u001b[0m \u001b[0;34m=\u001b[0m \u001b[0;36m0\u001b[0m\u001b[0;34m\u001b[0m\u001b[0;34m\u001b[0m\u001b[0m\n\u001b[1;32m      3\u001b[0m \u001b[0;34m\u001b[0m\u001b[0m\n\u001b[0;32m----> 4\u001b[0;31m \u001b[0msuccessFailureRatio\u001b[0m \u001b[0;34m=\u001b[0m \u001b[0mnumSuccesses\u001b[0m\u001b[0;34m/\u001b[0m\u001b[0mnumFailures\u001b[0m\u001b[0;34m\u001b[0m\u001b[0;34m\u001b[0m\u001b[0m\n\u001b[0m\u001b[1;32m      5\u001b[0m \u001b[0mprint\u001b[0m\u001b[0;34m(\u001b[0m\u001b[0;34m'The success/failure ratio is'\u001b[0m\u001b[0;34m,\u001b[0m \u001b[0msuccessFailureRatio\u001b[0m\u001b[0;34m)\u001b[0m\u001b[0;34m\u001b[0m\u001b[0;34m\u001b[0m\u001b[0m\n\u001b[1;32m      6\u001b[0m \u001b[0mprint\u001b[0m\u001b[0;34m(\u001b[0m\u001b[0;34m'Now here'\u001b[0m\u001b[0;34m)\u001b[0m\u001b[0;34m\u001b[0m\u001b[0;34m\u001b[0m\u001b[0m\n",
      "\u001b[0;31mZeroDivisionError\u001b[0m: division by zero"
     ]
    }
   ],
   "source": [
    "numSuccesses = 2\n",
    "numFailures = 0\n",
    "\n",
    "successFailureRatio = numSuccesses/numFailures\n",
    "print('The success/failure ratio is', successFailureRatio)\n",
    "print('Now here')"
   ]
  },
  {
   "cell_type": "markdown",
   "id": "865d1eb1",
   "metadata": {},
   "source": [
    "比较好的方式是编写如下形式的代码：\n",
    "```\n",
    "try:\n",
    "    successFailureRatio = numSuccesses/numFailures\n",
    "    print('The success/failure ratio is', successFailureRatio) \n",
    "except ZeroDivisionError:\n",
    "    print('No failures, so the success/failure ratio is undefined.')\n",
    "print('Now here')\n",
    "```"
   ]
  },
  {
   "cell_type": "code",
   "execution_count": 3,
   "id": "a34bb172",
   "metadata": {},
   "outputs": [
    {
     "name": "stdout",
     "output_type": "stream",
     "text": [
      "No failures, so the success/failure ratio is undefined.\n",
      "Now here\n"
     ]
    }
   ],
   "source": [
    "try:\n",
    "    numSuccesses = 2\n",
    "    numFailures = 0\n",
    "    successFailureRatio = numSuccesses/numFailures\n",
    "    print('The success/failure ratio is', successFailureRatio)\n",
    "except ZeroDivisionError:\n",
    "    print('No failures, so the success/failure ratio is undefined.')\n",
    "print('Now here')"
   ]
  },
  {
   "cell_type": "markdown",
   "id": "bffa3821",
   "metadata": {},
   "source": [
    "在进入`try`块时，解释器尝试计算表达式`numsucceeded /numFailures`的值。如果表达式求值成功，程序将表达式的值赋给变量`successfaileratio`，在`try`块的末尾执行`print`语句，然后继续执行`try-except`之后的`print`语句。然而,如果一个`ZeroDivisionError`异常表达式求值，控制立即跳转到`except`块，执行在`except`块里的`print`语句，然后继续执行`try-except`后的`print`语句块。\n",
    "\n",
    "随堂练习：使用`try-except`块来实现一个满足如下规范的函数。\n",
    "```\n",
    "def sumDigits(s):\n",
    "    \"\"\"\n",
    "    Assumes s is a string\n",
    "    Returns the sum of the decimal digits in s\n",
    "    For example, if s is 'a2b3c' it returns 5\n",
    "    \"\"\"\n",
    "```"
   ]
  },
  {
   "cell_type": "code",
   "execution_count": 7,
   "id": "0680fd6b",
   "metadata": {},
   "outputs": [
    {
     "name": "stdout",
     "output_type": "stream",
     "text": [
      "遇到一个非整数的字符： a\n",
      "遇到一个非整数的字符： b\n",
      "遇到一个非整数的字符： c\n",
      "5\n"
     ]
    }
   ],
   "source": [
    "def sumDigits(s):\n",
    "    \"\"\"\n",
    "    Assumes s is a string\n",
    "    Returns the sum of the decimal digits in s\n",
    "    For example, if s is 'a2b3c' it returns 5\n",
    "    \"\"\"\n",
    "    sum = 0\n",
    "    for c in s:\n",
    "        try:\n",
    "            val = int(c)\n",
    "            sum += val\n",
    "        except ValueError:\n",
    "            print('遇到一个非整数的字符：', c)\n",
    "            \n",
    "    return sum\n",
    "\n",
    "print(sumDigits('a2b3c'))"
   ]
  },
  {
   "cell_type": "markdown",
   "id": "a9f0afff",
   "metadata": {},
   "source": [
    "让我们看另一个示例。考虑如下代码："
   ]
  },
  {
   "cell_type": "code",
   "execution_count": 8,
   "id": "dd1b6b5f",
   "metadata": {},
   "outputs": [
    {
     "name": "stdout",
     "output_type": "stream",
     "text": [
      "Enter an integer: abc\n"
     ]
    },
    {
     "ename": "ValueError",
     "evalue": "invalid literal for int() with base 10: 'abc'",
     "output_type": "error",
     "traceback": [
      "\u001b[1;31m---------------------------------------------------------------------------\u001b[0m",
      "\u001b[1;31mValueError\u001b[0m                                Traceback (most recent call last)",
      "\u001b[1;32m~\\AppData\\Local\\Temp/ipykernel_21564/2897470536.py\u001b[0m in \u001b[0;36m<module>\u001b[1;34m\u001b[0m\n\u001b[1;32m----> 1\u001b[1;33m \u001b[0mval\u001b[0m \u001b[1;33m=\u001b[0m \u001b[0mint\u001b[0m\u001b[1;33m(\u001b[0m\u001b[0minput\u001b[0m\u001b[1;33m(\u001b[0m\u001b[1;34m'Enter an integer: '\u001b[0m\u001b[1;33m)\u001b[0m\u001b[1;33m)\u001b[0m\u001b[1;33m\u001b[0m\u001b[1;33m\u001b[0m\u001b[0m\n\u001b[0m\u001b[0;32m      2\u001b[0m \u001b[0mprint\u001b[0m\u001b[1;33m(\u001b[0m\u001b[1;34m'The square of the number you entered is'\u001b[0m\u001b[1;33m,\u001b[0m \u001b[0mval\u001b[0m\u001b[1;33m**\u001b[0m\u001b[1;36m2\u001b[0m\u001b[1;33m)\u001b[0m\u001b[1;33m\u001b[0m\u001b[1;33m\u001b[0m\u001b[0m\n",
      "\u001b[1;31mValueError\u001b[0m: invalid literal for int() with base 10: 'abc'"
     ]
    }
   ],
   "source": [
    "val = int(input('Enter an integer: '))\n",
    "print('The square of the number you entered is', val**2)"
   ]
  },
  {
   "cell_type": "markdown",
   "id": "1253f81a",
   "metadata": {},
   "source": [
    "如果用户键入一个可被转换成整数的字符串，则一切都很好。但是，假设用户键入了`abc`，则执行这一行代码会导致Python运行时系统引发一个`ValueError`异常，永远不会到达`print`语句。\n",
    "\n",
    "程序员写的代码应该像下面这样："
   ]
  },
  {
   "cell_type": "code",
   "execution_count": 13,
   "id": "e67fa87d",
   "metadata": {},
   "outputs": [
    {
     "name": "stdout",
     "output_type": "stream",
     "text": [
      "Enter an integer: abc\n",
      "abc is not an integer\n",
      "Enter an integer: 123\n",
      "The square of the number you entered is 15129\n"
     ]
    }
   ],
   "source": [
    "while True:\n",
    "    val = input('Enter an integer: ')\n",
    "    try:\n",
    "        val = int(val)\n",
    "        print('The square of the number you entered is', val**2)\n",
    "        break #to exit the while loop\n",
    "    except ValueError:\n",
    "        print(val, 'is not an integer')"
   ]
  },
  {
   "cell_type": "markdown",
   "id": "b237cb2e",
   "metadata": {},
   "source": [
    "进入循环后，程序询问用户输入一个整数。一旦用户按下了`Enter`键，那么程序会执行`try-except`块。如果`try`块里的前两条语句都没有导致`ValueError`异常，则执行`break`语句，退出`while`循环。但是，如果`try`块中的代码引发了一个`ValueError`异常，控制立即交给`except`块。因此，如果用户输入了一个不能表示为整数的字符串，那么程序将询问用户再次输入。不管用户输入了什么异常，则它将不会导致一个未被处理的异常。\n",
    "\n",
    "这种修改的缺点是程序文本从两行增加到8行。如果用户被在多处询问输入一个整数，则这样会有问题。当然，这个问题可通过引入一个如下的函数来解决。"
   ]
  },
  {
   "cell_type": "markdown",
   "id": "098b52c1",
   "metadata": {},
   "source": [
    "def readInt():\n",
    "    while True:\n",
    "        val = input('Enter an integer: ')\n",
    "        try:\n",
    "            return(int(val)) #convert str to int before returning\n",
    "        except ValueError:\n",
    "            print(val, 'is not an integer')\n",
    "            \n",
    "readInt()\n",
    "readInt()"
   ]
  },
  {
   "cell_type": "markdown",
   "id": "03d28776",
   "metadata": {},
   "source": [
    "还有更好的，这个函数可被推广来询问任意类型的输入，比如："
   ]
  },
  {
   "cell_type": "code",
   "execution_count": 12,
   "id": "567ec83f",
   "metadata": {},
   "outputs": [
    {
     "name": "stdout",
     "output_type": "stream",
     "text": [
      "Enter an integer: abc\n",
      "abc is not an integer\n",
      "Enter an integer: 123\n"
     ]
    },
    {
     "data": {
      "text/plain": [
       "123"
      ]
     },
     "execution_count": 12,
     "metadata": {},
     "output_type": "execute_result"
    }
   ],
   "source": [
    "def readVal(valType, requestMsg, errorMsg):\n",
    "    while True:\n",
    "        val = input(requestMsg + ' ')\n",
    "        try:\n",
    "            return(valType(val)) #convert str to valType before returning\n",
    "        except ValueError:\n",
    "            print(val, errorMsg)\n",
    "\n",
    "\n",
    "readVal(int, 'Enter an integer:', 'is not an integer')"
   ]
  },
  {
   "cell_type": "markdown",
   "id": "4c9b502d",
   "metadata": {},
   "source": [
    "函数`readVal`是多态的，它为许多不同类型的参数而工作。因为类型是第一类对象，所以这样的函数用python很容易写。\n",
    "\n",
    "我们可以像下面这样询问用户输入一个整数：\n",
    "```\n",
    "val = readVal(int, 'Enter an integer:', 'is not an integer')\n",
    "```\n",
    "\n",
    "异常似乎很不友好，但是考虑另一种情况。比如，当被请求将字符串'abc'转换成一个int类型对象时，类型转换函数int应该做哪些事？它可以返回一个对应于编码字符串的位的整数，但是这不可能跟程序员的意图有联系。作为替代，它可以返回一个特殊的值None。如果它那样做了，则程序员需要插入检查类型转换是否返回None的判断代码。如果忘记了那样的检查，一个程序员将冒着在程序执行期间得到奇怪错误的风险。\n",
    "\n",
    "有异常后，程序员依然需要包含处理异常的代码。但是，如果程序员忘记包含这样的代码，且异常被引发，则程序会立即停止。这是好事，因为它警告程序的用户有麻烦事发生了，显式的bug比隐式的bug要好很多。而且，它把哪里出错的清楚标记提供给人来用于调试程序。\n",
    "\n",
    "有可能一块代码引发不止一类异常，可在保留字except后跟一个由异常组成的元组，比如：\n",
    "```\n",
    "except (ValueError, TypeError):\n",
    "```\n",
    "如果任一列出的异常被引发了，则就进入该`except`块。\n",
    "\n",
    "作为代替，你可以写一个except块处理所有类型的异常，这允许程序基于引发的异常选择一种行为，比如：\n",
    "```\n",
    "except:\n",
    "```\n",
    "\n",
    "如果程序员写了如下代码："
   ]
  },
  {
   "cell_type": "code",
   "execution_count": 15,
   "id": "f6817989",
   "metadata": {},
   "outputs": [
    {
     "name": "stdout",
     "output_type": "stream",
     "text": [
      "[0.25, 0.4, 0.5]\n"
     ]
    }
   ],
   "source": [
    "def getRatios(vect1, vect2):\n",
    "    \"\"\"Assumes: vect1 and vect2 are equal length lists of numbers\n",
    "       Returns: a list containing the meaningful values of \n",
    "           vect1[i]/vect2[i]\"\"\"\n",
    "    ratios = []\n",
    "    for index in range(len(vect1)):\n",
    "        try:\n",
    "            ratios.append(vect1[index]/vect2[index])\n",
    "        except ZeroDivisionError:\n",
    "            ratios.append(float('nan')) #nan = Not a Number\n",
    "        except:\n",
    "            raise ValueError('getRatios called with bad arguments')\n",
    "    return ratios\n",
    "\n",
    "vect1 = [1,2,3]\n",
    "vect2 = [4,5,6]\n",
    "\n",
    "print(getRatios(vect1, vect2))"
   ]
  },
  {
   "cell_type": "markdown",
   "id": "8220f3f4",
   "metadata": {},
   "source": [
    "则如果在try块内引发了任一类型的异常，则就会进入except块。可看图7.1所示。"
   ]
  },
  {
   "cell_type": "markdown",
   "id": "57b33826",
   "metadata": {},
   "source": [
    "## 7.2 异常是一种控制流机制\n",
    "**不要把异常仅当做错误。它是一种方便的、用来简化程序的控制流机制**。\n",
    "\n",
    "在许多编程语言里，标准的处理错误的方法是让函数返回一个值表明有错误发生了。每个函数调用不得不检查是否返回了那个值。在Python里，更普遍的做法是：当函数不能产生与函数规范一致的结果时，就引发一个异常。\n",
    "\n",
    "Python的raise语句强制引发一个指定异常。一个raise语句的形式如下：\n",
    "```\n",
    "raise exceptionName(arguments)\n",
    "```\n",
    "`exceptionName`通常是某个内置异常，比如`ValueError`。但是程序员可以通过创建内置`Exception`类的**子类**来定义新的异常。虽然不同的类型有不同类型的参数，但是大部分时候，这个参数是单个字符串，用来描述异常被触发的理由。\n",
    "\n",
    "随堂测试：实现一个函数满足如下规范：\n",
    "```\n",
    "def findAnEven(L):\n",
    "    \"\"\"\n",
    "    假设L是一个由整数组成的list，\n",
    "    返回在L中的第一个偶数；如果L中不包含偶数，就引发ValueError。\n",
    "    \"\"\"\n",
    "```"
   ]
  },
  {
   "cell_type": "code",
   "execution_count": 18,
   "id": "fabb77aa",
   "metadata": {},
   "outputs": [
    {
     "name": "stdout",
     "output_type": "stream",
     "text": [
      "2\n"
     ]
    },
    {
     "ename": "ValueError",
     "evalue": "L中不包含偶数",
     "output_type": "error",
     "traceback": [
      "\u001b[1;31m---------------------------------------------------------------------------\u001b[0m",
      "\u001b[1;31mValueError\u001b[0m                                Traceback (most recent call last)",
      "\u001b[1;32m~\\AppData\\Local\\Temp/ipykernel_21564/3702037121.py\u001b[0m in \u001b[0;36m<module>\u001b[1;34m\u001b[0m\n\u001b[0;32m     12\u001b[0m \u001b[1;33m\u001b[0m\u001b[0m\n\u001b[0;32m     13\u001b[0m \u001b[0mL\u001b[0m\u001b[1;33m=\u001b[0m \u001b[1;33m[\u001b[0m\u001b[1;36m1\u001b[0m\u001b[1;33m,\u001b[0m\u001b[1;36m3\u001b[0m\u001b[1;33m,\u001b[0m\u001b[1;36m5\u001b[0m\u001b[1;33m]\u001b[0m\u001b[1;33m\u001b[0m\u001b[1;33m\u001b[0m\u001b[0m\n\u001b[1;32m---> 14\u001b[1;33m \u001b[0mprint\u001b[0m\u001b[1;33m(\u001b[0m\u001b[0mfindAnEven\u001b[0m\u001b[1;33m(\u001b[0m\u001b[0mL\u001b[0m\u001b[1;33m)\u001b[0m\u001b[1;33m)\u001b[0m\u001b[1;33m\u001b[0m\u001b[1;33m\u001b[0m\u001b[0m\n\u001b[0m\u001b[0;32m     15\u001b[0m \u001b[1;33m\u001b[0m\u001b[0m\n",
      "\u001b[1;32m~\\AppData\\Local\\Temp/ipykernel_21564/3702037121.py\u001b[0m in \u001b[0;36mfindAnEven\u001b[1;34m(L)\u001b[0m\n\u001b[0;32m      6\u001b[0m             \u001b[1;32mreturn\u001b[0m \u001b[0mi\u001b[0m\u001b[1;33m\u001b[0m\u001b[1;33m\u001b[0m\u001b[0m\n\u001b[0;32m      7\u001b[0m     \u001b[1;32mif\u001b[0m \u001b[1;32mnot\u001b[0m \u001b[0mfind\u001b[0m\u001b[1;33m:\u001b[0m\u001b[1;33m\u001b[0m\u001b[1;33m\u001b[0m\u001b[0m\n\u001b[1;32m----> 8\u001b[1;33m         \u001b[1;32mraise\u001b[0m \u001b[0mValueError\u001b[0m\u001b[1;33m(\u001b[0m\u001b[1;34m'L中不包含偶数'\u001b[0m\u001b[1;33m)\u001b[0m\u001b[1;33m\u001b[0m\u001b[1;33m\u001b[0m\u001b[0m\n\u001b[0m\u001b[0;32m      9\u001b[0m \u001b[1;33m\u001b[0m\u001b[0m\n\u001b[0;32m     10\u001b[0m \u001b[0mL\u001b[0m \u001b[1;33m=\u001b[0m \u001b[1;33m[\u001b[0m\u001b[1;36m1\u001b[0m\u001b[1;33m,\u001b[0m\u001b[1;36m2\u001b[0m\u001b[1;33m,\u001b[0m\u001b[1;36m3\u001b[0m\u001b[1;33m]\u001b[0m\u001b[1;33m\u001b[0m\u001b[1;33m\u001b[0m\u001b[0m\n",
      "\u001b[1;31mValueError\u001b[0m: L中不包含偶数"
     ]
    }
   ],
   "source": [
    "def findAnEven(L):\n",
    "    find = False\n",
    "    for i in L:\n",
    "        if i%2 == 0:\n",
    "            find = True\n",
    "            return i\n",
    "    if not find:\n",
    "        raise ValueError('L中不包含偶数')\n",
    "        \n",
    "L = [1,2,3]\n",
    "print(findAnEven(L))\n",
    "\n",
    "L= [1,3,5]\n",
    "print(findAnEven(L))\n",
    "    "
   ]
  },
  {
   "cell_type": "markdown",
   "id": "5e8488df",
   "metadata": {},
   "source": [
    "考虑如下函数定义："
   ]
  },
  {
   "cell_type": "code",
   "execution_count": 19,
   "id": "7be575f7",
   "metadata": {},
   "outputs": [],
   "source": [
    "def getRatios(vect1, vect2):\n",
    "    \"\"\"Assumes: vect1 and vect2 are equal length lists of numbers\n",
    "       Returns: a list containing the meaningful values of \n",
    "           vect1[i]/vect2[i]\"\"\"\n",
    "    ratios = []\n",
    "    for index in range(len(vect1)):\n",
    "        try:\n",
    "            ratios.append(vect1[index]/vect2[index])\n",
    "        except ZeroDivisionError:\n",
    "            ratios.append(float('nan')) #nan = Not a Number\n",
    "        except:\n",
    "            raise ValueError('getRatios called with bad arguments')\n",
    "    return ratios"
   ]
  },
  {
   "cell_type": "markdown",
   "id": "e8d9b28b",
   "metadata": {},
   "source": [
    "存在两个与try块相关联的`except`块。如果在try块中引发异常，Python首先检查它是否是一个`ZeroDivisionError`。如果是，则给`ratios`列表追加一个`float`类型的特殊值`nan`。(值`nan`代表“非数字”。它没有字面量，但可以通过将字符串`'NAN'`或字符串`'nan'`转换为`float`类型来表示。当`nan`用作`float`类型表达式中的操作数时，该表达式的值也是`nan`。)如果异常不是`ZeroDivisionError`，则代码执行第二个`except`块，这将引发一个带有关联字符串的`ValueError`异常。\n",
    "\n",
    "原则上，不应该进入第二个`except`块，因为调用`getRatios`的代码应该遵守`getRatios`规范中的假设。然而，由于检查这些假设只会带来无关紧要的计算负担，因此无论如何，进行防御性编程和检查都是值得的。\n",
    "\n",
    "下面的代码演示了程序如何使用`getRatios`。当`ValueError`被引发时，行`except ValueError as msg`中的名字`msg`被绑定到与ValueError关联的参数(在本例中是一个字符串)。当代码:"
   ]
  },
  {
   "cell_type": "code",
   "execution_count": 20,
   "id": "27f36076",
   "metadata": {},
   "outputs": [
    {
     "name": "stdout",
     "output_type": "stream",
     "text": [
      "[1.0, 1.0, nan, 2.0]\n",
      "[]\n",
      "getRatios called with bad arguments\n"
     ]
    }
   ],
   "source": [
    "try:\n",
    "    print(getRatios([1.0,2.0,7.0,6.0], [1.0,2.0,0.0,3.0]))\n",
    "    print(getRatios([], []))\n",
    "    print(getRatios([1.0, 2.0], [3.0]))\n",
    "except ValueError as msg:\n",
    "    print(msg)"
   ]
  },
  {
   "cell_type": "markdown",
   "id": "b8164d5e",
   "metadata": {},
   "source": [
    "为了进行比较，图7.2包含相同规范的实现，但是没有使用try-except。"
   ]
  },
  {
   "cell_type": "code",
   "execution_count": 21,
   "id": "c24f1e07",
   "metadata": {},
   "outputs": [],
   "source": [
    "def getRatios(vect1, vect2): \n",
    "    \"\"\"Assumes: vect1 and vect2 are lists of equal length of numbers\n",
    "       Returns: a list containing the meaningful values of \n",
    "       vect1[i]/vect2[i]\"\"\"\n",
    "    ratios = []\n",
    "    if len(vect1) != len(vect2):\n",
    "        raise ValueError('getRatios called with bad arguments')\n",
    "    for index in range(len(vect1)):\n",
    "        vect1Elem = vect1[index]\n",
    "        vect2Elem = vect2[index]\n",
    "        if (type(vect1Elem) not in (int, float))\\\n",
    "            or (type(vect2Elem) not in (int, float)):\n",
    "            raise ValueError('getRatios called with bad arguments')\n",
    "        if vect2Elem == 0.0:\n",
    "            ratios.append(float('NaN')) #NaN = Not a Number\n",
    "        else:\n",
    "            ratios.append(vect1Elem/vect2Elem)\n",
    "    return ratios"
   ]
  },
  {
   "cell_type": "markdown",
   "id": "06761032",
   "metadata": {},
   "source": [
    "图7.2中的代码比图7.1中的代码更长，更难以阅读。它的效率也较低。(图7.2中的代码可以通过消除局部变量vect1Elem和vect2Elem稍微缩短，但代价是重复索引到列表中，从而引入更多的低效。)\n",
    "\n",
    "让我们再看一个例子：图7.3。函数`getGrades`要么返回一个值，要么引发一个与之关联的值的异常。如果打开的调用引发`IOError`，则会引发`ValueError`异常。它可以忽略`IOError`，让程序调用`getGrades`的部分来处理它，但这样就不会向调用代码提供关于出错原因的信息。使用`getGrades`的代码要么使用返回值计算另一个值，要么处理异常并打印信息错误消息。"
   ]
  },
  {
   "cell_type": "code",
   "execution_count": 22,
   "id": "ac05cebc",
   "metadata": {},
   "outputs": [
    {
     "name": "stdout",
     "output_type": "stream",
     "text": [
      "Whoops. getGrades could not open quiz1grades.txt\n"
     ]
    }
   ],
   "source": [
    "def getGrades(fname):\n",
    "    try:\n",
    "        gradesFile = open(fname, 'r') #open file for reading\n",
    "    except IOError:\n",
    "        raise ValueError('getGrades could not open ' + fname)\n",
    "\n",
    "    grades = []\n",
    "    for line in gradesFile:\n",
    "        try:\n",
    "            grades.append(float(line))\n",
    "        except:\n",
    "            raise ValueError('Unable to convert line to float')\n",
    "    return grades\n",
    " \n",
    "try:\n",
    "    grades = getGrades('quiz1grades.txt')\n",
    "    grades.sort()\n",
    "    median = grades[len(grades)//2]\n",
    "    print('Median grade is', median)\n",
    "except ValueError as errorMsg:\n",
    "    print('Whoops.', errorMsg)"
   ]
  },
  {
   "cell_type": "markdown",
   "id": "e1e7a43f",
   "metadata": {},
   "source": [
    "## 7.3 断言\n",
    "Python的`assert`语句为程序员提供了一种简单的方法来确认计算的状态是否如预期的那样。`assert`语句有两种形式:\n",
    "```\n",
    "assert Boolean expression\n",
    "```\n",
    "或者\n",
    "```\n",
    "assert Boolean expression, argument\n",
    "```\n",
    "当碰到`assert`语句时，对`Boolean`表达式求值。如果该表达式的值为True，则继续执行；如果该表达式的值为False，则引发一个`AssertionError`。\n",
    "\n",
    "断言是一个有用的防御式编程工具。可使用断言来证实一个函数的参数是否具有合适的类型。\n",
    "\n",
    "断言也是一种有用的调试工具。比如，可用断言来证实中间值是否有期望的值，或者一个函数是否返回了kejieshou"
   ]
  }
 ],
 "metadata": {
  "kernelspec": {
   "display_name": "Python 3 (ipykernel)",
   "language": "python",
   "name": "python3"
  },
  "language_info": {
   "codemirror_mode": {
    "name": "ipython",
    "version": 3
   },
   "file_extension": ".py",
   "mimetype": "text/x-python",
   "name": "python",
   "nbconvert_exporter": "python",
   "pygments_lexer": "ipython3",
   "version": "3.9.6"
  }
 },
 "nbformat": 4,
 "nbformat_minor": 5
}
