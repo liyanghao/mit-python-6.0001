{
 "cells": [
  {
   "cell_type": "markdown",
   "id": "e445e053",
   "metadata": {},
   "source": [
    "“异常”通常被定义为“不符合规范的东西”，因此它有点罕见。\n",
    "\n",
    "Python中的异常并不罕见。他们到处都有。\n",
    "\n",
    "实际上，标准Python库中的每个模块都使用异常，Python本身也会在许多不同的情况下引发它们。你们已经看过一些了。\n",
    "\n",
    "打开一个Python shell，输入代码："
   ]
  },
  {
   "cell_type": "code",
   "execution_count": 1,
   "id": "ff3b96d3",
   "metadata": {},
   "outputs": [
    {
     "ename": "IndexError",
     "evalue": "list index out of range",
     "output_type": "error",
     "traceback": [
      "\u001b[0;31m---------------------------------------------------------------------------\u001b[0m",
      "\u001b[0;31mIndexError\u001b[0m                                Traceback (most recent call last)",
      "\u001b[0;32m/var/folders/ys/_mwzpxjn5mnbrrw71f2phd5h0000gn/T/ipykernel_4531/2967424531.py\u001b[0m in \u001b[0;36m<module>\u001b[0;34m\u001b[0m\n\u001b[1;32m      1\u001b[0m \u001b[0mtest\u001b[0m \u001b[0;34m=\u001b[0m \u001b[0;34m[\u001b[0m\u001b[0;36m1\u001b[0m\u001b[0;34m,\u001b[0m\u001b[0;36m2\u001b[0m\u001b[0;34m,\u001b[0m\u001b[0;36m3\u001b[0m\u001b[0;34m]\u001b[0m\u001b[0;34m\u001b[0m\u001b[0;34m\u001b[0m\u001b[0m\n\u001b[0;32m----> 2\u001b[0;31m \u001b[0mtest\u001b[0m\u001b[0;34m[\u001b[0m\u001b[0;36m3\u001b[0m\u001b[0;34m]\u001b[0m\u001b[0;34m\u001b[0m\u001b[0;34m\u001b[0m\u001b[0m\n\u001b[0m",
      "\u001b[0;31mIndexError\u001b[0m: list index out of range"
     ]
    }
   ],
   "source": [
    "test = [1,2,3]\n",
    "test[3]"
   ]
  },
  {
   "cell_type": "markdown",
   "id": "27563f6b",
   "metadata": {},
   "source": [
    "`IndexError`是一类“当程序试着去访问在索引类型边界之外的元素时”Python抛出的异常。`IndexError`后面跟的字符串提供了关于是什么导致异常发生的额外信息。\n",
    "\n",
    "Python的大部分内置异常处理的是这样的情形，即程序试着去执行一条没有合适语义的语句。(我们将在本章稍后处理异常的异常，即那些不能处理错误的异常。) 那些编写和运行过Python程序的读者已遇到大部分这类异常。常见的这类异常有：`TypeError`、`IndexError`、`NameError`、`ValueError`等。"
   ]
  },
  {
   "cell_type": "code",
   "execution_count": null,
   "id": "99e6ecfc",
   "metadata": {},
   "outputs": [],
   "source": []
  }
 ],
 "metadata": {
  "kernelspec": {
   "display_name": "Python 3 (ipykernel)",
   "language": "python",
   "name": "python3"
  },
  "language_info": {
   "codemirror_mode": {
    "name": "ipython",
    "version": 3
   },
   "file_extension": ".py",
   "mimetype": "text/x-python",
   "name": "python",
   "nbconvert_exporter": "python",
   "pygments_lexer": "ipython3",
   "version": "3.9.0"
  }
 },
 "nbformat": 4,
 "nbformat_minor": 5
}
