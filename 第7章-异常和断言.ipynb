{
 "cells": [
  {
   "cell_type": "markdown",
   "id": "c6f36d52",
   "metadata": {},
   "source": [
    "“异常”通常被定义为“不符合规范的东西”，因此它有点罕见。\n",
    "\n",
    "Python中的异常并不罕见。他们到处都有。\n",
    "\n",
    "实际上，标准Python库中的每个模块都使用异常，Python本身也会在许多不同的情况下引发它们。你们已经看过一些了。\n",
    "\n",
    "打开一个Python shell，输入代码："
   ]
  },
  {
   "cell_type": "code",
   "execution_count": 1,
   "id": "84c95f95",
   "metadata": {},
   "outputs": [
    {
     "ename": "IndexError",
     "evalue": "list index out of range",
     "output_type": "error",
     "traceback": [
      "\u001b[0;31m---------------------------------------------------------------------------\u001b[0m",
      "\u001b[0;31mIndexError\u001b[0m                                Traceback (most recent call last)",
      "\u001b[0;32m/var/folders/ys/_mwzpxjn5mnbrrw71f2phd5h0000gn/T/ipykernel_4531/2967424531.py\u001b[0m in \u001b[0;36m<module>\u001b[0;34m\u001b[0m\n\u001b[1;32m      1\u001b[0m \u001b[0mtest\u001b[0m \u001b[0;34m=\u001b[0m \u001b[0;34m[\u001b[0m\u001b[0;36m1\u001b[0m\u001b[0;34m,\u001b[0m\u001b[0;36m2\u001b[0m\u001b[0;34m,\u001b[0m\u001b[0;36m3\u001b[0m\u001b[0;34m]\u001b[0m\u001b[0;34m\u001b[0m\u001b[0;34m\u001b[0m\u001b[0m\n\u001b[0;32m----> 2\u001b[0;31m \u001b[0mtest\u001b[0m\u001b[0;34m[\u001b[0m\u001b[0;36m3\u001b[0m\u001b[0;34m]\u001b[0m\u001b[0;34m\u001b[0m\u001b[0;34m\u001b[0m\u001b[0m\n\u001b[0m",
      "\u001b[0;31mIndexError\u001b[0m: list index out of range"
     ]
    }
   ],
   "source": [
    "test = [1,2,3]\n",
    "test[3]"
   ]
  },
  {
   "cell_type": "markdown",
   "id": "c1d7c9b2",
   "metadata": {},
   "source": [
    "`IndexError`是一类“当程序试着去访问在索引类型边界之外的元素时”Python抛出的异常。`IndexError`后面跟的字符串提供了关于是什么导致异常发生的额外信息。\n",
    "\n",
    "Python的大部分内置异常处理的是这样的情形，即程序试着去执行一条没有合适语义的语句。(我们将在本章稍后处理异常的异常，即那些不能处理错误的异常。) 那些编写和运行过Python程序的读者已遇到大部分这类异常。常见的这类异常有：`TypeError`、`IndexError`、`NameError`、`ValueError`等。"
   ]
  },
  {
   "cell_type": "markdown",
   "id": "2c835fcf",
   "metadata": {},
   "source": [
    "## 7.1 异常处理\n",
    "到目前为止，我们将异常视为致命事件。当一个异常被引发时，程序终止(在这种情况下，崩溃可能是一个更合适的词)，然后我们返回到代码中，试图找出出错的地方。当引发一个导致程序终止的异常时，我们说**引发了一个未处理的异常**。\n",
    "\n",
    "异常不需要导致程序终止。当被引发时，异常可以且应当由程序来处理。有时，一个异常被引发是因为程序中存在错误(比如访问不存在的变量)，但很多时候，一个异常是程序员可以也应该预料到的。比如，程序可能试图打开不存在的文件。如果交互程序要求用户输入，用户可能会输入一些不合适的内容。\n",
    "\n",
    "如果你知道当一行代码执行时可能会引发一个异常时，你应该处理这个异常。在一个写的好的代码里，未被处理的异常应该是这类异常。\n",
    "\n",
    "考虑如下代码：\n",
    "```\n",
    "successFailureRatio = numSuccesses/numFailures\n",
    "print('The success/failure ratio is', successFailureRatio)\n",
    "print('Now here')\n",
    "```\n",
    "大多数情况下，这段代码都能正常工作，但是如果`numFailures`碰巧为零，它就会失败。尝试除以`0`将导致Python运行时系统引发一个`ZeroDivisionError`异常，并且永远不会到达`print`语句。\n"
   ]
  },
  {
   "cell_type": "code",
   "execution_count": 2,
   "id": "d0b1a218",
   "metadata": {},
   "outputs": [
    {
     "ename": "ZeroDivisionError",
     "evalue": "division by zero",
     "output_type": "error",
     "traceback": [
      "\u001b[0;31m---------------------------------------------------------------------------\u001b[0m",
      "\u001b[0;31mZeroDivisionError\u001b[0m                         Traceback (most recent call last)",
      "\u001b[0;32m/var/folders/ys/_mwzpxjn5mnbrrw71f2phd5h0000gn/T/ipykernel_4531/885592297.py\u001b[0m in \u001b[0;36m<module>\u001b[0;34m\u001b[0m\n\u001b[1;32m      2\u001b[0m \u001b[0mnumFailures\u001b[0m \u001b[0;34m=\u001b[0m \u001b[0;36m0\u001b[0m\u001b[0;34m\u001b[0m\u001b[0;34m\u001b[0m\u001b[0m\n\u001b[1;32m      3\u001b[0m \u001b[0;34m\u001b[0m\u001b[0m\n\u001b[0;32m----> 4\u001b[0;31m \u001b[0msuccessFailureRatio\u001b[0m \u001b[0;34m=\u001b[0m \u001b[0mnumSuccesses\u001b[0m\u001b[0;34m/\u001b[0m\u001b[0mnumFailures\u001b[0m\u001b[0;34m\u001b[0m\u001b[0;34m\u001b[0m\u001b[0m\n\u001b[0m\u001b[1;32m      5\u001b[0m \u001b[0mprint\u001b[0m\u001b[0;34m(\u001b[0m\u001b[0;34m'The success/failure ratio is'\u001b[0m\u001b[0;34m,\u001b[0m \u001b[0msuccessFailureRatio\u001b[0m\u001b[0;34m)\u001b[0m\u001b[0;34m\u001b[0m\u001b[0;34m\u001b[0m\u001b[0m\n\u001b[1;32m      6\u001b[0m \u001b[0mprint\u001b[0m\u001b[0;34m(\u001b[0m\u001b[0;34m'Now here'\u001b[0m\u001b[0;34m)\u001b[0m\u001b[0;34m\u001b[0m\u001b[0;34m\u001b[0m\u001b[0m\n",
      "\u001b[0;31mZeroDivisionError\u001b[0m: division by zero"
     ]
    }
   ],
   "source": [
    "numSuccesses = 2\n",
    "numFailures = 0\n",
    "\n",
    "successFailureRatio = numSuccesses/numFailures\n",
    "print('The success/failure ratio is', successFailureRatio)\n",
    "print('Now here')"
   ]
  },
  {
   "cell_type": "markdown",
   "id": "865d1eb1",
   "metadata": {},
   "source": [
    "比较好的方式是编写如下形式的代码：\n",
    "```\n",
    "try:\n",
    "    successFailureRatio = numSuccesses/numFailures\n",
    "    print('The success/failure ratio is', successFailureRatio) \n",
    "except ZeroDivisionError:\n",
    "    print('No failures, so the success/failure ratio is undefined.')\n",
    "print('Now here')\n",
    "```"
   ]
  },
  {
   "cell_type": "code",
   "execution_count": 3,
   "id": "a34bb172",
   "metadata": {},
   "outputs": [
    {
     "name": "stdout",
     "output_type": "stream",
     "text": [
      "No failures, so the success/failure ratio is undefined.\n",
      "Now here\n"
     ]
    }
   ],
   "source": [
    "try:\n",
    "    numSuccesses = 2\n",
    "    numFailures = 0\n",
    "    successFailureRatio = numSuccesses/numFailures\n",
    "    print('The success/failure ratio is', successFailureRatio)\n",
    "except ZeroDivisionError:\n",
    "    print('No failures, so the success/failure ratio is undefined.')\n",
    "print('Now here')"
   ]
  },
  {
   "cell_type": "markdown",
   "id": "bffa3821",
   "metadata": {},
   "source": [
    "在进入`try`块时，解释器尝试计算表达式`numsucceeded /numFailures`的值。如果表达式求值成功，程序将表达式的值赋给变量`successfaileratio`，在`try`块的末尾执行`print`语句，然后继续执行`try-except`之后的`print`语句。然而,如果一个`ZeroDivisionError`异常表达式求值，控制立即跳转到`except`块，执行在`except`块里的`print`语句，然后继续执行`try-except`后的`print`语句块。\n",
    "\n",
    "随堂练习：使用`try-except`块来实现一个满足如下规范的函数。\n",
    "```\n",
    "def sumDigits(s):\n",
    "    \"\"\"\n",
    "    Assumes s is a string\n",
    "    Returns the sum of the decimal digits in s\n",
    "    For example, if s is 'a2b3c' it returns 5\n",
    "    \"\"\"\n",
    "```"
   ]
  },
  {
   "cell_type": "code",
   "execution_count": 8,
   "id": "0680fd6b",
   "metadata": {},
   "outputs": [
    {
     "ename": "ValueError",
     "evalue": "invalid literal for int() with base 10: 'a'",
     "output_type": "error",
     "traceback": [
      "\u001b[0;31m---------------------------------------------------------------------------\u001b[0m",
      "\u001b[0;31mValueError\u001b[0m                                Traceback (most recent call last)",
      "\u001b[0;32m/var/folders/ys/_mwzpxjn5mnbrrw71f2phd5h0000gn/T/ipykernel_4531/329193569.py\u001b[0m in \u001b[0;36m<module>\u001b[0;34m\u001b[0m\n\u001b[1;32m     12\u001b[0m \u001b[0;34m\u001b[0m\u001b[0m\n\u001b[1;32m     13\u001b[0m \u001b[0;34m\u001b[0m\u001b[0m\n\u001b[0;32m---> 14\u001b[0;31m \u001b[0mprint\u001b[0m\u001b[0;34m(\u001b[0m\u001b[0msumDigits\u001b[0m\u001b[0;34m(\u001b[0m\u001b[0;34m'a2b3c'\u001b[0m\u001b[0;34m)\u001b[0m\u001b[0;34m)\u001b[0m\u001b[0;34m\u001b[0m\u001b[0;34m\u001b[0m\u001b[0m\n\u001b[0m",
      "\u001b[0;32m/var/folders/ys/_mwzpxjn5mnbrrw71f2phd5h0000gn/T/ipykernel_4531/329193569.py\u001b[0m in \u001b[0;36msumDigits\u001b[0;34m(s)\u001b[0m\n\u001b[1;32m      7\u001b[0m     \u001b[0msum\u001b[0m \u001b[0;34m=\u001b[0m \u001b[0;36m0\u001b[0m\u001b[0;34m\u001b[0m\u001b[0;34m\u001b[0m\u001b[0m\n\u001b[1;32m      8\u001b[0m     \u001b[0;32mfor\u001b[0m \u001b[0mc\u001b[0m \u001b[0;32min\u001b[0m \u001b[0ms\u001b[0m\u001b[0;34m:\u001b[0m\u001b[0;34m\u001b[0m\u001b[0;34m\u001b[0m\u001b[0m\n\u001b[0;32m----> 9\u001b[0;31m         \u001b[0mval\u001b[0m \u001b[0;34m=\u001b[0m \u001b[0mint\u001b[0m\u001b[0;34m(\u001b[0m\u001b[0mc\u001b[0m\u001b[0;34m)\u001b[0m\u001b[0;34m\u001b[0m\u001b[0;34m\u001b[0m\u001b[0m\n\u001b[0m\u001b[1;32m     10\u001b[0m         \u001b[0msum\u001b[0m \u001b[0;34m+=\u001b[0m \u001b[0mval\u001b[0m\u001b[0;34m\u001b[0m\u001b[0;34m\u001b[0m\u001b[0m\n\u001b[1;32m     11\u001b[0m     \u001b[0;32mreturn\u001b[0m \u001b[0msum\u001b[0m\u001b[0;34m\u001b[0m\u001b[0;34m\u001b[0m\u001b[0m\n",
      "\u001b[0;31mValueError\u001b[0m: invalid literal for int() with base 10: 'a'"
     ]
    }
   ],
   "source": [
    "def sumDigits(s):\n",
    "    \"\"\"\n",
    "    Assumes s is a string\n",
    "    Returns the sum of the decimal digits in s\n",
    "    For example, if s is 'a2b3c' it returns 5\n",
    "    \"\"\"\n",
    "    sum = 0\n",
    "    for c in s:\n",
    "        val = int(c)\n",
    "        sum += val     \n",
    "    return sum\n",
    "            \n",
    "        \n",
    "print(sumDigits('a2b3c'))"
   ]
  },
  {
   "cell_type": "code",
   "execution_count": null,
   "id": "b42f70ce",
   "metadata": {},
   "outputs": [],
   "source": []
  }
 ],
 "metadata": {
  "kernelspec": {
   "display_name": "Python 3 (ipykernel)",
   "language": "python",
   "name": "python3"
  },
  "language_info": {
   "codemirror_mode": {
    "name": "ipython",
    "version": 3
   },
   "file_extension": ".py",
   "mimetype": "text/x-python",
   "name": "python",
   "nbconvert_exporter": "python",
   "pygments_lexer": "ipython3",
   "version": "3.9.0"
  }
 },
 "nbformat": 4,
 "nbformat_minor": 5
}
