{
 "cells": [
  {
   "cell_type": "markdown",
   "id": "2f5cc037",
   "metadata": {},
   "source": [
    "虽然每门编程语言都是不同的，但是它们可通过一些维度发生关联：\n",
    "- 低级vs高级\n",
    "\n",
    "  低级指的是我们使用在机器级别上的指令和数据对象来编程，比如移动64位的数据从这个位置到那个位置等；\n",
    "  \n",
    "  高级指的是我们使用由语言设计者提供的更抽象的操作来编程，比如在屏幕上弹出一个菜单等；\n",
    "  \n",
    "- 通用vs专门针对某个应用领域\n",
    "\n",
    "  通用指的是编程语言的原始操作是应用广泛的；\n",
    "  \n",
    "  专门针对某个应用领域指的是编程语言的原语是针对某个领域优化过的，比如SQL被设计来为从关系数据库中提取信息，但是你不想使用它来构建操作系统。\n",
    "  \n",
    "- 解释型vs编译型\n",
    "\n",
    "  解释型指的是源代码直接被执行(解释器)；\n",
    "  \n",
    "  编译型指的是源代码要先被(编译器)转换成机器级别的原始操作；\n",
    "  \n",
    "  两种方法都有优势。用解释型语言编写的程序更容易调试，因为解释器可以输出很容易跟源代码相关的错误信息。用编译型语言产生的程序通常运行的更快，使用更少的空间。"
   ]
  },
  {
   "cell_type": "markdown",
   "id": "bcfff486",
   "metadata": {},
   "source": [
    "在本书中，我们使用Python。但是，这本书不是关于Python的。它必定帮助读者学习Python，这是一件很好的事。但是更重要的是：细心的读者将会学习一些关于如何编写程序来解决问题的内容。这种技能可迁移到任何一种编程语言。"
   ]
  },
  {
   "cell_type": "markdown",
   "id": "d912514c",
   "metadata": {},
   "source": [
    "Python是一门**通用目的**编程语言，可用来有效地构建任何一类不需要直接访问硬件的程序。对于那些有高可靠性约束或者由许多人或者长时间来构建和维护的程序来说，Python不是最优的选择，因为它的**弱静态语义检查**。"
   ]
  },
  {
   "cell_type": "markdown",
   "id": "77b7b311",
   "metadata": {},
   "source": [
    "但是，Python确实有若干个许多其他语言没有的优势。它是一门相对简单、容易学习的语言。因为Python被设计成解释型语言，所以它能提供运行时反馈，这对新手程序员是极其有帮助的。也有大量的免费可得的库，这些库跟Python交互，并提供了有用的拓展功能。这本书里会用到几个这样的库。\n",
    "\n",
    "现在，我们开始学习Python的一些基本元素。虽然这些不一定很详细，但是从概念上讲，这些是几乎所有编程语言都共有的。\n",
    "\n",
    "应该要提前警告读者：这本书绝不是一本完整介绍Python的书。我们使用Python作为一种工具来呈现跟求解可计算问题和计算思维有关的概念。为了这个目的，语言是按需点滴呈现的。一点都不会呈现这个目的不需要的Python特征。对于没有覆盖完整的Python语言这一点，我们感到很舒适，因为存在多个优秀的在线资源，它们几乎描述了Python语言的所有方面。当我们教基于这本书的课程时，我们建议学生依赖这些免费的在线资源作为Python的参考资料。"
   ]
  },
  {
   "cell_type": "markdown",
   "id": "76a9cb74",
   "metadata": {},
   "source": [
    "Python是一门持续存活着的语言。自从它被Guido von Rossum于1990年引入以来，它经历了许多变化。在它生命的第一个十年里，Python很少为人所知，很少被人使用。这一点随着在2000年Python 2.0的到来发生了变化。除了整合了一定数量的对语言重要的改进外，它标志着Python演化路径上的一个转变。许多人开始开发跟Python无缝交互的库，对Python生态系统持续的支持和发展成为了一项基于社区的活动。2008年末，Python 3.0发布了。这个版本的Python清理了Python 2.0各种发布版本中的许多不一致。但是，这个版本不是向后兼容的，这意味着用更早版本的Python编写的程序不能使用Python3的实现来运行。\n",
    "\n",
    "在过去的几年里，大部分重要的公开的Python库已经移植到Python 3了，且使用Python 3.5进行了完整的测试。本书使用的就是Python 3.5。"
   ]
  },
  {
   "cell_type": "markdown",
   "id": "6b78b10b",
   "metadata": {},
   "source": [
    "## 2.1 Python的基本元素\n",
    "一个Python程序就是一个由定义和命令组成的序列。这些定义被Python解释器求值，这些命令被Python解释器(shell)执行。通常，每当有程序开始执行时，就会创建一个新的shell。每个shell会关联一个窗口。\n",
    "\n",
    "我们建议你现在就开启一个Python shell，使用它来尝试本章剩余的示例。\n",
    "\n",
    "一个命令就是一条语句，指导解释器做一些事。比如，语句`print('Yankees rule!')`指导解释器调用函数`print`，`print`函数将字符串`'Yankees rule!'`输出到跟shell关联的窗口上。\n",
    "\n",
    "命令序列："
   ]
  },
  {
   "cell_type": "code",
   "execution_count": 1,
   "id": "423b9a89",
   "metadata": {},
   "outputs": [
    {
     "name": "stdout",
     "output_type": "stream",
     "text": [
      "Yankees rule!\n",
      "But not in Boston!\n",
      "Yankees rule, but not in Boston\n"
     ]
    }
   ],
   "source": [
    "print('Yankees rule!')\n",
    "print('But not in Boston!')\n",
    "print('Yankees rule,', 'but not in Boston')"
   ]
  },
  {
   "cell_type": "markdown",
   "id": "bd705ed7",
   "metadata": {},
   "source": [
    "注意，在第三条语句里，有两个值被传递给print函数。print函数取若干个以逗号分割的参数，按照它们出现的顺序，用空隔来分割它们，并输出。"
   ]
  },
  {
   "cell_type": "markdown",
   "id": "9beccef8",
   "metadata": {},
   "source": [
    "### 2.1.1 对象，表达式，数值类型\n",
    "对象是Python程序操作的核心东西。每个对象都有一个类型，对象的类型定义了程序可对它做的事情类型。\n",
    "\n",
    "类型有标量和非标量之分。标量对象是不可再分的，没有内部结构。非标对象有内部结构，比如字符串。\n",
    "\n",
    "在程序文本里，许多类型的对象可用字面量来表示。比如，文本`2`是一个表示数字的字面量，文本`'abc'`是一个表示字符串的字面量。\n",
    "\n",
    "\n",
    "Python有4种标量对象：\n",
    "- `int`\n",
    "使用int来表示整数。像平常记录整数那样书写int类型的字面量，比如-3或者5或者10002等。\n",
    "- `float`\n",
    "使用float来表示实数。float类型的字面量通常包含一个小数点，比如3.0或者3.17或者-28.72等。也可以使用科学计数法来书写float类型字面量，比如1.6E3表示$1.6\\times 10^3$，即1600.0。你可能会问为什么这个类型不叫做real。在计算机内部，float类型的值被存储为浮点数。这种被所有现代编程语言使用的表示有许多优点。但是，在一些情形下，它会导致浮点数算数跟实数算数有点不同。我们会在第3.4节中讨论这一点。\n",
    "- `bool`\n",
    "使用bool来表示布尔值True和False。\n",
    "- `None`\n",
    "None是一个只有单个值的类型。我们将在第4.1节讨论它。\n",
    "\n",
    "可将对象和运算符结合起来形成表达式，每个表达式的值是某种类型的对象。我们称这个对象为表达式的值。比如，表达式3+2表`int`类型的对象5，表达式3.0+2.0表示`float`类型的对象5.0。\n",
    "`==`运算符被用来测试两个表达式的值是否相等，`!=`被用来测试两个表达式的值是否不同。单个`=`的含义有点不同，将在第2.1.2节中讨论。提前警告一下，当你打算键入==时可能会犯键入=的错误。当心这类错误。\n",
    "\n",
    "符号`>>>`是一个shell提示符，表示解释器期待用户向shell中键入一些Python代码。当解释器对在提示符处输入的Python代码求值后，在提示符行的下一行会输出值。比如下面的解释器交互示例："
   ]
  },
  {
   "cell_type": "code",
   "execution_count": 2,
   "id": "d0026b56",
   "metadata": {},
   "outputs": [
    {
     "data": {
      "text/plain": [
       "5"
      ]
     },
     "execution_count": 2,
     "metadata": {},
     "output_type": "execute_result"
    }
   ],
   "source": [
    "3+2"
   ]
  },
  {
   "cell_type": "code",
   "execution_count": 3,
   "id": "da0e9148",
   "metadata": {},
   "outputs": [
    {
     "data": {
      "text/plain": [
       "5.0"
      ]
     },
     "execution_count": 3,
     "metadata": {},
     "output_type": "execute_result"
    }
   ],
   "source": [
    "3.0+2.0"
   ]
  },
  {
   "cell_type": "code",
   "execution_count": 4,
   "id": "9cedc396",
   "metadata": {},
   "outputs": [
    {
     "data": {
      "text/plain": [
       "True"
      ]
     },
     "execution_count": 4,
     "metadata": {},
     "output_type": "execute_result"
    }
   ],
   "source": [
    "3 != 2"
   ]
  },
  {
   "cell_type": "markdown",
   "id": "7ec871cd",
   "metadata": {},
   "source": [
    "可使用Python的内置函数`type`来找出一个对象的类型，比如："
   ]
  },
  {
   "cell_type": "code",
   "execution_count": 5,
   "id": "36ce7022",
   "metadata": {},
   "outputs": [
    {
     "data": {
      "text/plain": [
       "int"
      ]
     },
     "execution_count": 5,
     "metadata": {},
     "output_type": "execute_result"
    }
   ],
   "source": [
    "type(3)"
   ]
  },
  {
   "cell_type": "code",
   "execution_count": 6,
   "id": "2a0f85f6",
   "metadata": {},
   "outputs": [
    {
     "data": {
      "text/plain": [
       "float"
      ]
     },
     "execution_count": 6,
     "metadata": {},
     "output_type": "execute_result"
    }
   ],
   "source": [
    "type(3.0)"
   ]
  },
  {
   "cell_type": "markdown",
   "id": "7d6fec5e",
   "metadata": {},
   "source": [
    "在图2.1里列出了关于`int`和`float`类型对象的运算符。\n",
    "- `i+j`\n",
    "  \n",
    "  i+j是i和j的和。如果i和j都是int类型，则结果是int类型。如果它们其中一个是float类型，则结果是float类型。\n",
    "- `i-j`\n",
    "\n",
    "  i-j是i减去j。如果i和j都是int类型，则结果是int类型。如果它们其中一个是float类型，则结果是float类型。\n",
    "- `i*j`\n",
    "\n",
    "  $i*j$是i和j的乘积。如果i和j都是int类型，则结果是int类型。如果它们其中一个是float类型，则结果是float类型。\n",
    "- `i//j`\n",
    "  \n",
    "  $i//j$是一个取整除法。比如，`6//2`的结果是int类型的3，`6//4`的结果是int类型的1。值为1是因为整数除法返回了商，丢掉了余数。如果j==0，则返回一个错误。\n",
    "- `i/j`\n",
    "  \n",
    "  i/j是i被j除，即i除以j。在Python 3中，`/`运算符执行了浮点数除法。比如，`6/4`的结果是1.5。如果j==0，则返回一个错误。\n",
    "- `i%j`\n",
    "  \n",
    "  i%j是i被j除后得到的余数。通常读作'i mod j'。\n",
    "- `i**j`\n",
    "\n",
    "  $i**j$是i的j次幂。如果i和j都是int类型，则结果是int类型。如果它们其中一个是float类型，则结果是float类型。"
   ]
  },
  {
   "cell_type": "markdown",
   "id": "2566c216",
   "metadata": {},
   "source": [
    "常用的比较运算符有：`==`、`!=`、`>`、`>=`"
   ]
  }
 ],
 "metadata": {
  "kernelspec": {
   "display_name": "Python 3 (ipykernel)",
   "language": "python",
   "name": "python3"
  },
  "language_info": {
   "codemirror_mode": {
    "name": "ipython",
    "version": 3
   },
   "file_extension": ".py",
   "mimetype": "text/x-python",
   "name": "python",
   "nbconvert_exporter": "python",
   "pygments_lexer": "ipython3",
   "version": "3.9.0"
  }
 },
 "nbformat": 4,
 "nbformat_minor": 5
}
