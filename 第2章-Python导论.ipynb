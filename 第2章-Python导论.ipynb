{
 "cells": [
  {
   "cell_type": "markdown",
   "id": "2f5cc037",
   "metadata": {},
   "source": [
    "虽然每门编程语言都是不同的，但是它们可通过一些维度发生关联：\n",
    "- 低级vs高级\n",
    "\n",
    "  低级指的是我们使用在机器级别上的指令和数据对象来编程，比如移动64位的数据从这个位置到那个位置等；\n",
    "  \n",
    "  高级指的是我们使用由语言设计者提供的更抽象的操作来编程，比如在屏幕上弹出一个菜单等；\n",
    "  \n",
    "- 通用vs专门针对某个应用领域\n",
    "\n",
    "  通用指的是编程语言的原始操作是应用广泛的；\n",
    "  \n",
    "  专门针对某个应用领域指的是编程语言的原语是针对某个领域优化过的，比如SQL被设计来为从关系数据库中提取信息，但是你不想使用它来构建操作系统。\n",
    "  \n",
    "- 解释型vs编译型\n",
    "\n",
    "  解释型指的是源代码直接被执行(解释器)；\n",
    "  \n",
    "  编译型指的是源代码要先被(编译器)转换成机器级别的原始操作；\n",
    "  \n",
    "  两种方法都有优势。用解释型语言编写的程序更容易调试，因为解释器可以输出很容易跟源代码相关的错误信息。用编译型语言产生的程序通常运行的更快，使用更少的空间。"
   ]
  },
  {
   "cell_type": "markdown",
   "id": "bcfff486",
   "metadata": {},
   "source": [
    "在本书中，我们使用Python。但是，这本书不是关于Python的。它必定帮助读者学习Python，这是一件很好的事。但是更重要的是：细心的读者将会学习一些关于如何编写程序来解决问题的内容。这种技能可迁移到任何一种编程语言。"
   ]
  },
  {
   "cell_type": "markdown",
   "id": "d912514c",
   "metadata": {},
   "source": [
    "Python是一门**通用目的**编程语言，可用来有效地构建任何一类不需要直接访问硬件的程序。对于那些有高可靠性约束或者由许多人或者长时间来构建和维护的程序来说，Python不是最优的选择，因为它的**弱静态语义检查**。"
   ]
  },
  {
   "cell_type": "markdown",
   "id": "9466a141",
   "metadata": {},
   "source": [
    "但是，Python确实有若干个许多其他语言没有的优势。它是一门相对简单、容易学习的语言。因为Python被设计成解释型语言，所以它能提供运行时反馈，这对新手程序员是极其有帮助的。也有大量的免费可得的库，这些库跟Python交互，并提供了有用的拓展功能。这本书里会用到几个这样的库。\n",
    "\n",
    "现在，我们开始学习Python的一些基本元素。虽然这些不一定很详细，但是从概念上讲，这些是几乎所有编程语言都共有的。\n",
    "\n",
    "应该要提前警告读者：这本书绝不是一本完整介绍Python的书。我们使用Python作为一种工具来呈现跟求解可计算问题和计算思维有关的概念。为了这个目的，语言是按需点滴呈现的。一点都不会呈现这个目的不需要的Python特征。对于没有覆盖完整的Python语言这一点，我们感到很舒适，因为存在多个优秀的在线资源，它们几乎描述了Python语言的所有方面。当我们教基于这本书的课程时，我们建议学生依赖这些免费的在线资源作为Python的参考资料。"
   ]
  },
  {
   "cell_type": "markdown",
   "id": "b567d18f",
   "metadata": {},
   "source": [
    "Python是一门持续存活着的语言。自从它被Guido von Rossum于1990年引入以来，它经历了许多变化。在它生命的第一个十年里，Python很少为人所知，很少被人使用。这一点随着在2000年Python 2.0的到来发生了变化。除了整合了一定数量的对语言重要的改进外，它标志着Python演化路径上的一个转变。许多人开始开发跟Python无缝交互的库，对Python生态系统持续的支持和发展成为了一项基于社区的活动。2008年末，Python 3.0发布了。这个版本的Python清理了Python 2.0各种发布版本中的许多不一致。但是，这个版本不是向后兼容的，这意味着用更早版本的Python编写的程序不能使用Python3的实现来运行。\n",
    "\n",
    "在过去的几年里，大部分重要的公开的Python库已经移植到Python 3了，且使用Python 3.5进行了完整的测试。本书使用的就是Python 3.5。"
   ]
  },
  {
   "cell_type": "markdown",
   "id": "d46c05b2",
   "metadata": {},
   "source": [
    "## 2.1 Python的基本元素\n",
    "一个Python程序就是一个由定义和命令组成的序列。这些定义被Python解释器求值，这些命令被Python解释器(shell)执行。通常，每当有程序开始执行时，就会创建一个新的shell。每个shell会关联一个窗口。\n",
    "\n",
    "我们建议你现在就开启一个Python shell，使用它来尝试本章剩余的示例。\n",
    "\n",
    "一个命令就是一条语句，指导解释器做一些事。比如，语句`print('Yankees rule!')`指导解释器调用函数`print`，`print`函数将字符串`'Yankees rule!'`输出到跟shell关联的窗口上。\n",
    "\n",
    "命令序列："
   ]
  },
  {
   "cell_type": "code",
   "execution_count": 1,
   "id": "fcdd3b82",
   "metadata": {},
   "outputs": [
    {
     "name": "stdout",
     "output_type": "stream",
     "text": [
      "Yankees rule!\n",
      "But not in Boston!\n",
      "Yankees rule, but not in Boston\n"
     ]
    }
   ],
   "source": [
    "print('Yankees rule!')\n",
    "print('But not in Boston!')\n",
    "print('Yankees rule,', 'but not in Boston')"
   ]
  },
  {
   "cell_type": "markdown",
   "id": "64cbe12e",
   "metadata": {},
   "source": [
    "注意，在第三条语句里，有两个值被传递给print函数。print函数取若干个以逗号分割的参数，按照它们出现的顺序，用空隔来分割它们，并输出。"
   ]
  },
  {
   "cell_type": "markdown",
   "id": "a8991017",
   "metadata": {},
   "source": [
    "### 2.1.1 对象，表达式，数值类型\n",
    "对象是Python程序操作的核心东西。每个对象都有一个类型，对象的类型定义了程序可对它做的事情类型。\n",
    "\n",
    "类型有标量和非标量之分。标量对象是不可再分的，没有内部结构。非标对象有内部结构，比如字符串。\n",
    "\n",
    "在程序文本里，许多类型的对象可用字面量来表示。比如，文本`2`是一个表示数字的字面量，文本`'abc'`是一个表示字符串的字面量。\n",
    "\n",
    "\n",
    "Python有4种标量对象：\n",
    "- `int`\n",
    "使用int来表示整数。像平常记录整数那样书写int类型的字面量，比如-3或者5或者10002等。\n",
    "- `float`\n",
    "使用float来表示实数。float类型的字面量通常包含一个小数点，比如3.0或者3.17或者-28.72等。也可以使用科学计数法来书写float类型字面量，比如1.6E3表示$1.6\\times 10^3$，即1600.0。你可能会问为什么这个类型不叫做real。在计算机内部，float类型的值被存储为浮点数。这种被所有现代编程语言使用的表示有许多优点。但是，在一些情形下，它会导致浮点数算数跟实数算数有点不同。我们会在第3.4节中讨论这一点。\n",
    "- `bool`\n",
    "使用bool来表示布尔值True和False。\n",
    "- `None`\n",
    "None是一个只有单个值的类型。我们将在第4.1节讨论它。\n",
    "\n",
    "可将对象和运算符结合起来形成表达式，每个表达式的值是某种类型的对象。我们称这个对象为表达式的值。比如，表达式3+2表`int`类型的对象5，表达式3.0+2.0表示`float`类型的对象5.0。\n",
    "`==`运算符被用来测试两个表达式的值是否相等，`!=`被用来测试两个表达式的值是否不同。单个`=`的含义有点不同，将在第2.1.2节中讨论。提前警告一下，当你打算键入==时可能会犯键入=的错误。当心这类错误。\n",
    "\n",
    "符号`>>>`是一个shell提示符，表示解释器期待用户向shell中键入一些Python代码。当解释器对在提示符处输入的Python代码求值后，在提示符行的下一行会输出值。比如下面的解释器交互示例："
   ]
  },
  {
   "cell_type": "code",
   "execution_count": 2,
   "id": "cb44988a",
   "metadata": {},
   "outputs": [
    {
     "data": {
      "text/plain": [
       "5"
      ]
     },
     "execution_count": 2,
     "metadata": {},
     "output_type": "execute_result"
    }
   ],
   "source": [
    "3+2"
   ]
  },
  {
   "cell_type": "code",
   "execution_count": 3,
   "id": "6e313027",
   "metadata": {},
   "outputs": [
    {
     "data": {
      "text/plain": [
       "5.0"
      ]
     },
     "execution_count": 3,
     "metadata": {},
     "output_type": "execute_result"
    }
   ],
   "source": [
    "3.0+2.0"
   ]
  },
  {
   "cell_type": "code",
   "execution_count": 4,
   "id": "57779751",
   "metadata": {},
   "outputs": [
    {
     "data": {
      "text/plain": [
       "True"
      ]
     },
     "execution_count": 4,
     "metadata": {},
     "output_type": "execute_result"
    }
   ],
   "source": [
    "3 != 2"
   ]
  },
  {
   "cell_type": "markdown",
   "id": "1e75472c",
   "metadata": {},
   "source": [
    "可使用Python的内置函数`type`来找出一个对象的类型，比如："
   ]
  },
  {
   "cell_type": "code",
   "execution_count": 5,
   "id": "83f7440d",
   "metadata": {},
   "outputs": [
    {
     "data": {
      "text/plain": [
       "int"
      ]
     },
     "execution_count": 5,
     "metadata": {},
     "output_type": "execute_result"
    }
   ],
   "source": [
    "type(3)"
   ]
  },
  {
   "cell_type": "code",
   "execution_count": 6,
   "id": "01ec67da",
   "metadata": {},
   "outputs": [
    {
     "data": {
      "text/plain": [
       "float"
      ]
     },
     "execution_count": 6,
     "metadata": {},
     "output_type": "execute_result"
    }
   ],
   "source": [
    "type(3.0)"
   ]
  },
  {
   "cell_type": "markdown",
   "id": "60daba59",
   "metadata": {},
   "source": [
    "在图2.1里列出了关于`int`和`float`类型对象的运算符。\n",
    "- `i+j`\n",
    "  \n",
    "  i+j是i和j的和。如果i和j都是int类型，则结果是int类型。如果它们其中一个是float类型，则结果是float类型。\n",
    "- `i-j`\n",
    "\n",
    "  i-j是i减去j。如果i和j都是int类型，则结果是int类型。如果它们其中一个是float类型，则结果是float类型。\n",
    "- `i*j`\n",
    "\n",
    "  $i*j$是i和j的乘积。如果i和j都是int类型，则结果是int类型。如果它们其中一个是float类型，则结果是float类型。\n",
    "- `i//j`\n",
    "  \n",
    "  $i//j$是一个取整除法。比如，`6//2`的结果是int类型的3，`6//4`的结果是int类型的1。值为1是因为整数除法返回了商，丢掉了余数。如果j==0，则返回一个错误。\n",
    "- `i/j`\n",
    "  \n",
    "  i/j是i被j除，即i除以j。在Python 3中，`/`运算符执行了浮点数除法。比如，`6/4`的结果是1.5。如果j==0，则返回一个错误。\n",
    "- `i%j`\n",
    "  \n",
    "  i%j是i被j除后得到的余数。通常读作'i mod j'。\n",
    "- `i**j`\n",
    "\n",
    "  $i**j$是i的j次幂。如果i和j都是int类型，则结果是int类型。如果它们其中一个是float类型，则结果是float类型。\n",
    "  \n",
    "  \n",
    "常用的比较运算符有：`==`、`!=`、`>`、`>=`、`<`、`<=`等。"
   ]
  },
  {
   "cell_type": "markdown",
   "id": "dd568661",
   "metadata": {},
   "source": [
    "算术运算符有普通的优先级。比如，`*`比`+`优先级高，所以`x+y*2`是先用y乘以2，然后把得到的结果加到x上。可使用括号分组来修改求值的顺序，比如`(x+y)*2`是首先将x和y相加，然后把得到的结果乘以2。"
   ]
  },
  {
   "cell_type": "markdown",
   "id": "23e56b97",
   "metadata": {},
   "source": [
    "关于`bool`类型的原始运算符有`and`、`or`、`not`：\n",
    "- a and b\n",
    "\n",
    "  如果a和b都为真，则a and b的值为真，其余情形都为假。\n",
    "\n",
    "- a or b\n",
    "\n",
    "  如果a和b中至少有一个为真，则a or b的结果为真。其余情形都为假。\n",
    "\n",
    "- not a\n",
    "\n",
    "  如果a为真，则not a为假；如果a 为假，not a为真。"
   ]
  },
  {
   "cell_type": "markdown",
   "id": "d7788b39",
   "metadata": {},
   "source": [
    "### 2.1.2 变量和赋值\n",
    "如何将对象和名字关联起来？\n",
    "\n",
    "方式一：**变量**\n",
    "\n",
    "变量提供了一种将名字和对象关联的方式。考虑如下代码："
   ]
  },
  {
   "cell_type": "code",
   "execution_count": 7,
   "id": "bc95727b",
   "metadata": {},
   "outputs": [
    {
     "name": "stdout",
     "output_type": "stream",
     "text": [
      "3\n",
      "11\n",
      "363\n",
      "14\n"
     ]
    }
   ],
   "source": [
    "pi = 3\n",
    "print(pi)\n",
    "radius = 11\n",
    "print(radius)\n",
    "area = pi * (radius**2)\n",
    "print(area)\n",
    "radius = 14\n",
    "print(radius)"
   ]
  },
  {
   "cell_type": "markdown",
   "id": "c9c79f35",
   "metadata": {},
   "source": [
    "它先将名字`pi`和`radius`绑定给不同的`int`类型对象。然后，它将名字`area`绑定给第三个`int`类型对象。\n",
    "\n",
    "如果程序然后执行了`radius=14`，那么`radius`被重新绑定给一个不同的`int`类型对象。\n",
    "\n",
    "注意：这个赋值对`area`绑定的值没有影响，`area`依然绑定的是由表达式`3*(11**2)`表示的对象。"
   ]
  },
  {
   "cell_type": "markdown",
   "id": "794336b4",
   "metadata": {},
   "source": [
    "在Python中，\n",
    "- **变量就是一个名字而已**。\n",
    "- **一条赋值语句把等号`=`左边的名字关联到等号`=`右边的表达式表示的对象**。\n",
    "- **一个对象可以关联的名字有一个、多个或者没有**。"
   ]
  },
  {
   "cell_type": "markdown",
   "id": "9db19a6e",
   "metadata": {},
   "source": [
    "可能我们不应该说“变量仅是名字而已”。不管Juliet说了什么，**名字很重要**。\n",
    "\n",
    "虽然编程语言让我们将计算描述为一种允许机器能执行它的方式，但这并不意味着只有计算机才读程序。\n",
    "\n",
    "不久以后，你将发现：编写正常运行的程序不是一件简单的事。有经验的程序员将证实：他们花费许多时间在阅读程序上，试着去理解为什么它有这样的行为。因此，**以易读的方式编写程序很重要**。**选择恰当的变量名对增强可读性很重要**。\n",
    "\n",
    "考虑下面两个代码段："
   ]
  },
  {
   "cell_type": "code",
   "execution_count": 9,
   "id": "d03cfc74",
   "metadata": {},
   "outputs": [],
   "source": [
    "a = 3.14159\n",
    "b = 11.2\n",
    "c = a*(b**2)"
   ]
  },
  {
   "cell_type": "code",
   "execution_count": 10,
   "id": "dfcd97a5",
   "metadata": {},
   "outputs": [],
   "source": [
    "pi = 3.14159\n",
    "diameter = 11.2\n",
    "area = pi*(diameter**2)"
   ]
  },
  {
   "cell_type": "markdown",
   "id": "6b96117b",
   "metadata": {},
   "source": [
    "对于Python来说，它们不是不同的。因为当它们被执行时，它们做了相同的事。\n",
    "\n",
    "但是，对于人类读者来说，它们非常不同。当我们阅读左边的代码段时，没有先验知识来怀疑哪里出错了。但是，快速地看一下右边的代码应该提示我们要怀疑哪里出错了。要么变量名应该是`radius`，要么在计算面积时`diameter`要除以2。\n",
    "\n",
    "在Python中，\n",
    "- 变量名可包含大写字母、小写字母、数字(变量名不能以数字开头)以及特殊字符`_`。\n",
    "- Python的变量名是区分大小写的。比如`Julie`和`julie`是不同的名字。\n",
    "- 在Python中存在一小部分保留字(即关键字)，它们有内置的含义，不能当做变量名。\n",
    "- 不同版本的Python有不同数量的保留字。Python 3中的保留字有`and`, `as`, `assert`, `break`, `class`, `continue`, `def`, `del`, `elif`, `else`, `except`, `False`, `finally`, `for`, `from`, `global`, `if`, `import`, `in`, `is`, `lambda`, `nonlocal`, `None`, `not`, `or`, `pass`, `raise`, `return`, `True`, `try`, `while`, `with`, and `yield`。"
   ]
  },
  {
   "cell_type": "markdown",
   "id": "9e11818b",
   "metadata": {},
   "source": [
    "另一种增强代码可读性的方式是添加注释。在Python中，跟在#后面的文本是不被解释的。比如，下面的代码:"
   ]
  },
  {
   "cell_type": "code",
   "execution_count": 11,
   "id": "ebe9ee8b",
   "metadata": {},
   "outputs": [],
   "source": [
    "side = 1 #length of sides of a unit square\n",
    "radius = 1 #radius of a unit circle\n",
    "#subtract area of unit circle from area of unit square\n",
    "areaC = pi*radius**2\n",
    "areaS = side*side\n",
    "difference = areaS - areaC"
   ]
  },
  {
   "cell_type": "markdown",
   "id": "11522bd2",
   "metadata": {},
   "source": [
    "Python支持多重赋值。语句："
   ]
  },
  {
   "cell_type": "code",
   "execution_count": 12,
   "id": "350d74c6",
   "metadata": {},
   "outputs": [],
   "source": [
    "x , y = 2 , 3"
   ]
  },
  {
   "cell_type": "markdown",
   "id": "d8215759",
   "metadata": {},
   "source": [
    "绑定x到2、y到3。在赋值语句右边的所有表达式求值发生在任何绑定被修改前。这很方便，因为它允许你是用多赋值语句来交换两个变量的值。\n",
    "比如，代码："
   ]
  },
  {
   "cell_type": "code",
   "execution_count": 13,
   "id": "d590c780",
   "metadata": {},
   "outputs": [
    {
     "name": "stdout",
     "output_type": "stream",
     "text": [
      "x= 3\n",
      "y= 2\n"
     ]
    }
   ],
   "source": [
    "x,y = 2,3\n",
    "x,y = y,x\n",
    "print('x=',x)\n",
    "print('y=', y)"
   ]
  },
  {
   "cell_type": "markdown",
   "id": "b2775e08",
   "metadata": {},
   "source": [
    "## 2.2 分支程序\n",
    "截止目前看到的程序都是直线型程序。它们按照出现的顺序依次执行，当语句耗尽时停止。\n",
    "\n",
    "用直线式程序描述的程序不是很有趣。事实上，它们极其无聊。\n",
    "\n",
    "分支程序更有趣。最简单的分支语句是条件分支。如图2.3所示，一条分支语句由3个部分组成：\n",
    "- 一个测试部分\n",
    "\n",
    "  一个值为True或者False的表达式。\n",
    "- 一块代码\n",
    "\n",
    "  如果测试求值为True，则执行这一块代码。\n",
    "- 一块可选代码\n",
    "\n",
    "  如果测试求值为False，则可选择执行这一块代码"
   ]
  },
  {
   "cell_type": "markdown",
   "id": "14d02072",
   "metadata": {},
   "source": [
    "在执行完一个条件语句后，执行返回到这条语句之后的代码。\n",
    "在Python中，一个条件语句有如下形式：\n",
    "```\n",
    "if Boolean expression:\n",
    "    block of code\n",
    "else \n",
    "    block of code\n",
    "```\n",
    "或者\n",
    "```\n",
    "if Boolean expression:\n",
    "    block of code\n",
    "```"
   ]
  },
  {
   "cell_type": "markdown",
   "id": "03ab368d",
   "metadata": {},
   "source": [
    "考虑下面的程序：如果变量x的值是偶数，则它输出\"Even\"；否则，它输出\"Odd\"。"
   ]
  },
  {
   "cell_type": "code",
   "execution_count": 14,
   "id": "b5dd19eb",
   "metadata": {},
   "outputs": [
    {
     "name": "stdout",
     "output_type": "stream",
     "text": [
      "Odd\n"
     ]
    }
   ],
   "source": [
    "if x%2 == 0:\n",
    "    print(\"Even\")\n",
    "else:\n",
    "    print(\"Odd\")"
   ]
  },
  {
   "cell_type": "markdown",
   "id": "c6569352",
   "metadata": {},
   "source": [
    "记住：两个等号==用来比较，一个等号=是为赋值预留的。\n",
    "\n",
    "在Python中，**缩进**在语义上是有意义的。比如，如果上述代码的最后一条语句被缩进了，则它将会是与`else`关联的代码块的一部分，而不是跟在条件语句后的代码块的一部分。\n",
    "\n",
    "Python通过这种方式来使用缩进有点不寻常。大部分编程语言使用某类括弧型符号来描述代码块，比如，在C语言中使用大括号`{}`来包围块。Python使用的缩进方法的优势是：**它保证了一个程序的可见结构是对一个程序的语义结构的精确表示**。因为缩进在语义方面很重要，所以**行的概念也很重要**。"
   ]
  },
  {
   "cell_type": "markdown",
   "id": "85c266c8",
   "metadata": {},
   "source": [
    "当一个条件语句的true块或者false块包含有另一个条件语句，则称该条件语句是有嵌套的。比如，下面的代码："
   ]
  },
  {
   "cell_type": "code",
   "execution_count": 15,
   "id": "331cfca9",
   "metadata": {},
   "outputs": [
    {
     "name": "stdout",
     "output_type": "stream",
     "text": [
      "Divisible by 3 and not by 2\n"
     ]
    }
   ],
   "source": [
    "if x%2 == 0:\n",
    "    if x%3 == 0:\n",
    "        print('Divisible by 2 and 3')\n",
    "    else:\n",
    "        print('Divisible by 2 not by 3')\n",
    "elif x%3 == 0:\n",
    "    print('Divisible by 3 and not by 2')"
   ]
  },
  {
   "cell_type": "markdown",
   "id": "0dc83ad5",
   "metadata": {},
   "source": [
    "在一个条件语句的测试部分使用复合布尔语句是很方便的，比如:"
   ]
  },
  {
   "cell_type": "code",
   "execution_count": null,
   "id": "24177f7a",
   "metadata": {},
   "outputs": [],
   "source": [
    "if x < y and x < z:\n",
    "    print('x is least')\n",
    "elif y < z:\n",
    "    print('y is least')\n",
    "else:\n",
    "    print('z is least')"
   ]
  },
  {
   "cell_type": "markdown",
   "id": "b05ba220",
   "metadata": {},
   "source": [
    "虽然条件语句允许我们编写比直线型程序更有意思的程序，但是分支类程序仍然很有限。\n",
    "\n",
    "考虑一类程序的威力的一种方式是考虑**它们花费多久来运行**。假设一行代码要花费一个单位的时间来运行。如果一个直线型程序有n行代码，则它将花费n个单位的时间来运行。一个有n行代码的分支型程序呢？它可能花费的时间比n少，但不可能比n大，因为每行代码最多被执行一次。\n",
    "\n",
    "一个程序的最大运行时间以该程序的长度为界，就说该程序**以常数时间运行**。这不意味着它每次运行都执行相同的不步数。它意味着**存在一个常数k，保证该程序运行步数不超过k步**。这蕴含着：**运行时间不随着输入规模而增长**。\n",
    "\n",
    "常数时间运行的程序所做的事情非常有限。比如，编写一个统计选举票数的程序。如果一个人能编写一个程序，在独立于票数的时间内做到这一点，那将令人非常吃惊。事实上，我们能证明这是不可能在常数时间内做到的。\n",
    "\n",
    "对问题固有困难的研究是计算复杂度的主题。幸运的是，**我们仅再需要一个更多的语言结构，即迭代，就能编写任意复杂度的程序**。我们将在2.4节讨论循环。"
   ]
  },
  {
   "cell_type": "markdown",
   "id": "eb42d5c8",
   "metadata": {},
   "source": [
    "指边测试：编写一个程序，检测三个变量x,y,z。输出它们之中最大的奇数。如果没有一个是奇数，则它输出表明其效果的消息。"
   ]
  },
  {
   "cell_type": "code",
   "execution_count": 25,
   "id": "5889ffad",
   "metadata": {},
   "outputs": [
    {
     "name": "stdout",
     "output_type": "stream",
     "text": [
      "7 is the largest odd number\n"
     ]
    }
   ],
   "source": [
    "x,y,z = 5,3,7\n",
    "\n",
    "if (x%2 == 0) and (y%2 == 0) and (z%2 == 0):\n",
    "    print(\"x,y,z中没有一个奇数\")\n",
    "elif (y%2 == 0) and (z%2 == 0):\n",
    "    print(f\"{x} is the largest odd number\")\n",
    "elif (z%2 == 0):\n",
    "    if x > y:\n",
    "        print(f\"{x} is the largest odd number\")\n",
    "    else:\n",
    "        print(f\"{y} is the largest odd number\")\n",
    "else:\n",
    "    if x > y and x > z:\n",
    "        print(f\"{x} is the largest odd number\")\n",
    "    elif y > z:\n",
    "        print(f\"{y} is the largest odd number\")\n",
    "    else:\n",
    "        print(f\"{z} is the largest odd number\")"
   ]
  },
  {
   "cell_type": "markdown",
   "id": "be67f91e",
   "metadata": {},
   "source": [
    "## 2.3 字符串和输入\n",
    "\n",
    "使用`str`类型的对象来表示字符串。使用单引号或者双引号来书写`str`类型的字面量，比如`'abc'`或者`\"abc\"`等。字面量`'123'`表示一个由3个字符组成的字符串，不不表示数字123。\n",
    "\n",
    "尝试在Python解释器上键入下面的表达式："
   ]
  },
  {
   "cell_type": "code",
   "execution_count": 1,
   "id": "2d1dad9f",
   "metadata": {},
   "outputs": [
    {
     "name": "stdout",
     "output_type": "stream",
     "text": [
      "a\n",
      "12\n",
      "aaa\n",
      "7\n",
      "aa\n"
     ]
    }
   ],
   "source": [
    "print('a')\n",
    "print(3*4)\n",
    "print(3*'a')\n",
    "print(3+4)\n",
    "print('a'+'a')"
   ]
  },
  {
   "cell_type": "markdown",
   "id": "29b938d3",
   "metadata": {},
   "source": [
    "加号运算符`+`被重载了：根据它被应用到的对象的类型，它有不同的含义。比如，当它被应用到两个数字上时，它意味着加法；当它被应用到两个字符串时，它意味着拼接。\n",
    "\n",
    "乘法运算符`*`也被重载了。当它的操作数是两个数字时，它意味着两数相乘；当它被应用到一个`int`和一个`str`时，它意味着一个重复运算符：表达式`n*s`的值是一个有n个重复s的`str`，其中n是一个`int`，s是一个`str`。比如，`2*'John'`的值是`'JohnJohn'`。这是有逻辑可循的。跟数学表达式`3*2`等价于2+2+2一样，表达式`3*'a'`等价于`'a'+'a'+'a'`。\n",
    "\n",
    "现在键入："
   ]
  },
  {
   "cell_type": "code",
   "execution_count": 2,
   "id": "d1e748ee",
   "metadata": {},
   "outputs": [
    {
     "ename": "NameError",
     "evalue": "name 'a' is not defined",
     "output_type": "error",
     "traceback": [
      "\u001b[0;31m---------------------------------------------------------------------------\u001b[0m",
      "\u001b[0;31mNameError\u001b[0m                                 Traceback (most recent call last)",
      "\u001b[0;32m/var/folders/ys/_mwzpxjn5mnbrrw71f2phd5h0000gn/T/ipykernel_727/1189138062.py\u001b[0m in \u001b[0;36m<module>\u001b[0;34m\u001b[0m\n\u001b[0;32m----> 1\u001b[0;31m \u001b[0mprint\u001b[0m\u001b[0;34m(\u001b[0m\u001b[0ma\u001b[0m\u001b[0;34m)\u001b[0m\u001b[0;34m\u001b[0m\u001b[0;34m\u001b[0m\u001b[0m\n\u001b[0m",
      "\u001b[0;31mNameError\u001b[0m: name 'a' is not defined"
     ]
    }
   ],
   "source": [
    "print(a)"
   ]
  },
  {
   "cell_type": "code",
   "execution_count": 4,
   "id": "cd6d35a8",
   "metadata": {},
   "outputs": [
    {
     "ename": "TypeError",
     "evalue": "can't multiply sequence by non-int of type 'str'",
     "output_type": "error",
     "traceback": [
      "\u001b[0;31m---------------------------------------------------------------------------\u001b[0m",
      "\u001b[0;31mTypeError\u001b[0m                                 Traceback (most recent call last)",
      "\u001b[0;32m/var/folders/ys/_mwzpxjn5mnbrrw71f2phd5h0000gn/T/ipykernel_727/704948624.py\u001b[0m in \u001b[0;36m<module>\u001b[0;34m\u001b[0m\n\u001b[0;32m----> 1\u001b[0;31m \u001b[0mprint\u001b[0m\u001b[0;34m(\u001b[0m\u001b[0;34m'a'\u001b[0m\u001b[0;34m*\u001b[0m\u001b[0;34m'a'\u001b[0m\u001b[0;34m)\u001b[0m\u001b[0;34m\u001b[0m\u001b[0;34m\u001b[0m\u001b[0m\n\u001b[0m",
      "\u001b[0;31mTypeError\u001b[0m: can't multiply sequence by non-int of type 'str'"
     ]
    }
   ],
   "source": [
    "print('a'*'a')"
   ]
  },
  {
   "cell_type": "markdown",
   "id": "43b00831",
   "metadata": {},
   "source": [
    "存在**类型检查**是一件好事。它将粗心的错误转换成停止运行的错误，而不是导致程序以神秘方式运行的错误。虽然Python中的类型检查没有某些编程编程语言强，比如Java，但是Python3要比Python2要好。比如，当使用`<`来比较两个字符串或者数时，`<`的作用很明确。但是表达式`'4'<3`的值是什么？在Python2中，该表达式的值是False，因为Python2的设计者认为所有数字的值都小于所有`str`类型的值。在Python3中，该表达式会生成错误消息，因为Python3的设计者认为这个表达式是没有明确的含义的。"
   ]
  },
  {
   "cell_type": "markdown",
   "id": "a47e197a",
   "metadata": {},
   "source": [
    "字符串是Python中的若干个**序列类型**之一。它跟所有序列类型共有以下操作：\n",
    "- length\n",
    "  \n",
    "  可使用`len`函数来寻找一个字符串的长度。比如，`len('abc')`的值为3。\n",
    "  \n",
    "- indexing\n",
    "\n",
    "  使用索引来从字符串中提取单独的字符。\n",
    "  \n",
    "  在Python中，所有的索引都是从0开始的。比如，在解释器上键入`'abc'[0]`将会输出字符串`'a'`。键入`abc[3]`将会输出错误消息：`IndexError: string index out of range`。因为Python使用0来表示字符串的第一个元素，所以可使用索引2来访问长度为3的字符串的最后一个元素。\n",
    "  \n",
    "  可使用负数从字符串的末端开始索引。比如，`'abc'[-1]`的值是`'c'`。\n",
    "\n",
    "- slicing\n",
    "\n",
    "  可使用slicing从字符串中提取任意长度的子字符串。如果s是一个字符串，则`s[start:end]`表示一个从索引start开始、到索引(end-1)处结束的子字符串。比如，`'abc'[1:3] = 'bc'`。\n",
    "  \n",
    "  为什么它要在索引(end-1)处结束，而不是end处结束呢？为了诸如表达式`'abc'[0:len('abc')]`等的值跟我们期望的一样。\n",
    "  \n",
    "  如果`:`前面的值省略了，则它被默认设置为0。如果`:`后面的值省略了，它被默认设置为字符串的长度。因此，表达式`'abc'[:]`在语义上等价于`'abc[0:len('abc')]'`。\n"
   ]
  },
  {
   "cell_type": "markdown",
   "id": "75265407",
   "metadata": {},
   "source": [
    "### 2.3.1 输入\n",
    "Python 3里有个`input`函数，可使用它直接从用户那里得到输入。\n",
    "\n",
    "`input`函数取一个字符串作为参数，将该字符串作为提示符在shell中展示。然后等着用户键入一些东西，接着是敲击enter键。把用户键入的行看做是一个字符串，作为该函数的返回值。\n",
    "\n",
    "考虑如下代码："
   ]
  },
  {
   "cell_type": "code",
   "execution_count": 1,
   "id": "c6631898",
   "metadata": {},
   "outputs": [
    {
     "name": "stdout",
     "output_type": "stream",
     "text": [
      "Enter your name: George Washington\n"
     ]
    }
   ],
   "source": [
    "name = input('Enter your name: ')"
   ]
  },
  {
   "cell_type": "code",
   "execution_count": 2,
   "id": "22dac852",
   "metadata": {},
   "outputs": [
    {
     "name": "stdout",
     "output_type": "stream",
     "text": [
      "Are you really George Washington ?\n"
     ]
    }
   ],
   "source": [
    "print('Are you really', name, '?')"
   ]
  },
  {
   "cell_type": "code",
   "execution_count": 3,
   "id": "111d82bd",
   "metadata": {},
   "outputs": [
    {
     "name": "stdout",
     "output_type": "stream",
     "text": [
      "Are you really George Washington?\n"
     ]
    }
   ],
   "source": [
    "print('Are you really '+name+'?')"
   ]
  },
  {
   "cell_type": "markdown",
   "id": "d7ba6e7b",
   "metadata": {},
   "source": [
    "注意：\n",
    "- 第一条`print`语句在问号`?`前引入了一个空格。它做到这一点，因为当传递多个参数给`print`时，它在参数关联的值之间放了一个空格。\n",
    "\n",
    "- 第二条`print`语句使用拼接来产生一个字符串(不包含多余的空白)，将该字符串作为唯一的参数传递给`print`函数。\n",
    "\n",
    "\n",
    "现在，考虑如下代码："
   ]
  },
  {
   "cell_type": "code",
   "execution_count": 4,
   "id": "b5213630",
   "metadata": {},
   "outputs": [
    {
     "name": "stdout",
     "output_type": "stream",
     "text": [
      "Enter an int: 3\n"
     ]
    }
   ],
   "source": [
    "n = input('Enter an int: ')"
   ]
  },
  {
   "cell_type": "code",
   "execution_count": 5,
   "id": "e9dab986",
   "metadata": {},
   "outputs": [
    {
     "name": "stdout",
     "output_type": "stream",
     "text": [
      "<class 'str'>\n"
     ]
    }
   ],
   "source": [
    "print(type(n))"
   ]
  },
  {
   "cell_type": "code",
   "execution_count": null,
   "id": "6ce8508b",
   "metadata": {},
   "outputs": [],
   "source": []
  }
 ],
 "metadata": {
  "kernelspec": {
   "display_name": "Python 3 (ipykernel)",
   "language": "python",
   "name": "python3"
  },
  "language_info": {
   "codemirror_mode": {
    "name": "ipython",
    "version": 3
   },
   "file_extension": ".py",
   "mimetype": "text/x-python",
   "name": "python",
   "nbconvert_exporter": "python",
   "pygments_lexer": "ipython3",
   "version": "3.9.0"
  }
 },
 "nbformat": 4,
 "nbformat_minor": 5
}
