{
 "cells": [
  {
   "cell_type": "markdown",
   "id": "dcf9bc27",
   "metadata": {},
   "source": [
    "## 搜索算法\n",
    "搜索算法是在一个项集中查找一个项或者具有指定性质的一组项的方法。\n",
    "\n",
    "- 这里的集可以是隐式的，比如找一个数的平方根就是一个搜索问题，可以使用穷尽枚举法、二分搜索法、Newton-Raphson法。\n",
    "- 这里的集也可以是显式的，比如一个学生记录是否在一个被保存的数据集中等"
   ]
  },
  {
   "cell_type": "markdown",
   "id": "27135a2a",
   "metadata": {},
   "source": [
    "## 搜索算法\n",
    "- 线性查找\n",
    "  - 暴力查找；\n",
    "  - 列表不一定是排好序的；\n",
    "- 二分查找\n",
    "  - 列表必须排好序才能找到准确答案；\n",
    "  - 看两种不同的二分查找实现；"
   ]
  },
  {
   "cell_type": "markdown",
   "id": "74b3d2bf",
   "metadata": {},
   "source": [
    "## 对无序列表进行线性查找\n",
    "- 必须遍历所有的元素来判断它不在那里；\n",
    "- 整体的复杂度是循环的时间复杂度`O(len(L))*O(1)=O(n)`，其中`n`是`len(L)`，`O(1)`是测试`e==L[i]`的复杂度；"
   ]
  },
  {
   "cell_type": "code",
   "execution_count": 3,
   "id": "159ee0be",
   "metadata": {},
   "outputs": [
    {
     "name": "stdout",
     "output_type": "stream",
     "text": [
      "False\n",
      "True\n"
     ]
    }
   ],
   "source": [
    "def linear_search(L, e):\n",
    "    found = False\n",
    "    for i in range(len(L)):\n",
    "        if L[i] == e:\n",
    "            found = True\n",
    "            break\n",
    "    return found\n",
    "\n",
    "L = [5,4,9,8,7]\n",
    "\n",
    "print(linear_search(L, 6))\n",
    "\n",
    "print(linear_search(L, 7))"
   ]
  },
  {
   "cell_type": "markdown",
   "id": "722695de",
   "metadata": {},
   "source": [
    "## 对有序列表进行线性查找\n",
    "\n",
    "- 必须查看元素直到找到一个比e大的元素。\n",
    "- 整体的复杂度是循环的时间复杂度`O(len(L))*O(1)=O(n)`，其中`n`是`len(L)`，`O(1)`是测试`e==L[i]`的复杂度。"
   ]
  },
  {
   "cell_type": "code",
   "execution_count": 7,
   "id": "8a12278e",
   "metadata": {},
   "outputs": [
    {
     "name": "stdout",
     "output_type": "stream",
     "text": [
      "False\n",
      "True\n"
     ]
    }
   ],
   "source": [
    "def search(L, e):\n",
    "    for i in range(len(L)):\n",
    "        if L[i] == e:\n",
    "            return True\n",
    "        if L[i] > e:\n",
    "            return False\n",
    "        \n",
    "    return False\n",
    "\n",
    "L = [1,2,3,6]\n",
    "\n",
    "print(search(L, 5))\n",
    "\n",
    "print(search(L, 3))"
   ]
  },
  {
   "cell_type": "markdown",
   "id": "a7cb2abc",
   "metadata": {},
   "source": [
    "## 使用二分搜索\n",
    "1. 选择一个将列表分成两半的索引`i`\n",
    "2. 测试`L[i]==e`\n",
    "3. 如果不等，则测试`L[i]`是大于还是小于`e`\n",
    "4. 取决于第3步测试的结果，在列表的左边一半还是右边一半里查找元素`e`\n",
    "\n",
    "这是一个新版本的分而治之算法：\n",
    "- 将原问题分解为更小版本的问题，加上一些简单的操作\n",
    "- 更小版本的解是原问题的解"
   ]
  },
  {
   "cell_type": "code",
   "execution_count": 12,
   "id": "87d3d3c2",
   "metadata": {},
   "outputs": [
    {
     "name": "stdout",
     "output_type": "stream",
     "text": [
      "False\n",
      "True\n"
     ]
    }
   ],
   "source": [
    "def bisect_search2(L, e):\n",
    "    def bisect_search2_helper(L, e, low, high):\n",
    "        if high == low:\n",
    "            return L[low] == e\n",
    "        \n",
    "        mid = (low + high)//2\n",
    "        if L[mid] == e:\n",
    "            return True\n",
    "        elif L[mid]>e:\n",
    "            if low == mid:\n",
    "                return False\n",
    "            else:\n",
    "                return bisect_search2_helper(L,e, 0, mid-1)\n",
    "        else:\n",
    "            return bisect_search2_helper(L,e, mid+1, high)\n",
    "        \n",
    "    if len(L) == 0:\n",
    "        return False\n",
    "    else:\n",
    "        return bisect_search2_helper(L, e, 0, len(L)-1)\n",
    "        \n",
    "L = [1,2,3,6]\n",
    "print(bisect_search2(L,4))\n",
    "print(bisect_search2(L,3))"
   ]
  },
  {
   "cell_type": "markdown",
   "id": "34360841",
   "metadata": {},
   "source": [
    "## 二分查找的复杂度\n",
    "\n",
    "- 二分查找和它的辅助函数\n",
    "\n",
    "  `O(log n)`次二分搜索调用，每一步将原问题的大小减少1/2\n",
    "- 列表和索引作为参数\n",
    "- 永远不拷贝列表，只是重新作为指针再传递\n",
    "- 在函数内部的工作量是常数量级\n",
    "\n",
    "整体的复杂度为`O(log n)`"
   ]
  },
  {
   "cell_type": "code",
   "execution_count": null,
   "id": "a50ef3e3",
   "metadata": {},
   "outputs": [],
   "source": []
  }
 ],
 "metadata": {
  "kernelspec": {
   "display_name": "Python 3 (ipykernel)",
   "language": "python",
   "name": "python3"
  },
  "language_info": {
   "codemirror_mode": {
    "name": "ipython",
    "version": 3
   },
   "file_extension": ".py",
   "mimetype": "text/x-python",
   "name": "python",
   "nbconvert_exporter": "python",
   "pygments_lexer": "ipython3",
   "version": "3.9.0"
  }
 },
 "nbformat": 4,
 "nbformat_minor": 5
}
