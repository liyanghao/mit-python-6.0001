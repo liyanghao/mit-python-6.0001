{
 "cells": [
  {
   "cell_type": "markdown",
   "id": "dcf9bc27",
   "metadata": {},
   "source": [
    "## 搜索算法\n",
    "搜索算法是在一个项集中查找一个项或者具有指定性质的一组项的方法。\n",
    "\n",
    "- 这里的集可以是隐式的，比如找一个数的平方根就是一个搜索问题，可以使用穷尽枚举法、二分搜索法、Newton-Raphson法。\n",
    "- 这里的集也可以是显式的，比如一个学生记录是否在一个被保存的数据集中等"
   ]
  },
  {
   "cell_type": "markdown",
   "id": "27135a2a",
   "metadata": {},
   "source": [
    "## 搜索算法\n",
    "- 线性查找\n",
    "  - 暴力查找；\n",
    "  - 列表不一定是排好序的；\n",
    "- 二分查找\n",
    "  - 列表必须排好序才能找到准确答案；\n",
    "  - 看两种不同的二分查找实现；"
   ]
  },
  {
   "cell_type": "markdown",
   "id": "74b3d2bf",
   "metadata": {},
   "source": [
    "## 对无序列表进行线性查找\n",
    "- 必须遍历所有的元素来判断它不在那里；\n",
    "- 整体的复杂度是循环的时间复杂度`O(len(L))*O(1)=O(n)`，其中`n`是`len(L)`，`O(1)`是测试`e==L[i]`的复杂度；"
   ]
  },
  {
   "cell_type": "code",
   "execution_count": 3,
   "id": "159ee0be",
   "metadata": {},
   "outputs": [
    {
     "name": "stdout",
     "output_type": "stream",
     "text": [
      "False\n",
      "True\n"
     ]
    }
   ],
   "source": [
    "def linear_search(L, e):\n",
    "    found = False\n",
    "    for i in range(len(L)):\n",
    "        if L[i] == e:\n",
    "            found = True\n",
    "            break\n",
    "    return found\n",
    "\n",
    "L = [5,4,9,8,7]\n",
    "\n",
    "print(linear_search(L, 6))\n",
    "\n",
    "print(linear_search(L, 7))"
   ]
  },
  {
   "cell_type": "markdown",
   "id": "722695de",
   "metadata": {},
   "source": [
    "## 对有序列表进行线性查找\n",
    "\n",
    "- 必须查看元素直到找到一个比e大的元素。\n",
    "- 整体的复杂度是循环的时间复杂度`O(len(L))*O(1)=O(n)`，其中`n`是`len(L)`，`O(1)`是测试`e==L[i]`的复杂度。"
   ]
  },
  {
   "cell_type": "code",
   "execution_count": 7,
   "id": "8a12278e",
   "metadata": {},
   "outputs": [
    {
     "name": "stdout",
     "output_type": "stream",
     "text": [
      "False\n",
      "True\n"
     ]
    }
   ],
   "source": [
    "def search(L, e):\n",
    "    for i in range(len(L)):\n",
    "        if L[i] == e:\n",
    "            return True\n",
    "        if L[i] > e:\n",
    "            return False\n",
    "        \n",
    "    return False\n",
    "\n",
    "L = [1,2,3,6]\n",
    "\n",
    "print(search(L, 5))\n",
    "\n",
    "print(search(L, 3))"
   ]
  },
  {
   "cell_type": "markdown",
   "id": "a7cb2abc",
   "metadata": {},
   "source": [
    "## 使用二分搜索\n",
    "1. 选择一个将列表分成两半的索引`i`\n",
    "2. 测试`L[i]==e`\n",
    "3. 如果不等，则测试`L[i]`是大于还是小于`e`\n",
    "4. 取决于第3步测试的结果，在列表的左边一半还是右边一半里查找元素`e`\n",
    "\n",
    "这是一个新版本的分而治之算法：\n",
    "- 将原问题分解为更小版本的问题，加上一些简单的操作\n",
    "- 更小版本的解是原问题的解"
   ]
  },
  {
   "cell_type": "code",
   "execution_count": 12,
   "id": "87d3d3c2",
   "metadata": {},
   "outputs": [
    {
     "name": "stdout",
     "output_type": "stream",
     "text": [
      "False\n",
      "True\n"
     ]
    }
   ],
   "source": [
    "def bisect_search2(L, e):\n",
    "    def bisect_search2_helper(L, e, low, high):\n",
    "        if high == low:\n",
    "            return L[low] == e\n",
    "        \n",
    "        mid = (low + high)//2\n",
    "        if L[mid] == e:\n",
    "            return True\n",
    "        elif L[mid]>e:\n",
    "            if low == mid:\n",
    "                return False\n",
    "            else:\n",
    "                return bisect_search2_helper(L,e, 0, mid-1)\n",
    "        else:\n",
    "            return bisect_search2_helper(L,e, mid+1, high)\n",
    "        \n",
    "    if len(L) == 0:\n",
    "        return False\n",
    "    else:\n",
    "        return bisect_search2_helper(L, e, 0, len(L)-1)\n",
    "        \n",
    "L = [1,2,3,6]\n",
    "print(bisect_search2(L,4))\n",
    "print(bisect_search2(L,3))"
   ]
  },
  {
   "cell_type": "markdown",
   "id": "34360841",
   "metadata": {},
   "source": [
    "## 二分查找的复杂度\n",
    "\n",
    "- 二分查找和它的辅助函数\n",
    "\n",
    "  `O(log n)`次二分搜索调用，每一步将原问题的大小减少1/2\n",
    "- 列表和索引作为参数\n",
    "- 永远不拷贝列表，只是重新作为指针再传递\n",
    "- 在函数内部的工作量是常数量级\n",
    "\n",
    "整体的复杂度为`O(log n)`"
   ]
  },
  {
   "cell_type": "markdown",
   "id": "d9f5a5cc",
   "metadata": {},
   "source": [
    "## 对一个有序列表进行搜索，其中n是`len(n)`。\n",
    "- 使用线性查找，搜索一个元素的时间复杂度是O(n)\n",
    "- 使用二分搜索，搜索一个元素的时间复杂度是O(log n)，注意要假设列表是排好序的\n",
    "\n",
    "问题：什么时候先排序再搜索是有意义的？\n",
    "答：当排序的复杂度小于O(n)时，因为先排序再搜索的复杂度为SORT+O(log n)，只有它<O(n)才有意义。变形为：SORT<O(n)-O(log n)。\n",
    "\n",
    "但是这永远不可能为真，因为为了给n个元素排序，必须要查看每个元素至少一次。"
   ]
  },
  {
   "cell_type": "markdown",
   "id": "0713b16c",
   "metadata": {},
   "source": [
    "## 分摊成本，其中n是`len(L)`\n",
    "问题：为什么要不厌其烦地先排序呢？\n",
    "\n",
    "答：因为在某些情况下，可能会先做一次排序，然后做多次查询，这样会将排序的成本分摊到多次查询上。\n",
    "\n",
    "先排序后做多次查询的复杂度为`SORT+K*O(log n)<K*O(n)`。当K充分大时，如果排序的成本足够小，那么排序时间就变得不相关了。"
   ]
  },
  {
   "cell_type": "markdown",
   "id": "89e38b87",
   "metadata": {},
   "source": [
    "## 排序算法\n",
    "- 对一个条目列表进行高效地排序；\n",
    "- 看一系列的方法，包括一个非常高效的；"
   ]
  },
  {
   "cell_type": "markdown",
   "id": "cdcdb677",
   "metadata": {},
   "source": [
    "## bogo排序\n",
    "假设要对一叠卡片排序，\n",
    "\n",
    "思路：\n",
    "- 将它们扔到空中\n",
    "- 将它们捡起来\n",
    "- 测试它们排好序了吗？\n",
    "- 如果没排好序，则重复之前的步骤"
   ]
  },
  {
   "cell_type": "markdown",
   "id": "3aacc7ed",
   "metadata": {},
   "source": [
    "## bogo排序的复杂度\n",
    "最好情形：也就是判断L是否排好序的复杂度O(n)，其中n是len(L)。\n",
    "\n",
    "最坏情形：无界"
   ]
  },
  {
   "cell_type": "code",
   "execution_count": 15,
   "id": "f3d4b415",
   "metadata": {},
   "outputs": [],
   "source": [
    "def bogo_sort(L):\n",
    "    while not is_sorted(L):\n",
    "        random.shuffle(L)\n"
   ]
  },
  {
   "cell_type": "markdown",
   "id": "6177d2cd",
   "metadata": {},
   "source": [
    "## 冒泡排序\n",
    "思路：\n",
    "- 比较连续的元素对\n",
    "- 交换对中的元素使得较小的在前\n",
    "- 当到达列表的末尾时，重新再开始\n",
    "- 当不再做交换时结束\n",
    "\n",
    "分析：因为每次通关后，最大的无序元素会出现在末尾，所以冒泡排序最多有n次通关"
   ]
  },
  {
   "cell_type": "code",
   "execution_count": 19,
   "id": "575c09c6",
   "metadata": {},
   "outputs": [
    {
     "name": "stdout",
     "output_type": "stream",
     "text": [
      "[1, 2, 3]\n"
     ]
    }
   ],
   "source": [
    "def bubble_sort(L):\n",
    "    swap = False\n",
    "    while not swap:\n",
    "        swap = True\n",
    "        for j in range(1,len(L)):\n",
    "            if L[j-1]>L[j]:\n",
    "                swap = False\n",
    "                temp = L[j]\n",
    "                L[j] = L[j-1]\n",
    "                L[j-1] = temp\n",
    "                \n",
    "L = [1,3,2]\n",
    "bubble_sort(L)\n",
    "print(L)"
   ]
  },
  {
   "cell_type": "markdown",
   "id": "651896ab",
   "metadata": {},
   "source": [
    "分析：内部循环用来做比较，外部循环用来做多次通关直到不再有交换。\n",
    "\n",
    "bubble排序的复杂度为$O(n^2)$，因为要做len(L)-1次比较，和len(L)-1次通关。"
   ]
  },
  {
   "cell_type": "markdown",
   "id": "5bd718cd",
   "metadata": {},
   "source": [
    "## 选择排序\n",
    "思路：\n",
    "\n",
    "第一步：\n",
    "- 抽取最小元素\n",
    "- 把它交换到索引0处\n",
    "\n",
    "接下来：\n",
    "- 从剩余列表中，抽取最小元素；\n",
    "- 把它交换到索引1处；\n",
    "\n",
    "保证列表的左边部分有序，\n",
    "- 在第i步，前i个元素都是有序的；\n",
    "- 所有其他的元素都比前i个元素大；"
   ]
  },
  {
   "cell_type": "code",
   "execution_count": null,
   "id": "4fa917ab",
   "metadata": {},
   "outputs": [],
   "source": []
  }
 ],
 "metadata": {
  "kernelspec": {
   "display_name": "Python 3 (ipykernel)",
   "language": "python",
   "name": "python3"
  },
  "language_info": {
   "codemirror_mode": {
    "name": "ipython",
    "version": 3
   },
   "file_extension": ".py",
   "mimetype": "text/x-python",
   "name": "python",
   "nbconvert_exporter": "python",
   "pygments_lexer": "ipython3",
   "version": "3.9.0"
  }
 },
 "nbformat": 4,
 "nbformat_minor": 5
}
