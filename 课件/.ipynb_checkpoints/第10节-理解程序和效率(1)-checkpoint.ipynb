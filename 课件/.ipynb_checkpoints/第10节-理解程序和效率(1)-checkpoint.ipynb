{
 "cells": [
  {
   "cell_type": "markdown",
   "id": "793b5642",
   "metadata": {},
   "source": [
    "- 度量算法的增长阶；\n",
    "- 大O记号；\n",
    "- 复杂度类；"
   ]
  },
  {
   "cell_type": "markdown",
   "id": "c42b49a5",
   "metadata": {},
   "source": [
    "因为计算机变得越来越快，所以程序就不用关心效率了吗？不是的，因为数据集可以非常大，比如，在2014年，Google服务了`30,000,000,000,000`个网页，大约有`100,000,000`GB。如果使用暴力搜索，那么不知道查到什么时候了。\n",
    "\n",
    "因此，简单的解可能不会以一种可接受的方式进行拓展。\n",
    "\n",
    "我们如何判断哪个程序是最有效率的？\n",
    "\n",
    "要区分程序的**时间复杂度**和**空间复杂度**；\n",
    "要在两者之间做权衡：\n",
    "- 有时需要存储一些提前计算的结果，然后使用查询来检索，比如Fibonacci的存储；\n",
    "- 我们将集中在时间复杂度；"
   ]
  },
  {
   "cell_type": "markdown",
   "id": "bb6abbf8",
   "metadata": {},
   "source": [
    "理解一个可计算问题的解的效率时有哪些挑战？\n",
    "- 一个程序会有许多不同的实现；\n",
    "- 你可以仅使用一小部分不同的算法来解决一个问题；\n",
    "- 将实现的选择跟抽象算法的选择分离开；"
   ]
  },
  {
   "cell_type": "markdown",
   "id": "2b27705c",
   "metadata": {},
   "source": [
    "如何评估一个程序的效率？\n",
    "- 方法一：使用计时器；\n",
    "- 方法二：对操作进行计数；\n",
    "- 方法三：抽象的增长阶概念；"
   ]
  },
  {
   "cell_type": "markdown",
   "id": "e474825c",
   "metadata": {},
   "source": [
    "方法一：对程序进行计时\n",
    "\n",
    "使用`time`模块\n",
    "\n",
    "将`time`模块导入你的文件\n",
    "\n",
    "开始定时器\n",
    "\n",
    "调用函数\n",
    "\n",
    "停止定时器"
   ]
  },
  {
   "cell_type": "code",
   "execution_count": 11,
   "id": "cae38b58",
   "metadata": {},
   "outputs": [
    {
     "name": "stdout",
     "output_type": "stream",
     "text": [
      "t= 2.7499999760038918e-05 s\n"
     ]
    }
   ],
   "source": [
    "import time\n",
    "\n",
    "def c_to_f(c):\n",
    "    return c*9/5+32\n",
    "\n",
    "t0 = time.perf_counter()\n",
    "c_to_f(100000)\n",
    "t1 = time.perf_counter()-t0\n",
    "\n",
    "print(\"t=\", t1, \"s\")"
   ]
  },
  {
   "cell_type": "markdown",
   "id": "b76e9021",
   "metadata": {},
   "source": [
    "对程序计时存在不一致：\n",
    "\n",
    "目标：评估不同的算法\n",
    "运行时间在算法间变化；\n",
    "运行时间在实现间变化；\n",
    "运行时间在计算机间变化；\n",
    "基于小输入的运行时间是不可预测的；\n",
    "\n",
    "时间对于不同的输入是变化的，但是不能实际地表示输入与时间之间的关系。"
   ]
  },
  {
   "cell_type": "markdown",
   "id": "c873ad67",
   "metadata": {},
   "source": [
    "方法二：对操作计数\n",
    "\n",
    "假设所有操作都花费常数时间，包括：\n",
    "- 数学运算；\n",
    "- 比较；\n",
    "- 赋值；\n",
    "- 访问在内存中的对象\n",
    "\n",
    "然后，把要执行的操作次数看做是输入大小的函数。"
   ]
  },
  {
   "cell_type": "code",
   "execution_count": 12,
   "id": "7755927b",
   "metadata": {},
   "outputs": [],
   "source": [
    "def c_to_f(c):\n",
    "    return c*9.0/5+32\n",
    "\n",
    "def mysum(x):\n",
    "    total = 0\n",
    "    for i in range(x+1):\n",
    "        total += i\n",
    "    return total"
   ]
  },
  {
   "cell_type": "markdown",
   "id": "715392b4",
   "metadata": {},
   "source": [
    "我们的目标是评估不同的算法\n",
    "\n",
    "对操作计数更好，但是：\n",
    "\n",
    "操作计数依赖于算法；\n",
    "\n",
    "操作计数依赖于实现；\n",
    "\n",
    "操作计数依赖于计算机；\n",
    "\n",
    "没有清晰地定义要对哪些操作计数；\n",
    "\n",
    "操作计数随着不同的输入而变化，可提出输入和计数之间的关系。"
   ]
  },
  {
   "cell_type": "markdown",
   "id": "08dc12e3",
   "metadata": {},
   "source": [
    "还是需要一种更好的方式。\n",
    "\n",
    "计时和计数评估的是实现。\n",
    "\n",
    "计时评估的是机器，\n",
    "\n",
    "想评估算法；\n",
    "\n",
    "想评估可伸缩性；\n",
    "\n",
    "想通过输入大小来评估；"
   ]
  },
  {
   "cell_type": "markdown",
   "id": "b97a386a",
   "metadata": {},
   "source": [
    "还是需要一种更好的方式：\n",
    "\n",
    "集中在**对算法中操作计数这种思路上，但是不担心实现的小差别**，比如在一个循环里是要执行3次还是4次操作。\n",
    "\n",
    "集中在当问题规模变得无穷大时，算法是如何执行的。\n",
    "\n",
    "想把通过这种方式测量的完成一个计算需要的时间跟问题的输入大小相关联。\n",
    "\n",
    "考虑到实际的步数可能依赖于具体的情况，我们需要决定测量什么。"
   ]
  },
  {
   "cell_type": "code",
   "execution_count": null,
   "id": "6531c41a",
   "metadata": {},
   "outputs": [],
   "source": []
  }
 ],
 "metadata": {
  "kernelspec": {
   "display_name": "Python 3 (ipykernel)",
   "language": "python",
   "name": "python3"
  },
  "language_info": {
   "codemirror_mode": {
    "name": "ipython",
    "version": 3
   },
   "file_extension": ".py",
   "mimetype": "text/x-python",
   "name": "python",
   "nbconvert_exporter": "python",
   "pygments_lexer": "ipython3",
   "version": "3.9.6"
  }
 },
 "nbformat": 4,
 "nbformat_minor": 5
}
