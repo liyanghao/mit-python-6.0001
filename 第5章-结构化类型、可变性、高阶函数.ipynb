{
 "cells": [
  {
   "cell_type": "markdown",
   "id": "7b350b34",
   "metadata": {},
   "source": [
    "截止目前，我们看到的程序处理过3种类型的对象：`int`、`float`、`str`。\n",
    "数值类型`int`和`float`都是标量类型，即标量类型的对象没有可以访问的内部结构。\n",
    "作为比较，`str`被认为是一种有结构的非标量类型。你可以使用索引来从一个字符串中提取单个字符，使用分片来提取子字符串。\n",
    "\n",
    "这一章，我们介绍额外的结构化的类型。一个是元组tuple，是对`str`相对简单的推广。另外3个是`list`、`range`、`dict`，它们更有趣些。我们也会重新提到函数这一主题，并用一些示例说明用相同的方式来处理函数和其他类型的对象的方便之处。\n",
    "\n",
    "## 5.1 元组tuple\n",
    "\n",
    "跟字符串一样，元组是不可变的有序元素序列。区别是元组中的元素不一定是字符。单个元素可以是任意类型，但彼此之间不一定是相同的类型。\n",
    "\n",
    "元组类型的字面量可写成一个在括号内以逗号分割的元素列表。比如："
   ]
  },
  {
   "cell_type": "code",
   "execution_count": 4,
   "id": "40810c8e",
   "metadata": {},
   "outputs": [
    {
     "name": "stdout",
     "output_type": "stream",
     "text": [
      "()\n",
      "(1, 'two', 3)\n",
      "1\n",
      "(1,)\n"
     ]
    }
   ],
   "source": [
    "t1 = ()\n",
    "t2 = (1, 'two', 3)\n",
    "t3 = (1)\n",
    "t4 = (1,)\n",
    "print(t1)\n",
    "print(t2)\n",
    "print(t3)\n",
    "print(t4)"
   ]
  },
  {
   "cell_type": "markdown",
   "id": "107bf704",
   "metadata": {},
   "source": [
    "看下这个示例，你可能自然地相信：包含有单个值1的元组被写为`(1)`。但是，因为括号用来分组表达式，所以为了表示包含这个值的单个元组，我们要写成`(1,)`。几乎每个使用Python的人都曾经不小心地省略了那个烦人的逗号。\n",
    "\n",
    "可对元组使用重复。比如，"
   ]
  },
  {
   "cell_type": "code",
   "execution_count": 5,
   "id": "b5ccac2d",
   "metadata": {},
   "outputs": [
    {
     "name": "stdout",
     "output_type": "stream",
     "text": [
      "('a', 2, 'a', 2, 'a', 2)\n"
     ]
    }
   ],
   "source": [
    "print(3*('a',2))"
   ]
  },
  {
   "cell_type": "markdown",
   "id": "954a7fe2",
   "metadata": {},
   "source": [
    "跟字符串一样，元组可被拼接，索引，分片。比如："
   ]
  },
  {
   "cell_type": "code",
   "execution_count": 9,
   "id": "9e5977d3",
   "metadata": {},
   "outputs": [
    {
     "name": "stdout",
     "output_type": "stream",
     "text": [
      "((1, 'two', 3), 3.25)\n",
      "(1, 'two', 3, (1, 'two', 3), 3.25)\n",
      "(1, 'two', 3)\n",
      "(3, (1, 'two', 3), 3.25)\n"
     ]
    }
   ],
   "source": [
    "t1 = (1,'two',3)\n",
    "t2 = (t1,3.25)\n",
    "print(t2)\n",
    "#拼接\n",
    "print(t1+t2)\n",
    "#索引\n",
    "print((t1+t2)[3])\n",
    "#分片\n",
    "print((t1+t2)[2:5])"
   ]
  },
  {
   "cell_type": "markdown",
   "id": "4017961f",
   "metadata": {},
   "source": [
    "第2条赋值语句将名字t2绑定到一个包含指向t1被绑定的元组和浮点数3.25的元组。这是可以的，因为跟Python中的其他事情一样，一个元组就是一个对象，所以元组可以包含元组。因此，第一条print语句输出：\n",
    "```\n",
    "((1, 'two', 3), 3.25)\n",
    "```\n",
    "\n",
    "第二条print语句输出通过拼接t1和t2被绑定的值生成的值，它是一个有5个元素的元组。它的输出为：\n",
    "```\n",
    "(1, 'two', 3, (1, 'two', 3), 3.25)\n",
    "```"
   ]
  }
 ],
 "metadata": {
  "kernelspec": {
   "display_name": "Python 3 (ipykernel)",
   "language": "python",
   "name": "python3"
  },
  "language_info": {
   "codemirror_mode": {
    "name": "ipython",
    "version": 3
   },
   "file_extension": ".py",
   "mimetype": "text/x-python",
   "name": "python",
   "nbconvert_exporter": "python",
   "pygments_lexer": "ipython3",
   "version": "3.9.6"
  }
 },
 "nbformat": 4,
 "nbformat_minor": 5
}
