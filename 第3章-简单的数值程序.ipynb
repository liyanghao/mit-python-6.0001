{
 "cells": [
  {
   "cell_type": "markdown",
   "id": "715824a3",
   "metadata": {},
   "source": [
    "现在，我们已介绍了Python的一些基本结构，到时候考虑如何组合这些结构来编写简单的程序。在这个过程中，我们会顺带介绍更多的语言结构和一些算法技术。\n",
    "\n",
    "## 3.1 穷举法\n",
    "先看一段代码："
   ]
  },
  {
   "cell_type": "code",
   "execution_count": null,
   "id": "280cdf53",
   "metadata": {},
   "outputs": [],
   "source": [
    "#寻找一个完美立方数的立方根\n",
    "x = int(input('Enter an integer'))\n",
    "ans = 0\n",
    "\n",
    "while ans**3 < abs(x):\n",
    "    ans = ans + 1\n",
    "    \n",
    "if ans**3 != abs(x):\n",
    "    print(x, 'is not a perfect cube')\n",
    "else:\n",
    "    if x < 0:\n",
    "        ans = -ans\n",
    "    print('Cube root of', x, 'is', ans)"
   ]
  },
  {
   "cell_type": "markdown",
   "id": "a916677a",
   "metadata": {},
   "source": [
    "哪些x值会使这个程序终止？\n",
    "\n",
    "答：所有整数。\n",
    "  - 表达式`ans**3`的值从0开始，每次迭代后变得更大。\n",
    "\n",
    "  - 当它超过abs(x)时，循环终止。\n",
    "\n",
    "  - 因为abs(x)是正的，所以在循环必须终止前只有有限次迭代。\n",
    "\n",
    "\n",
    "无论何时写循环，都应该考虑一个合适的递减函数，满足如下性质：\n",
    "- 将一组程序变量映射为一个整数；\n",
    "- 当进入循环时，它的值是非负的；\n",
    "- 当它的值小于等于0时，循环结束；\n",
    "- 每次迭代后，它的值递减；\n",
    "\n",
    "图3.1里的while循环的递减函数是什么？\n",
    "\n",
    "答：`abs(x)-ans**3`。\n",
    "\n",
    "现在，让我们插入一些错误，看看会发生什么。\n",
    "\n",
    "首先，试着注释掉语句`ans=0`。Python解释器会输出错误消息\n",
    "```\n",
    "NameError: name 'ans' is not defined\n",
    "```\n",
    "因为在被绑定到任何值以前，解释器试图去查找`ans`被绑定的值。\n",
    "\n",
    "现在，恢复`ans`的初始化，用`ans = ans`替换语句`ans=ans+1`，试着去找8的立方根。在你厌倦了等待后，键入\"control c\"。这将使你返回到shell上的用户提示符。\n",
    "\n",
    "现在，在循环的开始添加如下语句:\n",
    "```\n",
    "print('Value of the decrementing function abs(x) - ans**3 is', abs(x) - ans**3)\n",
    "```\n",
    "\n",
    "试着再次运行它。这一次，解释器会永远输出:\n",
    "```\n",
    "Value of the decrementing function abs(x) - ans**3 is 8\n",
    "```\n",
    "\n",
    "因为循环体不会减小`ans**3`跟`abs(x)`之间的差距。当面对一个似乎永远不会停止的程序时，有经验的程序员会插入`print`语句来测试递减函数的值是否在确实被递减。\n",
    "\n",
    "在这个程序里使用的算法技术是**穷举法**的变形。\n",
    "\n",
    "我们枚举所有的可能性，直到我们得到答案或者穷尽了空间的所有可能。\n",
    "\n",
    "初看，这是一种愚蠢的解决问题的方式。但是，穷举算法通常是实践中用的最多的解决问题的方式。它们很容易实现，很容易理解。而且，在大部分情况下，对所有实践目的来说，它运行的足够快。\n",
    "\n",
    "确保移除或者注释掉`print`语句，重新插入`ans=ans+1`，然后尝试求`1957816251`的立方根。程序几乎立刻完成。\n",
    "\n",
    "现在尝试`7406961012236344616`。如你所看到的，即使需要数百万唉猜测，也不是问题。\n",
    "\n",
    "现代计算机运行的很快。它花费纳秒级(一秒钟10亿次)的时间来运行。欣赏这有多快有点难。光走完1英尺花费的时间比1纳秒稍大一点。在声音传播100英尺的时间内，现代计算机可执行数百万条指令。"
   ]
  },
  {
   "cell_type": "markdown",
   "id": "5f9428ac",
   "metadata": {},
   "source": [
    "随堂测试：\n",
    "\n",
    "写一个程序，让用户输入一个整数，输出两个整数`root`、`pwr`，满足`0<pwr<6`，且`root**pwr`等于用户输入的整数。如果不存在这样的整数，它应该输出相应的消息。"
   ]
  },
  {
   "cell_type": "code",
   "execution_count": 4,
   "id": "39c29149",
   "metadata": {},
   "outputs": [
    {
     "name": "stdout",
     "output_type": "stream",
     "text": [
      "Enter an integer: 4\n",
      "2 2\n"
     ]
    }
   ],
   "source": [
    "#随堂测试\n",
    "n = int(input('Enter an integer: '))\n",
    "root = 0\n",
    "pwr = 0\n",
    "\n",
    "while (n > 0):\n",
    "    while (pwr < 6 and root**pwr != n):\n",
    "        #内层循环\n",
    "        pwr = pwr + 1\n",
    "    \n",
    "    #外层循环\n",
    "    if (root**pwr == n):\n",
    "        break\n",
    "    \n",
    "    pwr = 1\n",
    "    root = root + 1\n",
    "if (pwr == 0):\n",
    "    print('Such integers there no exists')\n",
    "else:\n",
    "    print(root, pwr)"
   ]
  },
  {
   "cell_type": "markdown",
   "id": "716c68e4",
   "metadata": {},
   "source": [
    "## 3.2 for循环\n",
    "\n",
    "到目前为止，我们使用的`while`循环都是高度程式化的。每个while循环都是对一个整数序列进行迭代。Python提供了一种语言机制，即for循环，可用于简化包含此类迭代的程序。\n",
    "\n",
    "for循环的通用格式如下：\n",
    "```\n",
    "for variable in sequence:\n",
    "    code block\n",
    "```\n",
    "\n",
    "解释：\n",
    "\n",
    "- 最初，跟在for后面的循环变量被绑定为序列中的第一个值，并执行代码块。\n",
    "\n",
    "- 然后，循环变量被绑定为序列的第二个值，再次执行代码块。\n",
    "\n",
    "- 这个过程一直持续到序列被耗尽，或者碰到代码块内的一个break语句。\n",
    "\n",
    "\n",
    "通常使用内置函数`range`来生成绑定给循环变量variable的值序列。\n",
    "\n",
    "range函数返回一个整数序列。\n",
    "- 它有3个整数参数：`start`, `stop`, `step`。\n",
    "- 它按照`start`、`start+step`、`start+2*step`等类似的方式依次生成序列。\n",
    "- 如果step是正的，那么最后一个元素就是小于stop的最大整数`start+i*step`。如果step是负的，那么最后一个元素就是大于stop的最小整数`start+i*step`。\n",
    "\n",
    "  比如，表达式`range(5,40,10)`产生的序列为5、15、25、35。表达式`range(40,5,-10)`产生的序列为40、30、20、10。\n",
    "- 如果第一个参数被省略，默认设置为0；如果最后一个参数被省略，默认设置为1；\n",
    "\n",
    "  比如，range(0,3)和range(3)产生的序列都是是0、1、2。\n",
    "- 过程中的数字是按需生成的，即使像range(1000000)也消耗很少的内存。我们将在第5.2节里深入讨论range函数。\n",
    "\n",
    "考虑如下代码："
   ]
  },
  {
   "cell_type": "code",
   "execution_count": 2,
   "id": "2d87bc3b",
   "metadata": {},
   "outputs": [
    {
     "name": "stdout",
     "output_type": "stream",
     "text": [
      "0\n",
      "1\n",
      "2\n",
      "3\n"
     ]
    }
   ],
   "source": [
    "x = 4\n",
    "for i in range(0,x):\n",
    "    print(i)"
   ]
  },
  {
   "cell_type": "markdown",
   "id": "b6728d3c",
   "metadata": {},
   "source": [
    "现在，考虑如下代码："
   ]
  },
  {
   "cell_type": "code",
   "execution_count": 3,
   "id": "c6fe44d2",
   "metadata": {},
   "outputs": [
    {
     "name": "stdout",
     "output_type": "stream",
     "text": [
      "0\n",
      "1\n",
      "2\n",
      "3\n"
     ]
    }
   ],
   "source": [
    "x = 4\n",
    "for i in range(0,x):\n",
    "    print(i)\n",
    "    x = 5"
   ]
  },
  {
   "cell_type": "markdown",
   "id": "a21ecb58",
   "metadata": {},
   "source": [
    "解释：这段代码提出了一个问题，即在循环内存对x值的修改是否会影响迭代的次数。答案是不会。因为对于for那行的range函数的参数的求值发生在循环的第一个迭代之前，在接下来的迭代中不会被重新求值。\n",
    "\n",
    "为了理解这如何进行的，考虑如下代码："
   ]
  },
  {
   "cell_type": "code",
   "execution_count": 4,
   "id": "32f0c52a",
   "metadata": {},
   "outputs": [
    {
     "name": "stdout",
     "output_type": "stream",
     "text": [
      "0\n",
      "1\n",
      "2\n",
      "3\n",
      "0\n",
      "1\n",
      "0\n",
      "1\n",
      "0\n",
      "1\n"
     ]
    }
   ],
   "source": [
    "x=4\n",
    "for j in range(x):\n",
    "    for i in range(x):\n",
    "        print(i)\n",
    "        x = 2"
   ]
  },
  {
   "cell_type": "markdown",
   "id": "b6300a33",
   "metadata": {},
   "source": [
    "解释：因为在外层的range函数只被求值一次，但是内部循环里的range函数每次到来时都被求值。\n",
    "\n",
    "如下是使用for循环重新实现的寻找立方根的穷举法："
   ]
  },
  {
   "cell_type": "code",
   "execution_count": 5,
   "id": "4367b560",
   "metadata": {},
   "outputs": [
    {
     "name": "stdout",
     "output_type": "stream",
     "text": [
      "Enter an integer: 8\n",
      "Cube root of 8 is 2\n"
     ]
    }
   ],
   "source": [
    "#寻找完美立方数的立方根\n",
    "x = int(input('Enter an integer: '))\n",
    "for ans in range(0, abs(x)+1):\n",
    "    if (ans**3 >= abs(x)) :\n",
    "        break\n",
    "\n",
    "if ans**3 != abs(x):\n",
    "    print(x, 'is not a perfect cube')\n",
    "else:\n",
    "    if x < 0:\n",
    "        ans = -ans\n",
    "    \n",
    "    print('Cube root of',x,'is', ans)"
   ]
  },
  {
   "cell_type": "markdown",
   "id": "7045035b",
   "metadata": {},
   "source": [
    "for语句和in运算符一起使用可以方便地对字符串中的字符遍历。比如："
   ]
  },
  {
   "cell_type": "code",
   "execution_count": 6,
   "id": "d9d0ec34",
   "metadata": {},
   "outputs": [
    {
     "name": "stdout",
     "output_type": "stream",
     "text": [
      "36\n"
     ]
    }
   ],
   "source": [
    "total = 0\n",
    "for c in '12345678':\n",
    "    total = total + int(c)\n",
    "\n",
    "print(total)"
   ]
  },
  {
   "cell_type": "markdown",
   "id": "212a39fa",
   "metadata": {},
   "source": [
    "随堂测试：假设s是一个包含用逗号`,`分隔的十进制小数。写一个程序输出在s中的数的和。"
   ]
  },
  {
   "cell_type": "code",
   "execution_count": 9,
   "id": "ea170f6f",
   "metadata": {},
   "outputs": [
    {
     "name": "stdout",
     "output_type": "stream",
     "text": [
      "6.753\n"
     ]
    }
   ],
   "source": [
    "s = '1.23,2.4,3.123'\n",
    "total = 0\n",
    "for num in s.split(','):\n",
    "    total = total + float(num)\n",
    "print(total)"
   ]
  },
  {
   "cell_type": "markdown",
   "id": "5b62580b",
   "metadata": {},
   "source": [
    "## 3.3 近似解和二分查找\n",
    "\n",
    "假设要写一个程序来寻找任何一个非负数的平方根，该怎么办？"
   ]
  },
  {
   "cell_type": "code",
   "execution_count": null,
   "id": "57010539",
   "metadata": {},
   "outputs": [],
   "source": []
  }
 ],
 "metadata": {
  "kernelspec": {
   "display_name": "Python 3 (ipykernel)",
   "language": "python",
   "name": "python3"
  },
  "language_info": {
   "codemirror_mode": {
    "name": "ipython",
    "version": 3
   },
   "file_extension": ".py",
   "mimetype": "text/x-python",
   "name": "python",
   "nbconvert_exporter": "python",
   "pygments_lexer": "ipython3",
   "version": "3.9.0"
  }
 },
 "nbformat": 4,
 "nbformat_minor": 5
}
