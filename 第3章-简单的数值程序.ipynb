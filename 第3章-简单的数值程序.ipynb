{
 "cells": [
  {
   "cell_type": "markdown",
   "id": "715824a3",
   "metadata": {},
   "source": [
    "现在，我们已介绍了Python的一些基本结构，到时候考虑如何组合这些结构来编写简单的程序。在这个过程中，我们会顺带介绍更多的语言结构和一些算法技术。\n",
    "\n",
    "## 3.1 穷举法\n",
    "先看一段代码："
   ]
  },
  {
   "cell_type": "code",
   "execution_count": null,
   "id": "280cdf53",
   "metadata": {},
   "outputs": [],
   "source": [
    "#寻找一个完美立方数的立方根\n",
    "x = int(input('Enter an integer'))\n",
    "ans = 0\n",
    "\n",
    "while ans**3 < abs(x):\n",
    "    ans = ans + 1\n",
    "    \n",
    "if ans**3 != abs(x):\n",
    "    print(x, 'is not a perfect cube')\n",
    "else:\n",
    "    if x < 0:\n",
    "        ans = -ans\n",
    "    print('Cube root of', x, 'is', ans)"
   ]
  },
  {
   "cell_type": "markdown",
   "id": "a916677a",
   "metadata": {},
   "source": [
    "哪些x值会使这个程序终止？\n",
    "\n",
    "答：所有整数。\n",
    "  - 表达式`ans**3`的值从0开始，每次迭代后变得更大。\n",
    "\n",
    "  - 当它超过abs(x)时，循环终止。\n",
    "\n",
    "  - 因为abs(x)是正的，所以在循环必须终止前只有有限次迭代。\n",
    "\n",
    "\n",
    "无论何时写循环，都应该考虑一个合适的递减函数，满足如下性质：\n",
    "- 将一组程序变量映射为一个整数；\n",
    "- 当进入循环时，它的值是非负的；\n",
    "- 当它的值小于等于0时，循环结束；\n",
    "- 每次迭代后，它的值递减；\n",
    "\n",
    "图3.1里的while循环的递减函数是什么？\n",
    "\n",
    "答：`abs(x)-ans**3`。\n",
    "\n",
    "现在，让我们插入一些错误，看看会发生什么。\n",
    "\n",
    "首先，试着注释掉语句`ans=0`。Python解释器会输出错误消息\n",
    "```\n",
    "NameError: name 'ans' is not defined\n",
    "```\n",
    "因为在被绑定到任何值以前，解释器试图去查找`ans`被绑定的值。\n",
    "\n",
    "现在，恢复`ans`的初始化，用`ans = ans`替换语句`ans=ans+1`，试着去找8的立方根。在你厌倦了等待后，键入\"control c\"。这将使你返回到shell上的用户提示符。\n",
    "\n",
    "现在，在循环的开始添加如下语句:\n",
    "```\n",
    "print('Value of the decrementing function abs(x) - ans**3 is', abs(x) - ans**3)\n",
    "```\n",
    "\n",
    "试着再次运行它。这一次，解释器会永远输出:\n",
    "```\n",
    "Value of the decrementing function abs(x) - ans**3 is 8\n",
    "```\n",
    "\n",
    "因为循环体不会减小`ans**3`跟`abs(x)`之间的差距。当面对一个似乎永远不会停止的程序时，有经验的程序员会插入`print`语句来测试递减函数的值是否在确实被递减。\n",
    "\n",
    "在这个程序里使用的算法技术是**穷举法**的变形。\n",
    "\n",
    "我们枚举所有的可能性，直到我们得到答案或者穷尽了空间的所有可能。\n",
    "\n",
    "初看，这是一种愚蠢的解决问题的方式。但是，穷举算法通常是实践中用的最多的解决问题的方式。它们很容易实现，很容易理解。而且，在大部分情况下，对所有实践目的来说，它运行的足够快。\n",
    "\n",
    "确保移除或者注释掉`print`语句，重新插入`ans=ans+1`，然后尝试求`1957816251`的立方根。程序几乎立刻完成。\n",
    "\n",
    "现在尝试`7406961012236344616`。如你所看到的，即使需要数百万唉猜测，也不是问题。\n",
    "\n",
    "现代计算机运行的很快。它花费纳秒级(一秒钟10亿次)的时间来运行。欣赏这有多快有点难。光走完1英尺花费的时间比1纳秒稍大一点。在声音传播100英尺的时间内，现代计算机可执行数百万条指令。"
   ]
  },
  {
   "cell_type": "markdown",
   "id": "5f9428ac",
   "metadata": {},
   "source": [
    "随堂测试：\n",
    "\n",
    "写一个程序，让用户输入一个整数，输出两个整数`root`、`pwr`，满足`0<pwr<6`，且`root**pwr`等于用户输入的整数。如果不存在这样的整数，它应该输出相应的消息。"
   ]
  },
  {
   "cell_type": "code",
   "execution_count": 4,
   "id": "39c29149",
   "metadata": {},
   "outputs": [
    {
     "name": "stdout",
     "output_type": "stream",
     "text": [
      "Enter an integer: 4\n",
      "2 2\n"
     ]
    }
   ],
   "source": [
    "#随堂测试\n",
    "n = int(input('Enter an integer: '))\n",
    "root = 0\n",
    "pwr = 0\n",
    "\n",
    "while (n > 0):\n",
    "    while (pwr < 6 and root**pwr != n):\n",
    "        #内层循环\n",
    "        pwr = pwr + 1\n",
    "    \n",
    "    #外层循环\n",
    "    if (root**pwr == n):\n",
    "        break\n",
    "    \n",
    "    pwr = 1\n",
    "    root = root + 1\n",
    "if (pwr == 0):\n",
    "    print('Such integers there no exists')\n",
    "else:\n",
    "    print(root, pwr)"
   ]
  },
  {
   "cell_type": "markdown",
   "id": "716c68e4",
   "metadata": {},
   "source": [
    "## 3.2 for循环\n",
    "\n",
    "到目前为止，我们使用的`while`循环都是高度程式化的。每个while循环都是对一个整数序列进行迭代。Python提供了一种语言机制，即for循环，可用于简化包含此类迭代的程序。\n",
    "\n",
    "for循环的通用格式如下：\n",
    "```\n",
    "for variable in sequence:\n",
    "    code block\n",
    "```\n",
    "\n",
    "解释：\n",
    "\n",
    "- 最初，跟在for后面的循环变量被绑定为序列中的第一个值，并执行代码块。\n",
    "\n",
    "- 然后，循环变量被绑定为序列的第二个值，再次执行代码块。\n",
    "\n",
    "- 这个过程一直持续到序列被耗尽，或者碰到代码块内的一个break语句。\n",
    "\n",
    "\n",
    "通常使用内置函数`range`来生成绑定给循环变量variable的值序列。\n",
    "\n",
    "range函数返回一个整数序列。\n",
    "- 它有3个整数参数：`start`, `stop`, `step`。\n",
    "- 它按照`start`、`start+step`、`start+2*step`等类似的方式依次生成序列。\n",
    "- 如果step是正的，那么最后一个元素就是小于stop的最大整数`start+i*step`。如果step是负的，那么最后一个元素就是大于stop的最小整数`start+i*step`。\n",
    "\n",
    "  比如，表达式`range(5,40,10)`产生的序列为5、15、25、35。表达式`range(40,5,-10)`产生的序列为40、30、20、10。\n",
    "- 如果第一个参数被省略，默认设置为0；如果最后一个参数被省略，默认设置为1；\n",
    "\n",
    "  比如，range(0,3)和range(3)产生的序列都是是0、1、2。\n",
    "- 过程中的数字是按需生成的，即使像range(1000000)也消耗很少的内存。我们将在第5.2节里深入讨论range函数。\n",
    "\n",
    "考虑如下代码："
   ]
  },
  {
   "cell_type": "code",
   "execution_count": 2,
   "id": "2d87bc3b",
   "metadata": {},
   "outputs": [
    {
     "name": "stdout",
     "output_type": "stream",
     "text": [
      "0\n",
      "1\n",
      "2\n",
      "3\n"
     ]
    }
   ],
   "source": [
    "x = 4\n",
    "for i in range(0,x):\n",
    "    print(i)"
   ]
  },
  {
   "cell_type": "markdown",
   "id": "b6728d3c",
   "metadata": {},
   "source": [
    "现在，考虑如下代码："
   ]
  },
  {
   "cell_type": "code",
   "execution_count": 3,
   "id": "c6fe44d2",
   "metadata": {},
   "outputs": [
    {
     "name": "stdout",
     "output_type": "stream",
     "text": [
      "0\n",
      "1\n",
      "2\n",
      "3\n"
     ]
    }
   ],
   "source": [
    "x = 4\n",
    "for i in range(0,x):\n",
    "    print(i)\n",
    "    x = 5"
   ]
  },
  {
   "cell_type": "markdown",
   "id": "a21ecb58",
   "metadata": {},
   "source": [
    "解释：这段代码提出了一个问题，即在循环内存对x值的修改是否会影响迭代的次数。答案是不会。因为对于for那行的range函数的参数的求值发生在循环的第一个迭代之前，在接下来的迭代中不会被重新求值。\n",
    "\n",
    "为了理解这如何进行的，考虑如下代码："
   ]
  },
  {
   "cell_type": "code",
   "execution_count": 4,
   "id": "32f0c52a",
   "metadata": {},
   "outputs": [
    {
     "name": "stdout",
     "output_type": "stream",
     "text": [
      "0\n",
      "1\n",
      "2\n",
      "3\n",
      "0\n",
      "1\n",
      "0\n",
      "1\n",
      "0\n",
      "1\n"
     ]
    }
   ],
   "source": [
    "x=4\n",
    "for j in range(x):\n",
    "    for i in range(x):\n",
    "        print(i)\n",
    "        x = 2"
   ]
  },
  {
   "cell_type": "markdown",
   "id": "b6300a33",
   "metadata": {},
   "source": [
    "解释：因为在外层的range函数只被求值一次，但是内部循环里的range函数每次到来时都被求值。\n",
    "\n",
    "如下是使用for循环重新实现的寻找立方根的穷举法："
   ]
  },
  {
   "cell_type": "code",
   "execution_count": 5,
   "id": "4367b560",
   "metadata": {},
   "outputs": [
    {
     "name": "stdout",
     "output_type": "stream",
     "text": [
      "Enter an integer: 8\n",
      "Cube root of 8 is 2\n"
     ]
    }
   ],
   "source": [
    "#寻找完美立方数的立方根\n",
    "x = int(input('Enter an integer: '))\n",
    "for ans in range(0, abs(x)+1):\n",
    "    if (ans**3 >= abs(x)) :\n",
    "        break\n",
    "\n",
    "if ans**3 != abs(x):\n",
    "    print(x, 'is not a perfect cube')\n",
    "else:\n",
    "    if x < 0:\n",
    "        ans = -ans\n",
    "    \n",
    "    print('Cube root of',x,'is', ans)"
   ]
  },
  {
   "cell_type": "markdown",
   "id": "7045035b",
   "metadata": {},
   "source": [
    "for语句和in运算符一起使用可以方便地对字符串中的字符遍历。比如："
   ]
  },
  {
   "cell_type": "code",
   "execution_count": 6,
   "id": "d9d0ec34",
   "metadata": {},
   "outputs": [
    {
     "name": "stdout",
     "output_type": "stream",
     "text": [
      "36\n"
     ]
    }
   ],
   "source": [
    "total = 0\n",
    "for c in '12345678':\n",
    "    total = total + int(c)\n",
    "\n",
    "print(total)"
   ]
  },
  {
   "cell_type": "markdown",
   "id": "212a39fa",
   "metadata": {},
   "source": [
    "随堂测试：假设s是一个包含用逗号`,`分隔的十进制小数。写一个程序输出在s中的数的和。"
   ]
  },
  {
   "cell_type": "code",
   "execution_count": 9,
   "id": "ea170f6f",
   "metadata": {},
   "outputs": [
    {
     "name": "stdout",
     "output_type": "stream",
     "text": [
      "6.753\n"
     ]
    }
   ],
   "source": [
    "s = '1.23,2.4,3.123'\n",
    "total = 0\n",
    "for num in s.split(','):\n",
    "    total = total + float(num)\n",
    "print(total)"
   ]
  },
  {
   "cell_type": "markdown",
   "id": "5b62580b",
   "metadata": {},
   "source": [
    "## 3.3 近似解和二分查找\n",
    "\n",
    "假设要写一个程序来寻找任何一个非负数的平方根，该怎么办？\n",
    "\n",
    "你应该从说“你需要一个更好的问题语句”开始。比如，如果寻找的是2的平方根，则程序应该做什么？2的平方根不是一个有理数。意味着不存在精确地将值表示为一个有限的数字字符串的方式，因此最开始描述的问题是不能被求解的。\n",
    "\n",
    "正确的问题描述为写一个寻找平方根近似值的程序，即与真实的平方根足够接近的答案是有用的。这里的足够接近指的是一个在真实答案的某个常数范围内的答案。\n",
    "\n",
    "图3.3展示了一个程序实现了寻找平方根近似值的算法："
   ]
  },
  {
   "cell_type": "code",
   "execution_count": 2,
   "id": "800429b9",
   "metadata": {},
   "outputs": [
    {
     "name": "stdout",
     "output_type": "stream",
     "text": [
      "numGuesses = 49990\n",
      "4.999000000001688 is close to square root of 25\n"
     ]
    }
   ],
   "source": [
    "x = 25\n",
    "epsilon = 0.01\n",
    "step = epsilon**2\n",
    "numGuesses = 0\n",
    "ans = 0.0\n",
    "\n",
    "while abs(ans**2 - x) >= epsilon and ans <= x:\n",
    "    ans += step\n",
    "    numGuesses += 1\n",
    "    \n",
    "print('numGuesses =', numGuesses)\n",
    "\n",
    "if abs(ans**2 - x) >= epsilon:\n",
    "    print('Failed on square root of', x)\n",
    "else:\n",
    "    print(ans, 'is close to square root of', x)"
   ]
  },
  {
   "cell_type": "markdown",
   "id": "f3b1b5c6",
   "metadata": {},
   "source": [
    "我们再次使用了穷举法。\n",
    "\n",
    "注意：\n",
    "\n",
    "- 这种寻找平方根的方法跟我们手动计算平方根的方法没有一点共同之处。\n",
    "- 通常，用计算机来求解问题的最好方式是非常不同于手动求解问题的方式的。\n",
    "\n",
    "当程序没有指出25是一个完美平方数，且输出5时，我们应该感到失望吗？\n",
    "\n",
    "不。这个程序做了它打算做的事。虽然输出5是OK的，但是这样做不会比输出任何跟5足够接近的值更好。\n",
    "\n",
    "如果我们设置`x=0.25`，则会发生什么？"
   ]
  },
  {
   "cell_type": "code",
   "execution_count": 3,
   "id": "00ec3144",
   "metadata": {},
   "outputs": [
    {
     "name": "stdout",
     "output_type": "stream",
     "text": [
      "numGuesses = 2501\n",
      "Failed on square root of 0.25\n"
     ]
    }
   ],
   "source": [
    "x = 0.25\n",
    "epsilon = 0.01\n",
    "step = epsilon**2\n",
    "numGuesses = 0\n",
    "ans = 0.0\n",
    "\n",
    "while abs(ans**2 - x) >= epsilon and ans <= x:\n",
    "    ans += step\n",
    "    numGuesses += 1\n",
    "    \n",
    "print('numGuesses =', numGuesses)\n",
    "\n",
    "if abs(ans**2 - x) >= epsilon:\n",
    "    print('Failed on square root of', x)\n",
    "else:\n",
    "    print(ans, 'is close to square root of', x)"
   ]
  },
  {
   "cell_type": "markdown",
   "id": "16857a76",
   "metadata": {},
   "source": [
    "解释：穷举法是一种搜索技术，仅当被搜索的值的集合里包含了答案才有效。在这个代码里，我们枚举的是0到x之间的值。当x在0和1之间时，平方根不在这个区间内。一种修复方法是修改在while循环第一行里and的第二个操作数为：\n",
    "```\n",
    "while abs(ans**2 - x) >= epsilon and ans*ans <= x:\n",
    "```"
   ]
  },
  {
   "cell_type": "code",
   "execution_count": 4,
   "id": "16a75052",
   "metadata": {},
   "outputs": [
    {
     "name": "stdout",
     "output_type": "stream",
     "text": [
      "numGuesses = 4899\n",
      "0.48989999999996237 is close to square root of 0.25\n"
     ]
    }
   ],
   "source": [
    "x = 0.25\n",
    "epsilon = 0.01\n",
    "step = epsilon**2\n",
    "numGuesses = 0\n",
    "ans = 0.0\n",
    "\n",
    "while abs(ans**2 - x) >= epsilon and ans*ans <= x:\n",
    "    ans += step\n",
    "    numGuesses += 1\n",
    "    \n",
    "print('numGuesses =', numGuesses)\n",
    "\n",
    "if abs(ans**2 - x) >= epsilon:\n",
    "    print('Failed on square root of', x)\n",
    "else:\n",
    "    print(ans, 'is close to square root of', x)"
   ]
  },
  {
   "cell_type": "markdown",
   "id": "5fb7684d",
   "metadata": {},
   "source": [
    "\n",
    "现在考虑这个程序的运行时间：\n",
    "\n",
    "- 迭代的次数取决于答案跟0的接近程度以及步长的大小。粗略地估计，这个程序将执行while循环最多`x/step`次。\n",
    "\n",
    "\n",
    "试下更大的数，比如`x=123456`:"
   ]
  },
  {
   "cell_type": "code",
   "execution_count": 2,
   "id": "8770a351",
   "metadata": {},
   "outputs": [
    {
     "name": "stdout",
     "output_type": "stream",
     "text": [
      "numGuesses = 3513631\n",
      "Failed on square root of 123456\n"
     ]
    }
   ],
   "source": [
    "x = 123456\n",
    "epsilon = 0.01\n",
    "step = epsilon**2\n",
    "numGuesses = 0\n",
    "ans = 0.0\n",
    "\n",
    "while abs(ans**2 - x) >= epsilon and ans*ans <= x:\n",
    "    ans += step\n",
    "    numGuesses += 1\n",
    "    \n",
    "print('numGuesses =', numGuesses)\n",
    "\n",
    "if abs(ans**2 - x) >= epsilon:\n",
    "    print('Failed on square root of', x)\n",
    "else:\n",
    "    print(ans, 'is close to square root of', x)"
   ]
  },
  {
   "cell_type": "markdown",
   "id": "2a241271",
   "metadata": {},
   "source": [
    "你觉得发生了什么？\n",
    "\n",
    "肯定存在一个浮点数以0.01的误差逼近123456的平方根。\n",
    "\n",
    "为什么找不到呢？\n",
    "\n",
    "问题是我们的步长设置的太大了，程序跳过了所有合适的答案。试着把步长`step`设置为`epsilon**3`，运行程序。最终你会找到答案，但是你得有耐心等待。"
   ]
  },
  {
   "cell_type": "code",
   "execution_count": 4,
   "id": "0ffcbe2e",
   "metadata": {},
   "outputs": [
    {
     "ename": "KeyboardInterrupt",
     "evalue": "",
     "output_type": "error",
     "traceback": [
      "\u001b[0;31m---------------------------------------------------------------------------\u001b[0m",
      "\u001b[0;31mKeyboardInterrupt\u001b[0m                         Traceback (most recent call last)",
      "\u001b[0;32m/var/folders/ys/_mwzpxjn5mnbrrw71f2phd5h0000gn/T/ipykernel_915/4151762800.py\u001b[0m in \u001b[0;36m<module>\u001b[0;34m\u001b[0m\n\u001b[1;32m      5\u001b[0m \u001b[0mans\u001b[0m \u001b[0;34m=\u001b[0m \u001b[0;36m0.0\u001b[0m\u001b[0;34m\u001b[0m\u001b[0;34m\u001b[0m\u001b[0m\n\u001b[1;32m      6\u001b[0m \u001b[0;34m\u001b[0m\u001b[0m\n\u001b[0;32m----> 7\u001b[0;31m \u001b[0;32mwhile\u001b[0m \u001b[0mabs\u001b[0m\u001b[0;34m(\u001b[0m\u001b[0mans\u001b[0m\u001b[0;34m**\u001b[0m\u001b[0;36m2\u001b[0m \u001b[0;34m-\u001b[0m \u001b[0mx\u001b[0m\u001b[0;34m)\u001b[0m \u001b[0;34m>=\u001b[0m \u001b[0mepsilon\u001b[0m \u001b[0;32mand\u001b[0m \u001b[0mans\u001b[0m\u001b[0;34m*\u001b[0m\u001b[0mans\u001b[0m \u001b[0;34m<=\u001b[0m \u001b[0mx\u001b[0m\u001b[0;34m:\u001b[0m\u001b[0;34m\u001b[0m\u001b[0;34m\u001b[0m\u001b[0m\n\u001b[0m\u001b[1;32m      8\u001b[0m     \u001b[0mans\u001b[0m \u001b[0;34m+=\u001b[0m \u001b[0mstep\u001b[0m\u001b[0;34m\u001b[0m\u001b[0;34m\u001b[0m\u001b[0m\n\u001b[1;32m      9\u001b[0m     \u001b[0mnumGuesses\u001b[0m \u001b[0;34m+=\u001b[0m \u001b[0;36m1\u001b[0m\u001b[0;34m\u001b[0m\u001b[0;34m\u001b[0m\u001b[0m\n",
      "\u001b[0;31mKeyboardInterrupt\u001b[0m: "
     ]
    }
   ],
   "source": [
    "x = 123456\n",
    "epsilon = 0.01\n",
    "step = epsilon**3\n",
    "numGuesses = 0\n",
    "ans = 0.0\n",
    "\n",
    "while abs(ans**2 - x) >= epsilon and ans*ans <= x:\n",
    "    ans += step\n",
    "    numGuesses += 1\n",
    "    \n",
    "print('numGuesses =', numGuesses)\n",
    "\n",
    "if abs(ans**2 - x) >= epsilon:\n",
    "    print('Failed on square root of', x)\n",
    "else:\n",
    "    print(ans, 'is close to square root of', x)"
   ]
  },
  {
   "cell_type": "markdown",
   "id": "e9a8c3e8",
   "metadata": {},
   "source": [
    "它大概需要多少次猜测？\n",
    "\n",
    "步长大小为0.000001，123456的平方根大约是351.36。这意味着你大约需要351000000次猜测来找到一个合适的答案。我们可以通过从一个靠近答案的值开始，但是那就得假设我们知道答案。\n",
    "\n",
    "到需要寻找不同的方法来求解问题的时候了。我们需要选择一个更好的算法，而不是在当前版本上调优。\n",
    "\n",
    "在做之前，我们先看一个是跟寻找平方根完全不同的问题。\n",
    "\n",
    "考虑这样一个问题：以给定字母序列开头的单词是否出现在某本英语字典的精装版本里？\n",
    "\n",
    "从理论上讲，穷举法能生效。你可以从第一个单词开始，检查每个单词直到你找到一个以目标字母序列开头的单词或者耗尽了所有单词。如果字典包含了n个单词，则平均需要花费n/2次探测才能找到目标单词。如果单词不在字典中，则需要花费n次探测。当然，真实的字典查找不是这样的。\n",
    "\n",
    "幸运的是，出版纸质词典的人会麻烦地把单词按字典顺序排列。这样，我们就可以把书打开到我们认为这个单词可能在的那一页(例如，以字母m开头的单词位于靠近中间的那一页)。如果按字典顺序排列的字母顺序在这一页上的第一个单词之前，我们就知道要往前读。如果字母的顺序是在这一页的最后一个单词之后，我们就知道要往后读了。否则，我们检查字母序列是否与页面上的单词匹配。\n",
    "\n",
    "现在，让我们应用同样的方法来求x的平方根。假设我们知道x的一个好的平方根近似坐落在0和max之间。我们利用数字是全序的事实：对任何一对不同的数$n_1$和$n_2$，要么有$n_1<n_2$，要么有$n_1>n_2$。\n",
    "\n",
    "所以，我们可以想x的平方根落在一条直线上的某处：\n",
    "```\n",
    "0_________________________________________________________max\n",
    "```\n",
    "，从这个区间开始搜索。因为我们不知道从哪里开始搜搜，所以让我们从中间开始。\n",
    "```\n",
    "0__________________________guess__________________________max\n",
    "```\n",
    "\n",
    "如果中间的值不是合适的答案，则看它是太大还是太小。如果太大，则答案落在左边。如果太小了，则答案落在右边。然后对更小的区间重复前面步骤。\n",
    "\n",
    "如下实现了这种算法："
   ]
  },
  {
   "cell_type": "code",
   "execution_count": 7,
   "id": "1432c94f",
   "metadata": {},
   "outputs": [
    {
     "name": "stdout",
     "output_type": "stream",
     "text": [
      "low = 0.0 high = 25 ans = 12.5\n",
      "low = 0.0 high = 12.5 ans = 6.25\n",
      "low = 0.0 high = 6.25 ans = 3.125\n",
      "low = 3.125 high = 6.25 ans = 4.6875\n",
      "low = 4.6875 high = 6.25 ans = 5.46875\n",
      "low = 4.6875 high = 5.46875 ans = 5.078125\n",
      "low = 4.6875 high = 5.078125 ans = 4.8828125\n",
      "low = 4.8828125 high = 5.078125 ans = 4.98046875\n",
      "low = 4.98046875 high = 5.078125 ans = 5.029296875\n",
      "low = 4.98046875 high = 5.029296875 ans = 5.0048828125\n",
      "low = 4.98046875 high = 5.0048828125 ans = 4.99267578125\n",
      "low = 4.99267578125 high = 5.0048828125 ans = 4.998779296875\n",
      "low = 4.998779296875 high = 5.0048828125 ans = 5.0018310546875\n",
      "numGuesses = 13\n",
      "5.00030517578125 is close to square root of 25\n"
     ]
    }
   ],
   "source": [
    "x = 25\n",
    "epsilon = 0.01\n",
    "numGuesses = 0\n",
    "low = 0.0\n",
    "high = max(1.0, x)\n",
    "ans = (low + high)/2.0\n",
    "\n",
    "while abs(ans**2 -x)>= epsilon:\n",
    "    print('low =', low, 'high =', high, 'ans =', ans)\n",
    "    numGuesses += 1\n",
    "    if ans**2 < x:\n",
    "        low = ans\n",
    "    else:\n",
    "        high = ans\n",
    "    ans = (low + high)/2.0\n",
    "    \n",
    "print('numGuesses =', numGuesses)\n",
    "print(ans,'is close to square root of', x)"
   ]
  },
  {
   "cell_type": "code",
   "execution_count": 8,
   "id": "e7ee01bc",
   "metadata": {},
   "outputs": [
    {
     "name": "stdout",
     "output_type": "stream",
     "text": [
      "numGuesses = 0\n",
      "0.5 is close to square root of 0.25\n"
     ]
    }
   ],
   "source": [
    "x = 0.25\n",
    "epsilon = 0.01\n",
    "numGuesses = 0\n",
    "low = 0.0\n",
    "high = max(1.0, x)\n",
    "ans = (low + high)/2.0\n",
    "\n",
    "while abs(ans**2 -x)>= epsilon:\n",
    "    print('low =', low, 'high =', high, 'ans =', ans)\n",
    "    numGuesses += 1\n",
    "    if ans**2 < x:\n",
    "        low = ans\n",
    "    else:\n",
    "        high = ans\n",
    "    ans = (low + high)/2.0\n",
    "    \n",
    "print('numGuesses =', numGuesses)\n",
    "print(ans,'is close to square root of', x)"
   ]
  },
  {
   "cell_type": "code",
   "execution_count": 9,
   "id": "1d3f5cbc",
   "metadata": {},
   "outputs": [
    {
     "name": "stdout",
     "output_type": "stream",
     "text": [
      "low = 0.0 high = 123456 ans = 61728.0\n",
      "low = 0.0 high = 61728.0 ans = 30864.0\n",
      "low = 0.0 high = 30864.0 ans = 15432.0\n",
      "low = 0.0 high = 15432.0 ans = 7716.0\n",
      "low = 0.0 high = 7716.0 ans = 3858.0\n",
      "low = 0.0 high = 3858.0 ans = 1929.0\n",
      "low = 0.0 high = 1929.0 ans = 964.5\n",
      "low = 0.0 high = 964.5 ans = 482.25\n",
      "low = 0.0 high = 482.25 ans = 241.125\n",
      "low = 241.125 high = 482.25 ans = 361.6875\n",
      "low = 241.125 high = 361.6875 ans = 301.40625\n",
      "low = 301.40625 high = 361.6875 ans = 331.546875\n",
      "low = 331.546875 high = 361.6875 ans = 346.6171875\n",
      "low = 346.6171875 high = 361.6875 ans = 354.15234375\n",
      "low = 346.6171875 high = 354.15234375 ans = 350.384765625\n",
      "low = 350.384765625 high = 354.15234375 ans = 352.2685546875\n",
      "low = 350.384765625 high = 352.2685546875 ans = 351.32666015625\n",
      "low = 351.32666015625 high = 352.2685546875 ans = 351.797607421875\n",
      "low = 351.32666015625 high = 351.797607421875 ans = 351.5621337890625\n",
      "low = 351.32666015625 high = 351.5621337890625 ans = 351.44439697265625\n",
      "low = 351.32666015625 high = 351.44439697265625 ans = 351.3855285644531\n",
      "low = 351.32666015625 high = 351.3855285644531 ans = 351.35609436035156\n",
      "low = 351.35609436035156 high = 351.3855285644531 ans = 351.37081146240234\n",
      "low = 351.35609436035156 high = 351.37081146240234 ans = 351.36345291137695\n",
      "low = 351.35609436035156 high = 351.36345291137695 ans = 351.35977363586426\n",
      "low = 351.35977363586426 high = 351.36345291137695 ans = 351.3616132736206\n",
      "low = 351.3616132736206 high = 351.36345291137695 ans = 351.3625330924988\n",
      "low = 351.3625330924988 high = 351.36345291137695 ans = 351.36299300193787\n",
      "low = 351.36299300193787 high = 351.36345291137695 ans = 351.3632229566574\n",
      "low = 351.36299300193787 high = 351.3632229566574 ans = 351.36310797929764\n",
      "numGuesses = 30\n",
      "351.36305049061775 is close to square root of 123456\n"
     ]
    }
   ],
   "source": [
    "x = 123456\n",
    "epsilon = 0.01\n",
    "numGuesses = 0\n",
    "low = 0.0\n",
    "high = max(1.0, x)\n",
    "ans = (low + high)/2.0\n",
    "\n",
    "while x>= 0 and abs(ans**2 -x)>= epsilon:\n",
    "    print('low =', low, 'high =', high, 'ans =', ans)\n",
    "    numGuesses += 1\n",
    "    if ans**2 < x:\n",
    "        low = ans\n",
    "    else:\n",
    "        high = ans\n",
    "    ans = (low + high)/2.0\n",
    "    \n",
    "print('numGuesses =', numGuesses)\n",
    "print(ans,'is close to square root of', x)"
   ]
  },
  {
   "cell_type": "markdown",
   "id": "75d09d7f",
   "metadata": {},
   "source": [
    "注意：\n",
    "\n",
    "- 这个新的算法找到了一个跟更早些的算法不同的值。因为它依然满足问题的描述，所以它是有效的。\n",
    "\n",
    "- 每次循环，待搜索的空间就被减小了一半。\n",
    "\n",
    "  因为每一步它都将搜索空间一分为二，所以被称为二分搜索。\n",
    "  \n",
    "  跟更早写的算法相比，二分搜索是一个巨大的改进，每次迭代都将搜索空间减小了一定数量。\n",
    "  \n",
    "  \n",
    "在第4章中，我们将介绍一种语言机制(**函数**)来推广该代码来求解任意数的平方根。\n"
   ]
  },
  {
   "cell_type": "markdown",
   "id": "c2dfbf42",
   "metadata": {},
   "source": [
    "随堂练习：在图3.4的代码中，将x=25换成x=-25会发生什么？\n",
    "答：程序永不会停止。"
   ]
  },
  {
   "cell_type": "markdown",
   "id": "c89c6512",
   "metadata": {},
   "source": [
    "随堂练习：修改图3.4的代码来求负数和整数的立方根。"
   ]
  },
  {
   "cell_type": "code",
   "execution_count": 18,
   "id": "9c095c74",
   "metadata": {},
   "outputs": [
    {
     "name": "stdout",
     "output_type": "stream",
     "text": [
      "low = -27 high = 0.0 ans = -13.5\n",
      "low = -13.5 high = 0.0 ans = -6.75\n",
      "low = -6.75 high = 0.0 ans = -3.375\n",
      "low = -3.375 high = 0.0 ans = -1.6875\n",
      "low = -3.375 high = -1.6875 ans = -2.53125\n",
      "low = -3.375 high = -2.53125 ans = -2.953125\n",
      "low = -3.375 high = -2.953125 ans = -3.1640625\n",
      "low = -3.1640625 high = -2.953125 ans = -3.05859375\n",
      "low = -3.05859375 high = -2.953125 ans = -3.005859375\n",
      "low = -3.005859375 high = -2.953125 ans = -2.9794921875\n",
      "low = -3.005859375 high = -2.9794921875 ans = -2.99267578125\n",
      "low = -3.005859375 high = -2.99267578125 ans = -2.999267578125\n",
      "low = -3.005859375 high = -2.999267578125 ans = -3.0025634765625\n",
      "low = -3.0025634765625 high = -2.999267578125 ans = -3.00091552734375\n",
      "numGuesses = 14\n",
      "-3.000091552734375 is close to cube root of -27\n"
     ]
    }
   ],
   "source": [
    "#x=8\n",
    "x = -27\n",
    "epsilon = 0.01\n",
    "numGuesses = 0\n",
    "low = 0.0\n",
    "high = max(1.0, x)\n",
    "if x < 0:\n",
    "    high = min(x, -1)\n",
    "    low, high = high, low\n",
    "\n",
    "ans = (low + high)/2.0\n",
    "\n",
    "while abs(ans**3 -x)>= epsilon:\n",
    "    print('low =', low, 'high =', high, 'ans =', ans)\n",
    "    numGuesses += 1\n",
    "    if ans**3 < x:\n",
    "        low = ans\n",
    "    else:\n",
    "        high = ans\n",
    "    ans = (low + high)/2.0\n",
    "    \n",
    "print('numGuesses =', numGuesses)\n",
    "print(ans,'is close to cube root of', x)"
   ]
  },
  {
   "cell_type": "markdown",
   "id": "ded063a3",
   "metadata": {},
   "source": [
    "## 3.4 使用float的注意事项\n",
    "\n",
    "大部分时候，float类型数提供了对实数的合理近似。但是，大部分时候意味着并不总是。存在少部分情况，使用float类型数会导致令人吃惊的结果。比如，尝试运行如下代码："
   ]
  },
  {
   "cell_type": "code",
   "execution_count": 1,
   "id": "cdbd2b95",
   "metadata": {},
   "outputs": [
    {
     "name": "stdout",
     "output_type": "stream",
     "text": [
      "0.9999999999999999 is not 1.0\n"
     ]
    }
   ],
   "source": [
    "x = 0.0\n",
    "for i in range(10):\n",
    "    x = x + 0.1\n",
    "if x == 1.0:\n",
    "    print(x, '= 1.0')\n",
    "else:\n",
    "    print(x, 'is not 1.0')"
   ]
  },
  {
   "cell_type": "markdown",
   "id": "436fbf33",
   "metadata": {},
   "source": [
    "问题：为什么它会走进else子句里？\n",
    "\n",
    "要理解为什么会这样，我们需要理解在计算过程中浮点数在计算机中是如何表示的。\n",
    "\n",
    "为了理解这一点，我们需要理解**二进制数**。\n",
    "\n",
    "当你学习十进制数时，你学习到：任何一个十进制数可表示为由数字`0123456789`组成的一个序列。最右边的数字是$10^0$位，朝左的下一位是$10^1$位，以此类推。比如，十进制数字序列`302`表示`3*100+0*10+2*1`。\n",
    "\n",
    "问题：长度为n的十进制序列可表示多少个不同的数？\n",
    "\n",
    "答：$10^n$\n",
    "\n",
    "二进制数的工作机制类似。一个二进制数是由0或1组成的数字序列。这些数字被称为位。最右边的数字是$2^0$位，朝左的下一个位是$2^1$，以此类推。比如二进制位序列`101`表示`1*4+0*2+1*1=5`。\n",
    "\n",
    "问题：长度为n的二进制位序列可表示多少个不同的数？\n",
    "\n",
    "答：$2^n$\n",
    "\n",
    "随堂练习：二进制数`10011`的等价十进制数什么？\n",
    "\n",
    "答：`1*16+0*8+0*4+1*2+1*1=19`\n",
    "\n",
    "可能因为大部分人都有10个手指，我们似乎喜欢使用十进制来表示数字。另一方面，所有的现代计算机系统都用二进制表示数。这不是因为计算机天生就有2个手指，而是因为比较容易构建只有两个状态(开或关)的硬件开关。\n",
    "\n",
    "计算机使用二进制表示，人使用十进制表示，这导致了偶现的认知差异。\n",
    "\n",
    "几乎在所有的编程语言里，非整数数字都使用**浮点数**表示来实现。现在，我们假设内部表示使用十进制。我们将一个数表示为一对整数，即一个**有效数字**和一个**指数**。比如，数$1.949$可表示为对$(1949,-3)$，表示乘积$1949*10^{-3}$。\n",
    "\n",
    "有效数字的个数决定了数字表示的**精度**。比如，如果我们仅有两位有效数字，数$1.949$就不能被精确地表示。它将被转换为$1.949$的某个近似，这里是$1.9$。这种近似值被称为四舍五入值。\n",
    "\n",
    "现代计算机使用二进制表示。我们将有效数字和指数表示为二进制，指数的底为2。比如，数$0.625(5/8)$表示为对$(101,-11)$。因为$5/8$等价的二进制表示为$0.101$，$-11$是$-3$的二进制表示，$(101,-11)$表示$5*2^{-3}=5/8=0.625$。\n",
    "> 假设$0.625=a_1*2^{-1}+a_2*2^{-2}+\\cdots+a_n*2^{-n}$，则：重复如下过程直到剩余部分为0结束：\n",
    "> \n",
    "> $0.625*2=a_1(整数部分)+剩余小数部分=1+0.25$，\n",
    ">\n",
    "> $0.25*2=a_2(整数部分)+剩余小数部分=0+0.5$，\n",
    ">\n",
    "> $0.5*2=a_3(整数部分)+剩余整数部分=1+0$。\n",
    "\n",
    "\n",
    "计算机中是如何表示分数$1/10$？\n",
    "\n",
    "> 假设$0.1=a_1*2^{-1}+a_2*2^{-2}+\\cdots+a_n*2^{-n}$，则：重复如下过程直到剩余部分为0结束：\n",
    "> \n",
    "> $0.1*2=a_1(整数部分)+剩余小数部分=0+0.2$，\n",
    ">\n",
    "> $0.2*2=a_2(整数部分)+剩余小数部分=0+0.4$，\n",
    ">\n",
    "> $0.4*2=a_3(整数部分)+剩余小数部分=0+0.8$，\n",
    "> \n",
    "> $0.8*2=a_4(整数部分)+剩余小数部分=1+0.6$，\n",
    ">\n",
    "> $0.6*2=a_5(整数部分)+剩余小数部分=1+0.2$，\n",
    ">\n",
    "> $0.2*2=a_6(整数部分)+剩余小数部分=0+0.4$，\n",
    ">\n",
    "> $0.4*2=a_7(整数部分)+剩余小数部分=0+0.8$，\n",
    "> \n",
    "> $0.8*2=a_8(整数部分)+剩余小数部分=1+0.6$，\n",
    ">\n",
    "> $0.6*2=a_9(整数部分)+剩余小数部分=1+0.2$，\n",
    "> \n",
    "> 以此类推。\n",
    "\n",
    "\n"
   ]
  },
  {
   "cell_type": "markdown",
   "id": "c114cdd5",
   "metadata": {},
   "source": [
    "如果有4位有效数字，则可将$0.1$表示为$(0011,-101)$，等价于$3/32$，即$0.09375$。\n",
    "\n",
    "如果有5位有效数字，则可将$0.1$表示为$(11001,-1000)$，等价于$25/256$，即$0.09765625$。\n",
    "\n",
    "问题：需要多少位有效数字才能得到$0.1$的精确浮点数表示？\n",
    "\n",
    "答：无穷多位。不存在整数`sig`和`exp`使得$sig*2^{-exp}=0.1$。所以，不管Python用多少位来表示浮点数，也都只能近似地表示$0.1$。\n",
    "\n",
    "\n",
    "在大部分Python的实现里，存在53位可用的精度来表示浮点数，所以0.1对应的有效数字为$11001100110011001100110011001100110011001100110011001$\n",
    "等价于小数$0.1000000000000000055511151231257827021181583404541015625$。\n",
    "\n",
    "返回到最初的谜题，我们现在明白测试`x==0.1`的值是False，因为x被绑定的值不是精确的0.1。\n",
    "\n",
    "如果我们在else子句的末尾加上代码输出`x==10*0.1`，则会输出什么？\n",
    "\n",
    "答：它打印False，因为在循环的至少一次迭代中，Python就用完了有效数字，做了四舍五入。这跟初中老师教给我们的不一样：将0.1加10次得到的值跟$0.1*10$不一样。"
   ]
  },
  {
   "cell_type": "code",
   "execution_count": 1,
   "id": "c11be36f",
   "metadata": {},
   "outputs": [
    {
     "name": "stdout",
     "output_type": "stream",
     "text": [
      "0.9999999999999999 is not 1.0\n",
      "False\n"
     ]
    }
   ],
   "source": [
    "x = 0.0\n",
    "for i in range(10):\n",
    "    x = x + 0.1\n",
    "if x == 1.0:\n",
    "    print(x, '= 1.0')\n",
    "else:\n",
    "    print(x, 'is not 1.0')\n",
    "    print(x==10.0*0.1)"
   ]
  },
  {
   "cell_type": "markdown",
   "id": "3734ae57",
   "metadata": {},
   "source": [
    "顺便说一下，如果你想四舍五入一个浮点数，可以使用round函数。表达式`round(x, numDigits)`返回的是跟将x的值四舍五入到小数点后`numDigits`个有效数字等价的浮点数。比如，输出`round(2**0.5, 3)`将输出1.414作为2的平方根的近似值。\n",
    "\n",
    "问题：实数和浮点数之间的不同真的有关系吗？\n",
    "\n",
    "答：大部分时候没关系。有一些情形1.0是可以接受的，0.9999999999999999就是不可接受的。\n",
    "\n",
    "但是，有两件事需要注意：\n",
    "\n",
    "- 判等测试。\n",
    "\n",
    "  正如我们所看到的，使用==来比较两个浮点数值可能产生令人吃惊的结果。更合适的是问两个浮点数是不是足够地接近，而不是它们是否相等。所以，更好的方式是写上`abs(x-y)<0.0001`。\n",
    "\n",
    "- 四舍五入误差的累计问题。\n",
    "\n",
    "  大部分情形事情都运行正常，因为存储在计算机中的数有时比预期的长，有时比预期的短。但是，在一些程序里，误差会朝着同一个方向随着时间而累计。"
   ]
  },
  {
   "cell_type": "markdown",
   "id": "9c5d3490",
   "metadata": {},
   "source": [
    "## 3.5 Newton-Raphson方法\n",
    "\n",
    "大部分常用的近似算法都要归功于Isaac Newton。有时被叫做Newton法，有时被叫做Newton-Raphson法。它被用来寻找许多函数的实数根。但是，我们只在寻找单变量的多项式的实数根的背景下研究它。从数学上和算法上讲，推广到多变量的多项式都是很直接的。\n",
    "\n",
    "一个单变量多项式或者是0或者是有限多个非0项的和，比如$3x^2+2x+3$等。每一项由一个常数乘以变量x的非负整数次幂组成，比如$3x^2$等。\n",
    "一个多项式的阶是任意单个项的最高阶。比如，3是0阶多项式，$2.5x+12$是1阶多项式，$3x^2$是一个2阶多项式。作为比较，$2/x$和$x^{0.5}$都不是多项式。\n",
    "\n",
    "如果p是一个多项式，r是一个实数，则p(r)表示当x=r时，多项式p的值。\n",
    "\n",
    "多项式p的根是等式p=0的解，满足p(r)=0。\n",
    "\n",
    "所以，寻找24的平方根的问题可转换为求x使得$x^2-24=0$。\n",
    "\n",
    "Newton证明了一个定理：如果一个猜测`guess`是一个多项式根的近似，那么`guess-p(guess)/p'(guess)`是一个更好的近似，其中`p'`是p的一阶导数。\n",
    "\n",
    "对任意常数k和任意系数c，多项式$cx^2+k$的导数是2cx。比如，$x^2-k$的导数是2x。因此，我们可以通过选择下一次猜测为$y-(y^2-k)/2y$改进当前的猜测y。\n",
    "\n",
    "图3.5里举例说明了如何使用这种思路来快速地寻找一个数的平方根近似。"
   ]
  },
  {
   "cell_type": "code",
   "execution_count": 2,
   "id": "c3347076",
   "metadata": {},
   "outputs": [
    {
     "name": "stdout",
     "output_type": "stream",
     "text": [
      "Square root of 24 is about 4.8989887432139305\n"
     ]
    }
   ],
   "source": [
    "#Newton-Raphson方法求平方根\n",
    "epsilon = 0.01\n",
    "k = 24\n",
    "guess = k/2.0\n",
    "\n",
    "while abs(guess*guess - k) >= epsilon:\n",
    "    guess = guess - ((guess**2)-k)/(2*guess)\n",
    "\n",
    "print('Square root of', k, 'is about', guess)"
   ]
  },
  {
   "cell_type": "markdown",
   "id": "11141495",
   "metadata": {},
   "source": [
    "随堂练习：在`Newton-Raphson`法的实现里添加代码来追踪寻找根所需的迭代次数。使用这部分代码作为比较Newton-Raphson法和二分搜索法之间的效率程序的一部分。"
   ]
  },
  {
   "cell_type": "code",
   "execution_count": 5,
   "id": "e742d973",
   "metadata": {},
   "outputs": [
    {
     "name": "stdout",
     "output_type": "stream",
     "text": [
      "The number of iterations is 4\n",
      "Square root of 24 is about 4.8989887432139305\n"
     ]
    }
   ],
   "source": [
    "#Newton-Raphson方法求平方根\n",
    "epsilon = 0.01\n",
    "k = 24\n",
    "guess = k/2.0\n",
    "count = 0\n",
    "while abs(guess*guess - k) >= epsilon:\n",
    "    guess = guess - ((guess**2)-k)/(2*guess)\n",
    "    count = count + 1\n",
    "\n",
    "print('The number of iterations is', count)    \n",
    "print('Square root of', k, 'is about', guess)"
   ]
  },
  {
   "cell_type": "code",
   "execution_count": 8,
   "id": "5ceb4029",
   "metadata": {},
   "outputs": [
    {
     "name": "stdout",
     "output_type": "stream",
     "text": [
      "Bisection# numGuesses = 30\n",
      "Bisection# 351.36305049061775 is close to square root of 123456\n",
      "Newton-Raphson# numGuesses = 11\n",
      "Newton-Raphson# 351.3630601485824 is close to square root of 123456\n"
     ]
    }
   ],
   "source": [
    "#二分搜索法求平方根\n",
    "x = 123456\n",
    "epsilon = 0.01\n",
    "numGuesses = 0\n",
    "low = 0.0\n",
    "high = max(1.0, x)\n",
    "ans = (low + high)/2.0\n",
    "\n",
    "while x>= 0 and abs(ans**2 -x)>= epsilon:\n",
    "    numGuesses += 1\n",
    "    if ans**2 < x:\n",
    "        low = ans\n",
    "    else:\n",
    "        high = ans\n",
    "    ans = (low + high)/2.0\n",
    "    \n",
    "print('Bisection#', 'numGuesses =', numGuesses)\n",
    "print('Bisection#', ans,'is close to square root of', x)\n",
    "\n",
    "\n",
    "#Newton-Raphson方法求平方根\n",
    "epsilon = 0.01\n",
    "x = 123456\n",
    "ans = x/2.0\n",
    "numGuesses = 0\n",
    "while abs(ans*ans - x) >= epsilon:\n",
    "    ans = ans - ((ans**2)-x)/(2*ans)\n",
    "    numGuesses += 1\n",
    "\n",
    "print('Newton-Raphson#', 'numGuesses =', numGuesses)    \n",
    "print('Newton-Raphson#', ans,'is close to square root of', x)"
   ]
  }
 ],
 "metadata": {
  "kernelspec": {
   "display_name": "Python 3 (ipykernel)",
   "language": "python",
   "name": "python3"
  },
  "language_info": {
   "codemirror_mode": {
    "name": "ipython",
    "version": 3
   },
   "file_extension": ".py",
   "mimetype": "text/x-python",
   "name": "python",
   "nbconvert_exporter": "python",
   "pygments_lexer": "ipython3",
   "version": "3.9.0"
  }
 },
 "nbformat": 4,
 "nbformat_minor": 5
}
