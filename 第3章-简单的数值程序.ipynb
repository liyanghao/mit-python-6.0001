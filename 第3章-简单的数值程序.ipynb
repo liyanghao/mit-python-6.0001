{
 "cells": [
  {
   "cell_type": "markdown",
   "id": "715824a3",
   "metadata": {},
   "source": [
    "现在，我们已介绍了Python的一些基本结构，到时候考虑如何组合这些结构来编写简单的程序。在这个过程中，我们会顺带介绍更多的语言结构和一些算法技术。\n",
    "\n",
    "## 3.1 穷举法\n",
    "先看一段代码："
   ]
  },
  {
   "cell_type": "code",
   "execution_count": null,
   "id": "31a09eac",
   "metadata": {},
   "outputs": [],
   "source": [
    "#寻找一个完美立方数的立方根\n",
    "x = int(input('Enter an integer'))\n",
    "ans = 0\n",
    "\n",
    "while ans**3 < abs(x):\n",
    "    ans = ans + 1\n",
    "    \n",
    "if ans**3 != abs(x):\n",
    "    print(x, 'is not a perfect cube')\n",
    "else:\n",
    "    if x < 0:\n",
    "        ans = -ans\n",
    "    print('Cube root of', x, 'is', ans)"
   ]
  },
  {
   "cell_type": "markdown",
   "id": "44b389d5",
   "metadata": {},
   "source": [
    "哪些x值会使这个程序终止？\n",
    "\n",
    "答：所有整数。\n",
    "  - 表达式`ans**3`的值从0开始，每次迭代后变得更大。\n",
    "\n",
    "  - 当它超过abs(x)时，循环终止。\n",
    "\n",
    "  - 因为abs(x)是正的，所以在循环必须终止前只有有限次迭代。\n",
    "\n",
    "\n",
    "无论何时写循环，都应该考虑一个合适的递减函数，满足如下性质：\n",
    "- 将一组程序变量映射为一个整数；\n",
    "- 当进入循环时，它的值是非负的；\n",
    "- 当它的值小于等于0时，循环结束；\n",
    "- 每次迭代后，它的值递减；\n",
    "\n",
    "图3.1里的while循环的递减函数是什么？\n",
    "\n",
    "答：`abs(x)-ans**3`。\n",
    "\n",
    "现在，让我们插入一些错误，看看会发生什么。\n",
    "\n",
    "首先，试着注释掉语句`ans=0`。Python解释器会输出错误消息\n",
    "```\n",
    "NameError: name 'ans' is not defined\n",
    "```\n",
    "因为在被绑定到任何值以前，解释器试图去查找`ans`被绑定的值。\n",
    "\n",
    "现在，恢复`ans`的初始化，用`ans = ans`替换语句`ans=ans+1`，试着去找8的立方根。在你厌倦了等待后，键入\"control c\"。这将使你返回到shell上的用户提示符。\n",
    "\n",
    "现在，在循环的开始添加如下语句:\n",
    "```\n",
    "print('Value of the decrementing function abs(x) - ans**3 is', abs(x) - ans**3)\n",
    "```\n",
    "\n",
    "试着再次运行它。这一次，解释器会永远输出:\n",
    "```\n",
    "Value of the decrementing function abs(x) - ans**3 is 8\n",
    "```\n",
    "\n",
    "因为循环体不会减小`ans**3`跟`abs(x)`之间的差距。当面对一个似乎永远不会停止的程序时，有经验的程序员会插入`print`语句来测试递减函数的值是否在确实被递减。\n",
    "\n",
    "在这个程序里使用的算法技术是**穷举法**的变形。\n",
    "\n",
    "我们枚举所有的可能性，直到我们得到答案或者穷尽了空间的所有可能。\n",
    "\n",
    "初看，这是一种愚蠢的解决问题的方式。但是，穷举算法通常是实践中用的最多的解决问题的方式。它们很容易实现，很容易理解。而且，在大部分情况下，对所有实践目的来说，它运行的足够快。\n",
    "\n",
    "确保移除或者注释掉`print`语句，重新插入`ans=ans+1`，然后尝试求`1957816251`的立方根。程序几乎立刻完成。\n",
    "\n",
    "现在尝试`7406961012236344616`。如你所看到的，即使需要数百万唉猜测，也不是问题。\n",
    "\n",
    "现代计算机运行的很快。它花费纳秒级(一秒钟10亿次)的时间来运行。欣赏这有多快有点难。光走完1英尺花费的时间比1纳秒稍大一点。在声音传播100英尺的时间内，现代计算机可执行数百万条指令。"
   ]
  },
  {
   "cell_type": "markdown",
   "id": "a5bb222a",
   "metadata": {},
   "source": [
    "随堂测试：\n",
    "\n",
    "写一个程序，让用户输入一个整数，输出两个整数`root`、`pwr`，满足`0<pwr<6`，且`root**pwr`等于用户输入的整数。如果不存在这样的整数，它应该输出相应的消息。"
   ]
  },
  {
   "cell_type": "code",
   "execution_count": null,
   "id": "30c839d9",
   "metadata": {},
   "outputs": [],
   "source": [
    "#随堂测试\n",
    "n = int(input('Enter an integer: '))\n",
    "root = 0\n",
    "pwr = 0\n",
    "\n",
    "while (n > 0):\n",
    "    while (pwr < 6 and root**pwr != n):\n",
    "        #内层循环\n",
    "        pwr = pwr + 1\n",
    "    \n",
    "    #外层循环\n",
    "    if (root**pwr == n):\n",
    "        break\n",
    "    \n",
    "    pwr = 1\n",
    "    root = root + 1\n",
    "if (pwr == 0):\n",
    "    print('Such integers there no exists')\n",
    "else:\n",
    "    print(root, pwr)"
   ]
  },
  {
   "cell_type": "code",
   "execution_count": null,
   "id": "51484b53",
   "metadata": {},
   "outputs": [],
   "source": []
  }
 ],
 "metadata": {
  "kernelspec": {
   "display_name": "Python 3 (ipykernel)",
   "language": "python",
   "name": "python3"
  },
  "language_info": {
   "codemirror_mode": {
    "name": "ipython",
    "version": 3
   },
   "file_extension": ".py",
   "mimetype": "text/x-python",
   "name": "python",
   "nbconvert_exporter": "python",
   "pygments_lexer": "ipython3",
   "version": "3.9.0"
  }
 },
 "nbformat": 4,
 "nbformat_minor": 5
}
