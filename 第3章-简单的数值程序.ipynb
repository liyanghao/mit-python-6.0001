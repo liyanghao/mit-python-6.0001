{
 "cells": [
  {
   "cell_type": "markdown",
   "id": "4d43aa9d",
   "metadata": {},
   "source": [
    "现在，我们已介绍了Python的一些基本结构，到时候考虑如何组合这些结构来编写简单的程序。在这个过程中，我们会顺带介绍更多的语言结构和一些算法技术。\n",
    "\n",
    "## 3.1 穷举法\n",
    "先看一段代码："
   ]
  },
  {
   "cell_type": "code",
   "execution_count": null,
   "id": "5c88c9d6",
   "metadata": {},
   "outputs": [],
   "source": [
    "#寻找一个完美立方数的立方根\n",
    "x = int(input('Enter an integer'))\n",
    "ans = 0\n",
    "\n",
    "while ans**3 < abs(x):\n",
    "    ans = ans + 1\n",
    "    \n",
    "if ans**3 != abs(x):\n",
    "    print(x, 'is not a perfect cube')\n",
    "else:\n",
    "    if x < 0:\n",
    "        ans = -ans\n",
    "    print('Cube root of', x, 'is', ans)"
   ]
  },
  {
   "cell_type": "code",
   "execution_count": null,
   "id": "a1d19201",
   "metadata": {},
   "outputs": [],
   "source": []
  }
 ],
 "metadata": {
  "kernelspec": {
   "display_name": "Python 3 (ipykernel)",
   "language": "python",
   "name": "python3"
  },
  "language_info": {
   "codemirror_mode": {
    "name": "ipython",
    "version": 3
   },
   "file_extension": ".py",
   "mimetype": "text/x-python",
   "name": "python",
   "nbconvert_exporter": "python",
   "pygments_lexer": "ipython3",
   "version": "3.9.0"
  }
 },
 "nbformat": 4,
 "nbformat_minor": 5
}
